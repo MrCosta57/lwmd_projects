{
 "cells": [
  {
   "cell_type": "code",
   "execution_count": 1,
   "metadata": {},
   "outputs": [],
   "source": [
    "import pandas as pd\n",
    "import numpy as np\n",
    "from nltk.corpus import words\n",
    "from sentence_transformers import SentenceTransformer\n",
    "from sklearn.feature_extraction.text import CountVectorizer, TfidfVectorizer\n",
    "#nltk.download('words')\n",
    "#nltk.download('stopwords')\n",
    "#nltk.download('punkt')\n",
    "\n",
    "data_dir=\"datasets/\"\n",
    "dataset_name_dir=\"nfcorpus/\"\n",
    "#pd.read_csv(data_dir+dataset_name_dir+qrels/test.tsv\", sep='\\t', header=0)"
   ]
  },
  {
   "cell_type": "code",
   "execution_count": 2,
   "metadata": {},
   "outputs": [],
   "source": [
    "corpus=pd.read_json(data_dir+dataset_name_dir+\"corpus.jsonl\", lines=True)\n",
    "queries=pd.read_json(data_dir+dataset_name_dir+\"queries.jsonl\", lines=True)"
   ]
  },
  {
   "cell_type": "code",
   "execution_count": 3,
   "metadata": {},
   "outputs": [
    {
     "name": "stdout",
     "output_type": "stream",
     "text": [
      "<class 'pandas.core.frame.DataFrame'>\n",
      "RangeIndex: 3633 entries, 0 to 3632\n",
      "Data columns (total 4 columns):\n",
      " #   Column    Non-Null Count  Dtype \n",
      "---  ------    --------------  ----- \n",
      " 0   _id       3633 non-null   object\n",
      " 1   title     3633 non-null   object\n",
      " 2   text      3633 non-null   object\n",
      " 3   metadata  3633 non-null   object\n",
      "dtypes: object(4)\n",
      "memory usage: 113.7+ KB\n"
     ]
    }
   ],
   "source": [
    "corpus.info()"
   ]
  },
  {
   "cell_type": "code",
   "execution_count": 4,
   "metadata": {},
   "outputs": [
    {
     "name": "stdout",
     "output_type": "stream",
     "text": [
      "<class 'pandas.core.frame.DataFrame'>\n",
      "RangeIndex: 3237 entries, 0 to 3236\n",
      "Data columns (total 3 columns):\n",
      " #   Column    Non-Null Count  Dtype \n",
      "---  ------    --------------  ----- \n",
      " 0   _id       3237 non-null   object\n",
      " 1   text      3237 non-null   object\n",
      " 2   metadata  3237 non-null   object\n",
      "dtypes: object(3)\n",
      "memory usage: 76.0+ KB\n"
     ]
    }
   ],
   "source": [
    "queries.info()"
   ]
  },
  {
   "attachments": {},
   "cell_type": "markdown",
   "metadata": {},
   "source": [
    "### Sparse representation"
   ]
  },
  {
   "cell_type": "code",
   "execution_count": 5,
   "metadata": {},
   "outputs": [],
   "source": [
    "def compute_sparse_repr(vocab: np.array, corpus: pd.DataFrame, queries: pd.DataFrame):\n",
    "    doc_tfidf=TfidfVectorizer(lowercase=True, vocabulary=vocab, stop_words=None, token_pattern=r'\\w+')\n",
    "    q_counter=CountVectorizer(lowercase=True, vocabulary=vocab, stop_words=None, token_pattern=r'\\w+')\n",
    "\n",
    "    sparse_doc=doc_tfidf.fit_transform(corpus[\"text\"])\n",
    "    sparse_q=q_counter.fit_transform(queries[\"text\"])\n",
    "\n",
    "    return sparse_doc, sparse_q"
   ]
  },
  {
   "cell_type": "code",
   "execution_count": 6,
   "metadata": {},
   "outputs": [],
   "source": [
    "vocab=np.unique(np.char.lower(words.words()))\n",
    "sparse_doc, sparse_q=compute_sparse_repr(vocab, corpus, queries)\n",
    "\n",
    "#Here it's basically computed sparse_score=<q_sparse, d_sparse>\n",
    "queries[\"sparse_scores\"]=list(np.dot(sparse_q, sparse_doc.transpose()).toarray())"
   ]
  },
  {
   "attachments": {},
   "cell_type": "markdown",
   "metadata": {},
   "source": [
    "### Dense representation"
   ]
  },
  {
   "cell_type": "code",
   "execution_count": 7,
   "metadata": {},
   "outputs": [],
   "source": [
    "def compute_dense_repr(corpus: pd.DataFrame, queries: pd.DataFrame):\n",
    "    transformers = SentenceTransformer('sentence-transformers/all-MiniLM-L6-v2')\n",
    "    dense_c=transformers.encode(corpus[\"text\"], convert_to_numpy = True)\n",
    "    dense_q=transformers.encode(queries[\"text\"], convert_to_numpy = True)\n",
    "    \n",
    "    return dense_c, dense_q"
   ]
  },
  {
   "cell_type": "code",
   "execution_count": 8,
   "metadata": {},
   "outputs": [],
   "source": [
    "dense_c, dense_q=compute_dense_repr(corpus, queries)\n",
    "\n",
    "#Here it's basically computed dense_score=<q_dense, d_dense>\n",
    "queries[\"dense_scores\"]=list(np.dot(dense_q, dense_c.transpose()))"
   ]
  },
  {
   "cell_type": "code",
   "execution_count": 9,
   "metadata": {},
   "outputs": [
    {
     "data": {
      "text/html": [
       "<div>\n",
       "<style scoped>\n",
       "    .dataframe tbody tr th:only-of-type {\n",
       "        vertical-align: middle;\n",
       "    }\n",
       "\n",
       "    .dataframe tbody tr th {\n",
       "        vertical-align: top;\n",
       "    }\n",
       "\n",
       "    .dataframe thead th {\n",
       "        text-align: right;\n",
       "    }\n",
       "</style>\n",
       "<table border=\"1\" class=\"dataframe\">\n",
       "  <thead>\n",
       "    <tr style=\"text-align: right;\">\n",
       "      <th></th>\n",
       "      <th>_id</th>\n",
       "      <th>title</th>\n",
       "      <th>text</th>\n",
       "      <th>metadata</th>\n",
       "    </tr>\n",
       "  </thead>\n",
       "  <tbody>\n",
       "    <tr>\n",
       "      <th>0</th>\n",
       "      <td>MED-10</td>\n",
       "      <td>Statin Use and Breast Cancer Survival: A Natio...</td>\n",
       "      <td>Recent studies have suggested that statins, an...</td>\n",
       "      <td>{'url': 'http://www.ncbi.nlm.nih.gov/pubmed/25...</td>\n",
       "    </tr>\n",
       "    <tr>\n",
       "      <th>1</th>\n",
       "      <td>MED-14</td>\n",
       "      <td>Statin use after diagnosis of breast cancer an...</td>\n",
       "      <td>BACKGROUND: Preclinical studies have shown tha...</td>\n",
       "      <td>{'url': 'http://www.ncbi.nlm.nih.gov/pubmed/25...</td>\n",
       "    </tr>\n",
       "  </tbody>\n",
       "</table>\n",
       "</div>"
      ],
      "text/plain": [
       "      _id                                              title   \n",
       "0  MED-10  Statin Use and Breast Cancer Survival: A Natio...  \\\n",
       "1  MED-14  Statin use after diagnosis of breast cancer an...   \n",
       "\n",
       "                                                text   \n",
       "0  Recent studies have suggested that statins, an...  \\\n",
       "1  BACKGROUND: Preclinical studies have shown tha...   \n",
       "\n",
       "                                            metadata  \n",
       "0  {'url': 'http://www.ncbi.nlm.nih.gov/pubmed/25...  \n",
       "1  {'url': 'http://www.ncbi.nlm.nih.gov/pubmed/25...  "
      ]
     },
     "execution_count": 9,
     "metadata": {},
     "output_type": "execute_result"
    }
   ],
   "source": [
    "corpus.head(2)"
   ]
  },
  {
   "cell_type": "code",
   "execution_count": 10,
   "metadata": {},
   "outputs": [
    {
     "data": {
      "text/html": [
       "<div>\n",
       "<style scoped>\n",
       "    .dataframe tbody tr th:only-of-type {\n",
       "        vertical-align: middle;\n",
       "    }\n",
       "\n",
       "    .dataframe tbody tr th {\n",
       "        vertical-align: top;\n",
       "    }\n",
       "\n",
       "    .dataframe thead th {\n",
       "        text-align: right;\n",
       "    }\n",
       "</style>\n",
       "<table border=\"1\" class=\"dataframe\">\n",
       "  <thead>\n",
       "    <tr style=\"text-align: right;\">\n",
       "      <th></th>\n",
       "      <th>_id</th>\n",
       "      <th>text</th>\n",
       "      <th>metadata</th>\n",
       "      <th>sparse_scores</th>\n",
       "      <th>dense_scores</th>\n",
       "    </tr>\n",
       "  </thead>\n",
       "  <tbody>\n",
       "    <tr>\n",
       "      <th>0</th>\n",
       "      <td>PLAIN-3</td>\n",
       "      <td>Breast Cancer Cells Feed on Cholesterol</td>\n",
       "      <td>{'url': 'http://nutritionfacts.org/2015/07/14/...</td>\n",
       "      <td>[0.7687392942920818, 1.0108225877486743, 0.0, ...</td>\n",
       "      <td>[0.34855187, 0.37134382, 0.21230528, -0.013602...</td>\n",
       "    </tr>\n",
       "    <tr>\n",
       "      <th>1</th>\n",
       "      <td>PLAIN-4</td>\n",
       "      <td>Using Diet to Treat Asthma and Eczema</td>\n",
       "      <td>{'url': 'http://nutritionfacts.org/2015/07/09/...</td>\n",
       "      <td>[0.13288792638980879, 0.19449192345801758, 0.2...</td>\n",
       "      <td>[0.09630603, 0.067714095, 0.21574868, 0.107180...</td>\n",
       "    </tr>\n",
       "  </tbody>\n",
       "</table>\n",
       "</div>"
      ],
      "text/plain": [
       "       _id                                     text   \n",
       "0  PLAIN-3  Breast Cancer Cells Feed on Cholesterol  \\\n",
       "1  PLAIN-4    Using Diet to Treat Asthma and Eczema   \n",
       "\n",
       "                                            metadata   \n",
       "0  {'url': 'http://nutritionfacts.org/2015/07/14/...  \\\n",
       "1  {'url': 'http://nutritionfacts.org/2015/07/09/...   \n",
       "\n",
       "                                       sparse_scores   \n",
       "0  [0.7687392942920818, 1.0108225877486743, 0.0, ...  \\\n",
       "1  [0.13288792638980879, 0.19449192345801758, 0.2...   \n",
       "\n",
       "                                        dense_scores  \n",
       "0  [0.34855187, 0.37134382, 0.21230528, -0.013602...  \n",
       "1  [0.09630603, 0.067714095, 0.21574868, 0.107180...  "
      ]
     },
     "execution_count": 10,
     "metadata": {},
     "output_type": "execute_result"
    }
   ],
   "source": [
    "queries.head(2)"
   ]
  },
  {
   "attachments": {},
   "cell_type": "markdown",
   "metadata": {},
   "source": [
    "## Top k retrieval"
   ]
  },
  {
   "cell_type": "code",
   "execution_count": 11,
   "metadata": {},
   "outputs": [],
   "source": [
    "k=5\n",
    "queries[\"total_score_top_k\"]=queries[\"sparse_scores\"]+queries[\"dense_scores\"]"
   ]
  },
  {
   "cell_type": "code",
   "execution_count": 12,
   "metadata": {},
   "outputs": [],
   "source": [
    "queries[\"ground_truth_docs-score\"]=queries.apply(lambda x: (np.sort(x[\"total_score_top_k\"])[-k:], corpus.loc[np.argsort(x[\"total_score_top_k\"])[-k:], \"_id\"].values), axis=1)\n",
    "queries[\"ground_truth_docs\"]=queries[\"ground_truth_docs-score\"].apply(lambda x: x[1])\n",
    "queries[\"ground_truth_docs\"]=queries[\"ground_truth_docs\"].apply(set)"
   ]
  },
  {
   "attachments": {},
   "cell_type": "markdown",
   "metadata": {},
   "source": [
    "## Top k' retrieval (approximate case)"
   ]
  },
  {
   "cell_type": "code",
   "execution_count": 13,
   "metadata": {},
   "outputs": [],
   "source": [
    "k_prime=50\n",
    "\n",
    "queries[\"index_sparse_top_k_prime\"]=queries[\"sparse_scores\"].apply(lambda x: np.argsort(x)[-k_prime:])\n",
    "queries[\"index_dense_top_k_prime\"]=queries[\"dense_scores\"].apply(lambda x: np.argsort(x)[-k_prime:])"
   ]
  },
  {
   "cell_type": "code",
   "execution_count": 14,
   "metadata": {},
   "outputs": [],
   "source": [
    "queries[\"index_union_top_k_prime\"]=queries.apply(lambda x: np.concatenate((x[\"index_sparse_top_k_prime\"], x[\"index_dense_top_k_prime\"])), axis=1)\n",
    "queries[\"index_union_top_k_prime\"]=queries[\"index_union_top_k_prime\"].apply(np.unique)"
   ]
  },
  {
   "cell_type": "code",
   "execution_count": 15,
   "metadata": {},
   "outputs": [],
   "source": [
    "queries[\"approx_docs-score\"]=queries.apply(\n",
    "    lambda x: (np.sort(x[\"total_score_top_k\"][x[\"index_union_top_k_prime\"]])[-k:], \n",
    "               corpus.loc[np.argsort(x[\"total_score_top_k\"]), \"_id\"].values[x[\"index_union_top_k_prime\"]][-k:]), axis=1)\n",
    "\n",
    "queries[\"approx_docs\"]=queries[\"approx_docs-score\"].apply(lambda x: x[1])\n",
    "queries[\"approx_docs\"]=queries[\"approx_docs\"].apply(set)"
   ]
  },
  {
   "cell_type": "code",
   "execution_count": 16,
   "metadata": {},
   "outputs": [
    {
     "data": {
      "text/plain": [
       "array([   0,    1,   82,  530,  661,  886,  887,  890,  938,  943, 1103,\n",
       "       1104, 1130, 1144, 1237, 1363, 1369, 1371, 1373, 1374, 1377, 1378,\n",
       "       1379, 1380, 1382, 1383, 1433, 1514, 1596, 1786, 1787, 1795, 1798,\n",
       "       1864, 1980, 2078, 2200, 2202, 2207, 2276, 2284, 2294, 2314, 2315,\n",
       "       2317, 2318, 2319, 2323, 2324, 2327, 2333, 2336, 2338, 2473, 2495,\n",
       "       2501, 2503, 2518, 2560, 2605, 2614, 2769, 2772, 2776, 2789, 2790,\n",
       "       2912, 2933, 2940, 2961, 2963, 2977, 2997, 3029, 3035, 3057, 3097,\n",
       "       3166, 3255, 3319, 3361, 3366, 3429, 3431, 3581, 3591, 3592],\n",
       "      dtype=int64)"
      ]
     },
     "execution_count": 16,
     "metadata": {},
     "output_type": "execute_result"
    }
   ],
   "source": [
    "queries[\"index_union_top_k_prime\"][0]"
   ]
  },
  {
   "cell_type": "code",
   "execution_count": 30,
   "metadata": {},
   "outputs": [
    {
     "data": {
      "text/plain": [
       "0         MED-10\n",
       "1         MED-14\n",
       "82       MED-838\n",
       "530     MED-1414\n",
       "661     MED-1564\n",
       "          ...   \n",
       "3429    MED-5182\n",
       "3431    MED-5184\n",
       "3581    MED-5341\n",
       "3591    MED-5351\n",
       "3592    MED-5352\n",
       "Name: _id, Length: 87, dtype: object"
      ]
     },
     "execution_count": 30,
     "metadata": {},
     "output_type": "execute_result"
    }
   ],
   "source": [
    "\n",
    "corpus.loc[np.argsort(queries[\"total_score_top_k\"][0]), \"_id\"][queries[\"index_union_top_k_prime\"][0]][queries[\"index_union_top_k_prime\"][0]]"
   ]
  },
  {
   "cell_type": "code",
   "execution_count": 18,
   "metadata": {},
   "outputs": [
    {
     "data": {
      "text/html": [
       "<div>\n",
       "<style scoped>\n",
       "    .dataframe tbody tr th:only-of-type {\n",
       "        vertical-align: middle;\n",
       "    }\n",
       "\n",
       "    .dataframe tbody tr th {\n",
       "        vertical-align: top;\n",
       "    }\n",
       "\n",
       "    .dataframe thead th {\n",
       "        text-align: right;\n",
       "    }\n",
       "</style>\n",
       "<table border=\"1\" class=\"dataframe\">\n",
       "  <thead>\n",
       "    <tr style=\"text-align: right;\">\n",
       "      <th></th>\n",
       "      <th>_id</th>\n",
       "      <th>title</th>\n",
       "      <th>text</th>\n",
       "      <th>metadata</th>\n",
       "    </tr>\n",
       "  </thead>\n",
       "  <tbody>\n",
       "    <tr>\n",
       "      <th>1382</th>\n",
       "      <td>MED-2439</td>\n",
       "      <td>Plant Sterols as Anticancer Nutrients: Evidenc...</td>\n",
       "      <td>While many factors are involved in the etiolog...</td>\n",
       "      <td>{'url': 'http://www.ncbi.nlm.nih.gov/pubmed/23...</td>\n",
       "    </tr>\n",
       "  </tbody>\n",
       "</table>\n",
       "</div>"
      ],
      "text/plain": [
       "           _id                                              title   \n",
       "1382  MED-2439  Plant Sterols as Anticancer Nutrients: Evidenc...  \\\n",
       "\n",
       "                                                   text   \n",
       "1382  While many factors are involved in the etiolog...  \\\n",
       "\n",
       "                                               metadata  \n",
       "1382  {'url': 'http://www.ncbi.nlm.nih.gov/pubmed/23...  "
      ]
     },
     "execution_count": 18,
     "metadata": {},
     "output_type": "execute_result"
    }
   ],
   "source": [
    "corpus[corpus[\"_id\"]==\"MED-2439\"]"
   ]
  },
  {
   "cell_type": "code",
   "execution_count": 19,
   "metadata": {},
   "outputs": [
    {
     "data": {
      "text/plain": [
       "array([   0,    1,   82,  530,  661,  886,  887,  890,  938,  943, 1103,\n",
       "       1104, 1130, 1144, 1237, 1363, 1369, 1371, 1373, 1374, 1377, 1378,\n",
       "       1379, 1380, 1382, 1383, 1433, 1514, 1596, 1786, 1787, 1795, 1798,\n",
       "       1864, 1980, 2078, 2200, 2202, 2207, 2276, 2284, 2294, 2314, 2315,\n",
       "       2317, 2318, 2319, 2323, 2324, 2327, 2333, 2336, 2338, 2473, 2495,\n",
       "       2501, 2503, 2518, 2560, 2605, 2614, 2769, 2772, 2776, 2789, 2790,\n",
       "       2912, 2933, 2940, 2961, 2963, 2977, 2997, 3029, 3035, 3057, 3097,\n",
       "       3166, 3255, 3319, 3361, 3366, 3429, 3431, 3581, 3591, 3592],\n",
       "      dtype=int64)"
      ]
     },
     "execution_count": 19,
     "metadata": {},
     "output_type": "execute_result"
    }
   ],
   "source": [
    "queries[\"index_union_top_k_prime\"][0]"
   ]
  },
  {
   "attachments": {},
   "cell_type": "markdown",
   "metadata": {},
   "source": [
    "## Evaluations"
   ]
  },
  {
   "cell_type": "code",
   "execution_count": 20,
   "metadata": {},
   "outputs": [
    {
     "data": {
      "text/plain": [
       "0.08168056842755637"
      ]
     },
     "execution_count": 20,
     "metadata": {},
     "output_type": "execute_result"
    }
   ],
   "source": [
    "queries[\"recall\"]=queries.apply(lambda x: len(x['ground_truth_docs'].intersection(x[\"approx_docs\"]))/len(x['ground_truth_docs']), axis=1)\n",
    "np.mean(queries[\"recall\"])"
   ]
  },
  {
   "cell_type": "code",
   "execution_count": 21,
   "metadata": {},
   "outputs": [
    {
     "data": {
      "text/plain": [
       "array([0. , 0.2, 0.4, 0.6])"
      ]
     },
     "execution_count": 21,
     "metadata": {},
     "output_type": "execute_result"
    }
   ],
   "source": [
    "np.unique(queries[\"recall\"])"
   ]
  },
  {
   "cell_type": "code",
   "execution_count": 22,
   "metadata": {},
   "outputs": [
    {
     "data": {
      "text/plain": [
       "{'MED-14', 'MED-2103', 'MED-2437', 'MED-2439', 'MED-3551'}"
      ]
     },
     "execution_count": 22,
     "metadata": {},
     "output_type": "execute_result"
    }
   ],
   "source": [
    "queries['ground_truth_docs'][0]"
   ]
  },
  {
   "cell_type": "code",
   "execution_count": 23,
   "metadata": {},
   "outputs": [
    {
     "data": {
      "text/plain": [
       "{'MED-1414', 'MED-1826', 'MED-2153', 'MED-3447', 'MED-4714'}"
      ]
     },
     "execution_count": 23,
     "metadata": {},
     "output_type": "execute_result"
    }
   ],
   "source": [
    "queries[\"approx_docs\"][0]"
   ]
  },
  {
   "cell_type": "code",
   "execution_count": 24,
   "metadata": {},
   "outputs": [
    {
     "data": {
      "text/plain": [
       "(array([1.32654511, 1.33828799, 1.38216641, 1.3916565 , 1.42346402]),\n",
       " array(['MED-2439', 'MED-2103', 'MED-14', 'MED-2437', 'MED-3551'],\n",
       "       dtype=object))"
      ]
     },
     "execution_count": 24,
     "metadata": {},
     "output_type": "execute_result"
    }
   ],
   "source": [
    "queries['ground_truth_docs-score'][0]"
   ]
  },
  {
   "cell_type": "code",
   "execution_count": 25,
   "metadata": {},
   "outputs": [
    {
     "data": {
      "text/plain": [
       "(array([1.32654511, 1.33828799, 1.38216641, 1.3916565 , 1.42346402]),\n",
       " array(['MED-2153', 'MED-1414', 'MED-3447', 'MED-4714', 'MED-1826'],\n",
       "       dtype=object))"
      ]
     },
     "execution_count": 25,
     "metadata": {},
     "output_type": "execute_result"
    }
   ],
   "source": [
    "queries[\"approx_docs-score\"][0]"
   ]
  }
 ],
 "metadata": {
  "kernelspec": {
   "display_name": "lwmd_ass2",
   "language": "python",
   "name": "python3"
  },
  "language_info": {
   "codemirror_mode": {
    "name": "ipython",
    "version": 3
   },
   "file_extension": ".py",
   "mimetype": "text/x-python",
   "name": "python",
   "nbconvert_exporter": "python",
   "pygments_lexer": "ipython3",
   "version": "3.10.10"
  },
  "orig_nbformat": 4
 },
 "nbformat": 4,
 "nbformat_minor": 2
}
