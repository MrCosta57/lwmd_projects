{
 "cells": [
  {
   "attachments": {},
   "cell_type": "markdown",
   "metadata": {},
   "source": [
    "# Learning with Massive Data\n",
    "<p>\n",
    "Assignment 3 - Similarity search for document pairs<br>\n",
    "Giovanni Costa - 880892\n",
    "</p>\n",
    "\n",
    "<p>\n",
    "<b>SPARK VERSION</b>\n",
    "</p>"
   ]
  },
  {
   "attachments": {},
   "cell_type": "markdown",
   "metadata": {},
   "source": [
    "Contents:\n",
    "- [Document sparse representation](#doc_repr)\n",
    "- [Ground truth computation](#ground_truth)\n",
    "- [Spark implementation](#spark)"
   ]
  },
  {
   "cell_type": "code",
   "execution_count": null,
   "metadata": {},
   "outputs": [],
   "source": [
    "import os\n",
    "import numpy as np\n",
    "import pandas as pd\n",
    "import time\n",
    "from typing import List\n",
    "from utils import compute_sparse_repr, eval_sol\n",
    "from pyspark.sql import SparkSession\n",
    "from pyspark.ml.linalg import SparseVector\n",
    "from scipy.sparse import save_npz, load_npz\n",
    "import scipy.sparse\n",
    "\n",
    "os.environ['PYSPARK_PYTHON'] = 'C:\\ProgramData\\mambaforge\\envs\\ML-base\\python.exe'\n",
    "os.environ['PYSPARK_DRIVER_PYTHON'] = 'C:\\ProgramData\\mambaforge\\envs\\ML-base\\Scripts\\ipython.exe'\n",
    "\n",
    "results=\"results/\""
   ]
  },
  {
   "attachments": {},
   "cell_type": "markdown",
   "metadata": {},
   "source": [
    "<a id=\"doc_repr\"></a>\n",
    "## Document sparse representation of subset"
   ]
  },
  {
   "cell_type": "code",
   "execution_count": null,
   "metadata": {},
   "outputs": [],
   "source": [
    "datasets=[\"datasets/nfcorpus/corpus.jsonl\", \"datasets/scifact/corpus.jsonl\"]\n",
    "sample_size=1500"
   ]
  },
  {
   "cell_type": "code",
   "execution_count": null,
   "metadata": {},
   "outputs": [],
   "source": [
    "df_sampled1=pd.read_json(datasets[0], lines=True).sample(sample_size, axis=0, random_state=5)\n",
    "df_sampled2=pd.read_json(datasets[1], lines=True).sample(sample_size, axis=0, random_state=5)"
   ]
  },
  {
   "cell_type": "code",
   "execution_count": null,
   "metadata": {},
   "outputs": [],
   "source": [
    "sparse_repr_sampled1, vocab_sampled1, idf1=compute_sparse_repr(df_sampled1[\"text\"])\n",
    "sparse_repr_sampled2, vocab_sampled2, idf2=compute_sparse_repr(df_sampled2[\"text\"])"
   ]
  },
  {
   "cell_type": "code",
   "execution_count": null,
   "metadata": {},
   "outputs": [],
   "source": [
    "pd.DataFrame(df_sampled1[\"_id\"]).to_parquet(results+\"ids_nfcorpus_sampled.parquet\")\n",
    "pd.DataFrame(1/idf1, columns=[\"df_t\"]).to_parquet(results+\"doc_freq_nfcorpus_sampled.parquet\")\n",
    "save_npz(results+\"sparse_repr_nfcorpus_sampled.npz\", sparse_repr_sampled1)\n",
    "\n",
    "pd.DataFrame(df_sampled2[\"_id\"]).to_parquet(results+\"ids_scifact_sampled.parquet\")\n",
    "pd.DataFrame(1/idf2, columns=[\"df_t\"]).to_parquet(results+\"doc_freq_scifact_sampled.parquet\")\n",
    "\n",
    "save_npz(results+\"sparse_repr_scifact_sampled.npz\", sparse_repr_sampled2)\n",
    "print(\"All file saved!\")"
   ]
  },
  {
   "attachments": {},
   "cell_type": "markdown",
   "metadata": {},
   "source": [
    "<a id=\"ground_truth\"></a>\n",
    "## Ground truth computation\n",
    "<p> To trust the correctness of the parallel distributed algorithm, the results are also computed with the sequential single machine algorithm. It's anticipated that the two methods give the same correct values. </p>"
   ]
  },
  {
   "cell_type": "code",
   "execution_count": null,
   "metadata": {},
   "outputs": [],
   "source": [
    "thresholds=[0.3, 0.5, 0.8]"
   ]
  },
  {
   "cell_type": "code",
   "execution_count": null,
   "metadata": {},
   "outputs": [],
   "source": [
    "df_id1=pd.read_parquet(results+\"ids_nfcorpus_sampled.parquet\")[\"_id\"]\n",
    "df_id2=pd.read_parquet(results+\"ids_scifact_sampled.parquet\")[\"_id\"]"
   ]
  },
  {
   "cell_type": "code",
   "execution_count": null,
   "metadata": {},
   "outputs": [],
   "source": [
    "sparse_repr1=load_npz(results+\"sparse_repr_nfcorpus_sampled.npz\")\n",
    "sparse_repr2=load_npz(results+\"sparse_repr_scifact_sampled.npz\")\n",
    "print(\"sparse_repr1 shape: \", sparse_repr1.shape)\n",
    "print(\"sparse_repr2 shape: \", sparse_repr2.shape)"
   ]
  },
  {
   "cell_type": "code",
   "execution_count": null,
   "metadata": {},
   "outputs": [],
   "source": [
    "eval_sol(sparse_repr1, df_id1, thresholds, n_rep=1);"
   ]
  },
  {
   "cell_type": "code",
   "execution_count": null,
   "metadata": {},
   "outputs": [],
   "source": [
    "eval_sol(sparse_repr2, df_id2, thresholds, n_rep=1);"
   ]
  },
  {
   "attachments": {},
   "cell_type": "markdown",
   "metadata": {},
   "source": [
    "<a id=\"spark\"></a>\n",
    "## Spark implementation"
   ]
  },
  {
   "cell_type": "code",
   "execution_count": null,
   "metadata": {},
   "outputs": [],
   "source": [
    "sparse_repr1=load_npz(results+\"sparse_repr_nfcorpus_sampled.npz\")\n",
    "df_id1=pd.read_parquet(results+\"ids_nfcorpus_sampled.parquet\")[\"_id\"]\n",
    "df_t1=pd.read_parquet(results+\"doc_freq_nfcorpus_sampled.parquet\")[\"df_t\"]"
   ]
  },
  {
   "cell_type": "code",
   "execution_count": null,
   "metadata": {},
   "outputs": [],
   "source": [
    "sparse_repr2=load_npz(results+\"sparse_repr_scifact_sampled.npz\")\n",
    "df_id2=pd.read_parquet(results+\"ids_scifact_sampled.parquet\")[\"_id\"]\n",
    "df_t2=pd.read_parquet(results+\"doc_freq_scifact_sampled.parquet\")[\"df_t\"]"
   ]
  },
  {
   "cell_type": "code",
   "execution_count": null,
   "metadata": {},
   "outputs": [],
   "source": [
    "#Configuration at: https://spark.apache.org/docs/latest/configuration.html\n",
    "spark = SparkSession.builder.appName(\"MyApp\").getOrCreate()\n",
    "sc=spark.sparkContext\n",
    "spark"
   ]
  },
  {
   "cell_type": "code",
   "execution_count": null,
   "metadata": {},
   "outputs": [],
   "source": [
    "def csr_to_sparse_vector(row: scipy.sparse.spmatrix, doc_feq_sort_idx: np.ndarray | List):\n",
    "    \"\"\"\n",
    "    Convert an array in CSR format into PySpark `SparseVector` type.\n",
    "    NOTE: returned sparse representation is sorted in order of Document Frequency score, related to the TF-IDF document embedding\n",
    "    \"\"\"\n",
    "    \"\"\" dtype_tuple=np.dtype([('integer', int), ('float', float)])\n",
    "    tmp=np.empty(row.indices.shape[0], dtype=dtype_tuple)\n",
    "    j=0\n",
    "    for i in doc_feq_sort_idx:\n",
    "        if row[0, i] !=0.0:\n",
    "            tmp[j]=(i, row[0, i])\n",
    "            j+=1 \"\"\"\n",
    "    row_tmp=row.toarray().reshape(-1)\n",
    "    tmp=[(i, row_tmp[i]) for i in doc_feq_sort_idx if row_tmp[i]!=0.0]\n",
    "    return SparseVector(row.shape[1], tmp)\n",
    "\n",
    "def preprocessingForSpark(sparse_repr: scipy.sparse, df_id: pd.DataFrame, df_t: pd.DataFrame, threshold:float):\n",
    "    \"\"\"\n",
    "    Given the sparse representation `sparse_repr`, the related doc-id `df_id` and the document frequencies `df_t`\n",
    "    process the key-value pairs for doing all the PySpark computation, following MapReduce paradigm\n",
    "    \"\"\"\n",
    "    #Get the sorted index of the terms in document frequency order\n",
    "    doc_feq_sort_idx=np.argsort(df_t.values)[::-1]\n",
    "    #Compute the PySpark sparse vector\n",
    "    docs_sparse_forSpark = [csr_to_sparse_vector(sparse_repr.getrow(i), doc_feq_sort_idx) for i in range(sparse_repr.shape[0])]\n",
    "\n",
    "    doc_ids = df_id.reset_index(drop=True)\n",
    "    #Compute d* vector (useful in `b_d` function)\n",
    "    \n",
    "    #Make them in key-value pairs\n",
    "    rdd_forMap=[(doc_ids[i], (docs_sparse_forSpark[i], threshold)) for i in range(sparse_repr.shape[0])]\n",
    "\n",
    "    return rdd_forMap"
   ]
  },
  {
   "cell_type": "code",
   "execution_count": null,
   "metadata": {},
   "outputs": [],
   "source": [
    "def b_d(sparse_repr, threshold):\n",
    "    \"\"\"\n",
    "    Implementation of Prefix Filtering technique used in `my_map()` function\n",
    "    \"\"\"\n",
    "    cum_sum=0\n",
    "    res=0\n",
    "\n",
    "    for i in range(sparse_repr.indices.shape[0]):\n",
    "        j=int(i)\n",
    "        res=j\n",
    "        t=int(sparse_repr.indices[j])\n",
    "        mult_val=sparse_repr[t]*d_star_sc.value[t]\n",
    "        cum_sum+=mult_val\n",
    "        if cum_sum>=threshold:\n",
    "            res=j-1\n",
    "            break\n",
    "    return res\n",
    "\n",
    "def my_map(elem):\n",
    "    \"\"\"\n",
    "    Map the pairs according to \"MapReduce\" paradigm.\n",
    "    Takes in input a key-value pair `<doc_id, doc_representation>`.\n",
    "    Return a key-value pair `<term_id, <doc_id, doc_representation>>` using Prefix Filtering technique\n",
    "    \"\"\"\n",
    "    doc_id=elem[0]\n",
    "    sparse_repr=elem[1][0]\n",
    "    threshold=elem[1][1]\n",
    "    bound=b_d(sparse_repr, threshold)\n",
    "    result=[(t, (doc_id, sparse_repr, threshold)) for t in sparse_repr.indices[bound+1:]]\n",
    "    return result\n",
    "\n",
    "def max_of_intersection(list1, list2):\n",
    "    \"\"\"\n",
    "    Return the max value of the intersection of two sorted list.\n",
    "    \"\"\"\n",
    "    max=0\n",
    "    i = 0\n",
    "    j = 0\n",
    "    while i < len(list1) and j < len(list2):\n",
    "        elem1=list1[i]\n",
    "        elem2=list2[j]\n",
    "        if elem1 == elem2:\n",
    "            if elem1>max:\n",
    "                max=elem1\n",
    "            i += 1\n",
    "            j += 1\n",
    "        elif elem1 < elem2:\n",
    "            i += 1\n",
    "        else:\n",
    "            j += 1\n",
    "    return max\n",
    "\n",
    "def my_reduce(elem):\n",
    "    \"\"\"\n",
    "    Reduce the pairs according to \"MapReduce\" paradigm.\n",
    "    Takes in input a key-value pair `<term_id, list(<doc_id, doc_representation>)>`.\n",
    "    Return a key-value pair `<doc_id1, doc_id2, similarity(d1, d2)>`\n",
    "    \"\"\"\n",
    "    result=[]\n",
    "    pairs_dict={} #To directly prune the symmetric pairs\n",
    "    key=elem[0]\n",
    "    values=elem[1]\n",
    "    for id1, d1, threshold in values:\n",
    "        for id2, d2, _ in values:\n",
    "            if id1!=id2 and (not pairs_dict.get((id2, id1), False)) and key==max_of_intersection(d1.indices, d2.indices):\n",
    "                sim=round(d1.dot(d2), 4) #because vector are already normalized, so sim(d1,d2) it's simply the dot product\n",
    "                if sim>=threshold:\n",
    "                    pairs_dict[(id1, id2)]=True\n",
    "                    result.append((id1, id2, sim))\n",
    "\n",
    "    return result"
   ]
  },
  {
   "cell_type": "code",
   "execution_count": null,
   "metadata": {},
   "outputs": [],
   "source": [
    "d_star=sparse_repr1.max(axis=0).toarray().reshape(-1)\n",
    "d_star_sc=sc.broadcast(d_star)\n",
    "print(\"Computation of pairwise similarity for dataset1...\")\n",
    "for threshold in thresholds:\n",
    "    print(f\"Threshold: {threshold}\")\n",
    "    rdd_forMap=preprocessingForSpark(sparse_repr1, df_id1, df_t1, threshold)\n",
    "    rdd_forMap=sc.parallelize(rdd_forMap)\n",
    "\n",
    "    rdd_forReduce=rdd_forMap.flatMap(my_map)\n",
    "    result_pairs=rdd_forReduce.groupByKey().flatMap(my_reduce)\n",
    "\n",
    "    start_time = time.time()\n",
    "    num_pairs=result_pairs.count()\n",
    "    end_time = time.time()\n",
    "    elapsed_time = end_time - start_time\n",
    "\n",
    "    print(f\"N. of pairs: {num_pairs}\")\n",
    "    print(f\"Time spent: {elapsed_time}\")\n",
    "    #result_pairs.collect()"
   ]
  },
  {
   "cell_type": "code",
   "execution_count": null,
   "metadata": {},
   "outputs": [],
   "source": [
    "d_star=sparse_repr2.max(axis=0).toarray().reshape(-1)\n",
    "d_star_sc=sc.broadcast(d_star)\n",
    "print(\"Computation of pairwise similarity for dataset2...\")\n",
    "for threshold in thresholds:\n",
    "    print(f\"Threshold: {threshold}\")\n",
    "    rdd_forMap=preprocessingForSpark(sparse_repr2, df_id2, df_t2, threshold)\n",
    "    rdd_forMap=sc.parallelize(rdd_forMap)\n",
    "\n",
    "    rdd_forReduce=rdd_forMap.flatMap(my_map)\n",
    "    result_pairs=rdd_forReduce.groupByKey().flatMap(my_reduce)\n",
    "\n",
    "    start_time = time.time()\n",
    "    num_pairs=result_pairs.count()\n",
    "    end_time = time.time()\n",
    "    elapsed_time = end_time - start_time\n",
    "\n",
    "    print(f\"N. of pairs: {num_pairs}\")\n",
    "    print(f\"Time spent: {elapsed_time}\")\n",
    "    #result_pairs.collect()"
   ]
  },
  {
   "cell_type": "code",
   "execution_count": null,
   "metadata": {},
   "outputs": [],
   "source": [
    "spark.stop()"
   ]
  }
 ],
 "metadata": {
  "kernelspec": {
   "display_name": "ML-base",
   "language": "python",
   "name": "python3"
  },
  "language_info": {
   "codemirror_mode": {
    "name": "ipython",
    "version": 3
   },
   "file_extension": ".py",
   "mimetype": "text/x-python",
   "name": "python",
   "nbconvert_exporter": "python",
   "pygments_lexer": "ipython3",
   "version": "3.10.11"
  },
  "orig_nbformat": 4
 },
 "nbformat": 4,
 "nbformat_minor": 2
}
