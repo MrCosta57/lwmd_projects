{
 "cells": [
  {
   "attachments": {},
   "cell_type": "markdown",
   "metadata": {},
   "source": [
    "# Learning with Massive Data\n",
    "<p>\n",
    "Assignment 3 - Similarity search for document pairs<br>\n",
    "Giovanni Costa - 880892\n",
    "</p>\n",
    "\n",
    "<p>\n",
    "<b>SPARK VERSION</b>\n",
    "</p>"
   ]
  },
  {
   "attachments": {},
   "cell_type": "markdown",
   "metadata": {},
   "source": [
    "Contents: TODO: MODIFICARE\n",
    "- [Document sparse representation](#doc_repr)\n",
    "- [Sequential Implementation](#s_impl)\n",
    "    - [Exact similarity search](#exact_s)\n",
    "    - [Approximate similarity search](#approx_s)\n",
    "- [Evaluations](#eval)"
   ]
  },
  {
   "cell_type": "code",
   "execution_count": null,
   "metadata": {},
   "outputs": [],
   "source": [
    "import os\n",
    "import numpy as np\n",
    "import pandas as pd\n",
    "from utils import compute_sparse_repr, compute_cosine_similarity, eval_sol\n",
    "from pyspark.sql import SparkSession\n",
    "from pyspark.ml.linalg import SparseVector\n",
    "from scipy.sparse import save_npz, load_npz\n",
    "\n",
    "os.environ['PYSPARK_PYTHON'] = 'C:\\ProgramData\\mambaforge\\envs\\ML-base\\python.exe'\n",
    "os.environ['PYSPARK_DRIVER_PYTHON'] = 'C:\\ProgramData\\mambaforge\\envs\\ML-base\\Scripts\\ipython.exe'\n",
    "\n",
    "results=\"results/\""
   ]
  },
  {
   "attachments": {},
   "cell_type": "markdown",
   "metadata": {},
   "source": [
    "<a id=\"doc_repr\"></a>\n",
    "## Document sparse representation of subset"
   ]
  },
  {
   "cell_type": "code",
   "execution_count": null,
   "metadata": {},
   "outputs": [],
   "source": [
    "datasets=[\"datasets/nfcorpus/corpus.jsonl\", \"datasets/scifact/corpus.jsonl\"]"
   ]
  },
  {
   "cell_type": "code",
   "execution_count": null,
   "metadata": {},
   "outputs": [],
   "source": [
    "df_sampled1=pd.read_json(datasets[0], lines=True).sample(500, axis=0, random_state=5)\n",
    "df_sampled2=pd.read_json(datasets[1], lines=True).sample(500, axis=0, random_state=5)"
   ]
  },
  {
   "cell_type": "code",
   "execution_count": null,
   "metadata": {},
   "outputs": [],
   "source": [
    "sparse_repr_sampled1, vocab_sampled1=compute_sparse_repr(df_sampled1)\n",
    "sparse_repr_sampled2, vocab_sampled2=compute_sparse_repr(df_sampled2)"
   ]
  },
  {
   "cell_type": "code",
   "execution_count": null,
   "metadata": {},
   "outputs": [],
   "source": [
    "pd.DataFrame(df_sampled1[\"_id\"]).to_parquet(results+\"ids_nfcorpus_sampled.parquet\")\n",
    "save_npz(results+\"sparse_repr_nfcorpus_sampled.npz\", sparse_repr_sampled1)\n",
    "\n",
    "pd.DataFrame(df_sampled2[\"_id\"]).to_parquet(results+\"ids_scifact_sampled.parquet\")\n",
    "save_npz(results+\"sparse_repr_scifact_sampled.npz\", sparse_repr_sampled2)"
   ]
  },
  {
   "attachments": {},
   "cell_type": "markdown",
   "metadata": {},
   "source": [
    "## Computing ground thruth"
   ]
  },
  {
   "cell_type": "code",
   "execution_count": null,
   "metadata": {},
   "outputs": [],
   "source": [
    "thresholds=[0.3, 0.5, 0.8]\n",
    "threshold=0.2"
   ]
  },
  {
   "cell_type": "code",
   "execution_count": null,
   "metadata": {},
   "outputs": [],
   "source": [
    "df_id1=pd.read_parquet(results+\"ids_nfcorpus_sampled.parquet\")[\"_id\"]\n",
    "df_id2=pd.read_parquet(results+\"ids_scifact_sampled.parquet\")[\"_id\"]"
   ]
  },
  {
   "cell_type": "code",
   "execution_count": null,
   "metadata": {},
   "outputs": [],
   "source": [
    "sparse_repr1=load_npz(results+\"sparse_repr_nfcorpus_sampled.npz\")\n",
    "sparse_repr2=load_npz(results+\"sparse_repr_scifact_sampled.npz\")\n",
    "print(sparse_repr1.shape)\n",
    "print(sparse_repr2.shape)"
   ]
  },
  {
   "cell_type": "code",
   "execution_count": null,
   "metadata": {},
   "outputs": [],
   "source": [
    "num_of_pairs, pairs=compute_cosine_similarity(sparse_repr2, df_id2, threshold, True)"
   ]
  },
  {
   "cell_type": "code",
   "execution_count": null,
   "metadata": {},
   "outputs": [],
   "source": [
    "pairs"
   ]
  },
  {
   "cell_type": "code",
   "execution_count": null,
   "metadata": {},
   "outputs": [],
   "source": [
    "num_of_pairs"
   ]
  },
  {
   "attachments": {},
   "cell_type": "markdown",
   "metadata": {},
   "source": [
    "## Spark 1 worker"
   ]
  },
  {
   "cell_type": "code",
   "execution_count": null,
   "metadata": {},
   "outputs": [],
   "source": [
    "spark = SparkSession.builder.appName(\"MyApp\").getOrCreate()\n",
    "sc=spark.sparkContext\n",
    "spark"
   ]
  },
  {
   "cell_type": "code",
   "execution_count": null,
   "metadata": {},
   "outputs": [],
   "source": [
    "def csr_to_sparse_vector(row):\n",
    "        return SparseVector(row.shape[1], list(zip(row.indices, row.data)))\n",
    "\n",
    "def sparse_argsort(matrix, idx):\n",
    "        row=matrix.getrow(idx)\n",
    "        sorted_indices = np.argsort(row.data)[::-1]\n",
    "        return row.indices[sorted_indices].tolist() #TODO: check this\n",
    "\n",
    "def preprocessingForSpark(sparse_repr, ids):\n",
    "    docs_sparse_forSpark = [csr_to_sparse_vector(sparse_repr.getrow(i)) for i in range(sparse_repr.shape[0])]\n",
    "    sorted_index_term_doc=[sparse_argsort(sparse_repr, idx) for idx in range(sparse_repr.shape[0])]\n",
    "\n",
    "    doc_ids = ids.reset_index(drop=True)\n",
    "    d_star=sparse_repr.max(axis=0).toarray().reshape(-1)\n",
    "    #d_star=d_star/np.linalg.norm(d_star, 2)\n",
    "    \n",
    "    res_forMap=[(doc_ids[i], (docs_sparse_forSpark[i], sorted_index_term_doc[i])) for i in range(sparse_repr.shape[0])]\n",
    "\n",
    "    return res_forMap, d_star"
   ]
  },
  {
   "cell_type": "code",
   "execution_count": null,
   "metadata": {},
   "outputs": [],
   "source": [
    "res_forMap, d_star=preprocessingForSpark(sparse_repr2, df_id2)"
   ]
  },
  {
   "cell_type": "code",
   "execution_count": null,
   "metadata": {},
   "outputs": [],
   "source": [
    "\"\"\" docs_sparse_forSpark = [csr_to_sparse_vector(sparse_repr.getrow(i)) for i in range(sparse_repr.shape[0])]\n",
    "sorted_index_term_doc=[sparse_argsort(sparse_repr, idx) for idx in range(sparse_repr.shape[0])] \"\"\""
   ]
  },
  {
   "cell_type": "code",
   "execution_count": null,
   "metadata": {},
   "outputs": [],
   "source": [
    "d_star_sc=sc.broadcast(d_star)\n",
    "rdd_forMap=sc.parallelize(res_forMap)"
   ]
  },
  {
   "cell_type": "code",
   "execution_count": null,
   "metadata": {},
   "outputs": [],
   "source": [
    "def b_d(sparse_repr, term_order):\n",
    "    #print(sparse_repr)\n",
    "    sparse_repr_tmp=[sparse_repr[t] for t in term_order]\n",
    "    #print(sparse_repr_tmp)\n",
    "    d_star_tmp=[d_star_sc.value[t] for t in term_order]\n",
    "    cum_sum=0\n",
    "    index=0\n",
    "    #print()\n",
    "\n",
    "    for i in range(len(d_star_tmp)):\n",
    "        mult_val=sparse_repr_tmp[i]*d_star_tmp[i]\n",
    "        cum_sum+=mult_val\n",
    "        index=i\n",
    "        if cum_sum>=threshold:\n",
    "            index=index-1\n",
    "            break\n",
    "\n",
    "    return index\n",
    "\n",
    "\n",
    "def my_map(elem):\n",
    "    result=[]\n",
    "    doc_id=elem[0]\n",
    "    sparse_repr=elem[1][0]\n",
    "    sorted_index=elem[1][1]\n",
    "\n",
    "    for i, t_idx in enumerate(sorted_index): #TODO: check\n",
    "        if i>b_d(sparse_repr, sorted_index):\n",
    "            result.append( (t_idx, (doc_id, sparse_repr)) )\n",
    "    return result\n",
    "\n",
    "rdd_forReduce=rdd_forMap.flatMap(my_map)"
   ]
  },
  {
   "cell_type": "code",
   "execution_count": null,
   "metadata": {},
   "outputs": [],
   "source": [
    "def max_of_intersection(list1, list2):\n",
    "    max=0\n",
    "    i = 0\n",
    "    j = 0\n",
    "    while i < len(list1) and j < len(list2):\n",
    "        elem1=list1[i]\n",
    "        elem2=list2[j]\n",
    "\n",
    "        if elem1 == elem2:\n",
    "            if elem1>max:\n",
    "                max=elem1\n",
    "            i += 1\n",
    "            j += 1\n",
    "        elif elem1 < elem2:\n",
    "            i += 1\n",
    "        else:\n",
    "            j += 1\n",
    "\n",
    "    return max\n",
    "\n",
    "\n",
    "def my_reduce(elem):\n",
    "    result=[]\n",
    "    #For directly prune the symmetric pairs \n",
    "    #pairs_dict={}\n",
    "    key=elem[0]\n",
    "    values=elem[1]\n",
    "    for id1, d1 in values:\n",
    "        for id2, d2 in values:\n",
    "            if id1!=id2 and key==max_of_intersection(d1.indices, d2.indices): #and (not pairs_dict.get((id2, id1), False))\n",
    "                sim=round(d1.dot(d2), 4) #because vector are already normalized\n",
    "                if sim>=threshold:\n",
    "                    #pairs_dict[(id1, id2)]=True\n",
    "                    result.append((id1, id2, sim))\n",
    "\n",
    "    return result\n",
    "\n",
    "result_pairs=rdd_forReduce.groupByKey().flatMap(my_reduce)"
   ]
  },
  {
   "cell_type": "code",
   "execution_count": null,
   "metadata": {},
   "outputs": [],
   "source": [
    "result_pairs=result_pairs.collect()"
   ]
  },
  {
   "cell_type": "code",
   "execution_count": null,
   "metadata": {},
   "outputs": [],
   "source": [
    "result_pairs"
   ]
  },
  {
   "cell_type": "code",
   "execution_count": null,
   "metadata": {},
   "outputs": [],
   "source": [
    "unique_pairs = set()\n",
    "result = []\n",
    "for d1, d2, score in result_pairs:\n",
    "    sorted_pair = tuple(sorted((d1, d2)))\n",
    "    if sorted_pair not in unique_pairs:\n",
    "        result.append((sorted_pair[0],sorted_pair[1], score))\n",
    "        unique_pairs.add(sorted_pair)"
   ]
  },
  {
   "cell_type": "code",
   "execution_count": null,
   "metadata": {},
   "outputs": [],
   "source": [
    "sorted(result)"
   ]
  },
  {
   "cell_type": "code",
   "execution_count": null,
   "metadata": {},
   "outputs": [],
   "source": [
    "len(result)"
   ]
  },
  {
   "cell_type": "code",
   "execution_count": null,
   "metadata": {},
   "outputs": [],
   "source": [
    "spark.stop()"
   ]
  }
 ],
 "metadata": {
  "kernelspec": {
   "display_name": "ML-base",
   "language": "python",
   "name": "python3"
  },
  "language_info": {
   "codemirror_mode": {
    "name": "ipython",
    "version": 3
   },
   "file_extension": ".py",
   "mimetype": "text/x-python",
   "name": "python",
   "nbconvert_exporter": "python",
   "pygments_lexer": "ipython3",
   "version": "3.10.11"
  },
  "orig_nbformat": 4
 },
 "nbformat": 4,
 "nbformat_minor": 2
}
