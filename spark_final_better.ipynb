{
 "cells": [
  {
   "cell_type": "code",
   "execution_count": 1,
   "metadata": {},
   "outputs": [
    {
     "name": "stderr",
     "output_type": "stream",
     "text": [
      "c:\\ProgramData\\mambaforge\\envs\\ML-base\\lib\\site-packages\\pyspark\\pandas\\__init__.py:50: UserWarning: 'PYARROW_IGNORE_TIMEZONE' environment variable was not set. It is required to set this environment variable to '1' in both driver and executor sides if you use pyarrow>=2.0.0. pandas-on-Spark will set it for you but it does not work if there is a Spark context already launched.\n",
      "  warnings.warn(\n"
     ]
    },
    {
     "data": {
      "text/html": [
       "\n",
       "            <div>\n",
       "                <p><b>SparkSession - in-memory</b></p>\n",
       "                \n",
       "        <div>\n",
       "            <p><b>SparkContext</b></p>\n",
       "\n",
       "            <p><a href=\"http://192.168.1.56:4041\">Spark UI</a></p>\n",
       "\n",
       "            <dl>\n",
       "              <dt>Version</dt>\n",
       "                <dd><code>v3.4.0</code></dd>\n",
       "              <dt>Master</dt>\n",
       "                <dd><code>local[*]</code></dd>\n",
       "              <dt>AppName</dt>\n",
       "                <dd><code>MyApp</code></dd>\n",
       "            </dl>\n",
       "        </div>\n",
       "        \n",
       "            </div>\n",
       "        "
      ],
      "text/plain": [
       "<pyspark.sql.session.SparkSession at 0x18e756c7640>"
      ]
     },
     "execution_count": 1,
     "metadata": {},
     "output_type": "execute_result"
    }
   ],
   "source": [
    "import os\n",
    "import numpy as np\n",
    "import pandas as pd\n",
    "import pyspark.pandas as ps\n",
    "from pyspark.sql import SparkSession\n",
    "from pyspark.ml.linalg import SparseVector\n",
    "from scipy.sparse import load_npz\n",
    "\n",
    "\n",
    "os.environ['PYSPARK_PYTHON'] = 'C:\\ProgramData\\mambaforge\\envs\\ML-base\\python.exe'\n",
    "os.environ['PYSPARK_DRIVER_PYTHON'] = 'C:\\ProgramData\\mambaforge\\envs\\ML-base\\Scripts\\ipython.exe'\n",
    "\n",
    "spark = SparkSession.builder.appName(\"MyApp\").getOrCreate()\n",
    "sc=spark.sparkContext\n",
    "spark"
   ]
  },
  {
   "cell_type": "code",
   "execution_count": 2,
   "metadata": {},
   "outputs": [],
   "source": [
    "#df_id=pd.read_parquet(\"ids_nfcorpus.parquet\")\n",
    "#vocab=pd.read_parquet(\"terms_nfcorpus.parquet\")\n",
    "threshold=0.7"
   ]
  },
  {
   "cell_type": "code",
   "execution_count": 3,
   "metadata": {},
   "outputs": [],
   "source": [
    "from nltk.stem import PorterStemmer\n",
    "from sklearn.feature_extraction.text import TfidfVectorizer\n",
    "from sklearn.metrics.pairwise import cosine_similarity, pairwise_distances\n",
    "#Sk-learn's \"TfidfVectorizer\" extension to provide the stemming feature\n",
    "class StemmedTfidfVectorizer(TfidfVectorizer):\n",
    "    stemmer = PorterStemmer()\n",
    "    def build_analyzer(self):\n",
    "        analyzer = super(StemmedTfidfVectorizer, self).build_analyzer()\n",
    "        return lambda doc: (StemmedTfidfVectorizer.stemmer.stem(w) for w in analyzer(doc))\n",
    "    \n",
    "    \n",
    "def compute_sparse_repr(corpus: pd.DataFrame):\n",
    "    #Extract only the word and the numbers, made a lowercase transformation and usage of custom vocabulary to make representations independent\n",
    "    doc_tfidf=StemmedTfidfVectorizer(lowercase=True, stop_words=None, token_pattern=r'\\w+', binary=True)\n",
    "\n",
    "    #Computation of the sparse embedding\n",
    "    sparse_doc=doc_tfidf.fit_transform(corpus[\"text\"])\n",
    "    vocab=doc_tfidf.vocabulary_\n",
    "    \n",
    "    return sparse_doc, vocab"
   ]
  },
  {
   "cell_type": "code",
   "execution_count": 4,
   "metadata": {},
   "outputs": [],
   "source": [
    "toy_df=pd.DataFrame([[\"Hi how are you John?\", 100], [\"Hi how are you John my bro?\", 101]], columns=[\"text\", \"id\"])"
   ]
  },
  {
   "cell_type": "code",
   "execution_count": 5,
   "metadata": {},
   "outputs": [
    {
     "data": {
      "text/html": [
       "<div>\n",
       "<style scoped>\n",
       "    .dataframe tbody tr th:only-of-type {\n",
       "        vertical-align: middle;\n",
       "    }\n",
       "\n",
       "    .dataframe tbody tr th {\n",
       "        vertical-align: top;\n",
       "    }\n",
       "\n",
       "    .dataframe thead th {\n",
       "        text-align: right;\n",
       "    }\n",
       "</style>\n",
       "<table border=\"1\" class=\"dataframe\">\n",
       "  <thead>\n",
       "    <tr style=\"text-align: right;\">\n",
       "      <th></th>\n",
       "      <th>text</th>\n",
       "      <th>id</th>\n",
       "    </tr>\n",
       "  </thead>\n",
       "  <tbody>\n",
       "    <tr>\n",
       "      <th>0</th>\n",
       "      <td>Hi how are you John?</td>\n",
       "      <td>100</td>\n",
       "    </tr>\n",
       "    <tr>\n",
       "      <th>1</th>\n",
       "      <td>Hi how are you John my bro?</td>\n",
       "      <td>101</td>\n",
       "    </tr>\n",
       "  </tbody>\n",
       "</table>\n",
       "</div>"
      ],
      "text/plain": [
       "                          text   id\n",
       "0         Hi how are you John?  100\n",
       "1  Hi how are you John my bro?  101"
      ]
     },
     "execution_count": 5,
     "metadata": {},
     "output_type": "execute_result"
    }
   ],
   "source": [
    "toy_df"
   ]
  },
  {
   "cell_type": "code",
   "execution_count": 6,
   "metadata": {},
   "outputs": [],
   "source": [
    "sparse_repr, vocab=compute_sparse_repr(toy_df)"
   ]
  },
  {
   "cell_type": "code",
   "execution_count": 7,
   "metadata": {},
   "outputs": [
    {
     "name": "stdout",
     "output_type": "stream",
     "text": [
      "[[1.         0.74740735]\n",
      " [0.74740735 1.        ]]\n",
      "1.0\n"
     ]
    }
   ],
   "source": [
    "cosine_scores=cosine_similarity(sparse_repr)\n",
    "print(cosine_scores)\n",
    "np.fill_diagonal(cosine_scores, -1)\n",
    "num_of_pairs=(cosine_scores>=threshold).sum()/2\n",
    "print(num_of_pairs)"
   ]
  },
  {
   "cell_type": "code",
   "execution_count": 8,
   "metadata": {},
   "outputs": [],
   "source": [
    "#sparse_repr=load_npz(\"sparse_repr_nfcorpus.npz\")"
   ]
  },
  {
   "cell_type": "code",
   "execution_count": 9,
   "metadata": {},
   "outputs": [],
   "source": [
    "def csr_to_sparse_vector(row):\n",
    "    return SparseVector(row.shape[1], list(zip(row.indices, row.data)))\n",
    "\n",
    "docs_sparse_forSpark = [csr_to_sparse_vector(sparse_repr.getrow(i)) for i in range(sparse_repr.shape[0])]\n",
    "doc_ids = toy_df[\"id\"] #df_id[\"_id\"]"
   ]
  },
  {
   "cell_type": "code",
   "execution_count": 10,
   "metadata": {},
   "outputs": [],
   "source": [
    "def sparse_argsort(matrix, idx):\n",
    "    row=matrix.getrow(idx)\n",
    "    sorted_indices = np.argsort(row.data)[::-1]\n",
    "    return row.indices[sorted_indices].tolist()\n",
    "sorted_index_term_doc=[sparse_argsort(sparse_repr, idx) for idx in range(sparse_repr.shape[0])]"
   ]
  },
  {
   "cell_type": "code",
   "execution_count": 11,
   "metadata": {},
   "outputs": [
    {
     "data": {
      "text/plain": [
       "array([[0.4472136 , 0.        , 0.4472136 , 0.4472136 , 0.4472136 ,\n",
       "        0.        , 0.4472136 ],\n",
       "       [0.33425073, 0.46977774, 0.33425073, 0.33425073, 0.33425073,\n",
       "        0.46977774, 0.33425073]])"
      ]
     },
     "execution_count": 11,
     "metadata": {},
     "output_type": "execute_result"
    }
   ],
   "source": [
    "sparse_repr.toarray()"
   ]
  },
  {
   "cell_type": "code",
   "execution_count": 12,
   "metadata": {},
   "outputs": [
    {
     "data": {
      "text/plain": [
       "[[2, 3, 0, 6, 4], [5, 1, 2, 3, 0, 6, 4]]"
      ]
     },
     "execution_count": 12,
     "metadata": {},
     "output_type": "execute_result"
    }
   ],
   "source": [
    "sorted_index_term_doc"
   ]
  },
  {
   "cell_type": "code",
   "execution_count": 13,
   "metadata": {},
   "outputs": [],
   "source": [
    "#TODO check if is right\n",
    "d_star=sparse_repr.max(axis=0).toarray().reshape(-1)"
   ]
  },
  {
   "cell_type": "code",
   "execution_count": 14,
   "metadata": {},
   "outputs": [],
   "source": [
    "d_star_sc=sc.broadcast(d_star)\n",
    "rdd_forMap=sc.parallelize([(doc_ids[i], (docs_sparse_forSpark[i], sorted_index_term_doc[i])) for i in range(sparse_repr.shape[0])])"
   ]
  },
  {
   "cell_type": "code",
   "execution_count": 15,
   "metadata": {},
   "outputs": [
    {
     "data": {
      "text/plain": [
       "array([0.4472136 , 0.46977774, 0.4472136 , 0.4472136 , 0.4472136 ,\n",
       "       0.46977774, 0.4472136 ])"
      ]
     },
     "execution_count": 15,
     "metadata": {},
     "output_type": "execute_result"
    }
   ],
   "source": [
    "d_star"
   ]
  },
  {
   "attachments": {},
   "cell_type": "markdown",
   "metadata": {},
   "source": [
    "Map( (doc_id, (doc, sorted_index_term_doc, b_d)) )\n",
    "    return (index_term, (doc_id, doc) )\n",
    "\n",
    "GroupBy: done by Spark\n",
    "\n",
    "Reduce( (index_term,  list( (doc_id, doc) )) )\n",
    "\n"
   ]
  },
  {
   "cell_type": "code",
   "execution_count": 16,
   "metadata": {},
   "outputs": [],
   "source": [
    "def b_d(sparse_repr, term_order):\n",
    "    #print(sparse_repr)\n",
    "    sparse_repr_tmp=[sparse_repr[t] for t in term_order]\n",
    "    #print(sparse_repr_tmp)\n",
    "    d_star_tmp=[d_star_sc.value[t] for t in term_order]\n",
    "    cum_sum=0\n",
    "    index=0\n",
    "    #print()\n",
    "\n",
    "    for i in range(len(d_star_tmp)):\n",
    "        mult_val=sparse_repr_tmp[i]*d_star_tmp[i]\n",
    "        index=i\n",
    "        if cum_sum+mult_val>=threshold:\n",
    "            index=index-1\n",
    "            break\n",
    "        cum_sum+=mult_val\n",
    "\n",
    "    return index\n",
    "\n",
    "\n",
    "def my_map(elem):\n",
    "    result=[]\n",
    "    doc_id=elem[0]\n",
    "    sparse_repr=elem[1][0]\n",
    "    sorted_index=elem[1][1]\n",
    "\n",
    "    for i, t_idx in enumerate(sorted_index):\n",
    "        if i>b_d(sparse_repr, sorted_index):\n",
    "            result.append( (t_idx, (doc_id, sparse_repr)) )\n",
    "    return result\n",
    "\n",
    "rdd_forReduce=rdd_forMap.flatMap(my_map)\n",
    "#iter=map(my_map, rdd_forMap)"
   ]
  },
  {
   "cell_type": "code",
   "execution_count": 17,
   "metadata": {},
   "outputs": [],
   "source": [
    "#for i in iter:\n",
    "#    print()"
   ]
  },
  {
   "cell_type": "code",
   "execution_count": 18,
   "metadata": {},
   "outputs": [],
   "source": [
    "tmp=rdd_forReduce.collect()"
   ]
  },
  {
   "cell_type": "code",
   "execution_count": 19,
   "metadata": {},
   "outputs": [
    {
     "data": {
      "text/plain": [
       "[(6,\n",
       "  (100,\n",
       "   SparseVector(7, {0: 0.4472, 2: 0.4472, 3: 0.4472, 4: 0.4472, 6: 0.4472}))),\n",
       " (4,\n",
       "  (100,\n",
       "   SparseVector(7, {0: 0.4472, 2: 0.4472, 3: 0.4472, 4: 0.4472, 6: 0.4472}))),\n",
       " (3,\n",
       "  (101,\n",
       "   SparseVector(7, {0: 0.3343, 1: 0.4698, 2: 0.3343, 3: 0.3343, 4: 0.3343, 5: 0.4698, 6: 0.3343}))),\n",
       " (0,\n",
       "  (101,\n",
       "   SparseVector(7, {0: 0.3343, 1: 0.4698, 2: 0.3343, 3: 0.3343, 4: 0.3343, 5: 0.4698, 6: 0.3343}))),\n",
       " (6,\n",
       "  (101,\n",
       "   SparseVector(7, {0: 0.3343, 1: 0.4698, 2: 0.3343, 3: 0.3343, 4: 0.3343, 5: 0.4698, 6: 0.3343}))),\n",
       " (4,\n",
       "  (101,\n",
       "   SparseVector(7, {0: 0.3343, 1: 0.4698, 2: 0.3343, 3: 0.3343, 4: 0.3343, 5: 0.4698, 6: 0.3343})))]"
      ]
     },
     "execution_count": 19,
     "metadata": {},
     "output_type": "execute_result"
    }
   ],
   "source": [
    "tmp"
   ]
  },
  {
   "cell_type": "code",
   "execution_count": 20,
   "metadata": {},
   "outputs": [
    {
     "data": {
      "text/plain": [
       "{'hi': 2, 'how': 3, 'are': 0, 'you': 6, 'john': 4, 'my': 5, 'bro': 1}"
      ]
     },
     "execution_count": 20,
     "metadata": {},
     "output_type": "execute_result"
    }
   ],
   "source": [
    "vocab"
   ]
  },
  {
   "cell_type": "code",
   "execution_count": 21,
   "metadata": {},
   "outputs": [],
   "source": [
    "def max_of_intersection(list1, list2):\n",
    "    max=0\n",
    "    i = 0\n",
    "    j = 0\n",
    "    while i < len(list1) and j < len(list2):\n",
    "        elem1=list1[i]\n",
    "        elem2=list2[j]\n",
    "\n",
    "        if elem1 == elem2:\n",
    "            if elem1>max:\n",
    "                max=elem1\n",
    "            i += 1\n",
    "            j += 1\n",
    "        elif elem1 < elem2:\n",
    "            i += 1\n",
    "        else:\n",
    "            j += 1\n",
    "\n",
    "    return max\n",
    "\n",
    "def my_reduce(elem):\n",
    "    result=[]\n",
    "    pairs_dict={}\n",
    "    for id1, d1 in elem[1]:\n",
    "        for id2, d2 in elem[1]:\n",
    "            if id1!=id2 and (not pairs_dict.get((id2, id1), False)) and elem[0]==max_of_intersection(d1.indices, d2.indices):\n",
    "                \n",
    "                sim=d1.dot(d2)/(d1.norm(2)*d2.norm(2))\n",
    "                if sim>=threshold:\n",
    "                    pairs_dict[(id1, id2)]=True\n",
    "                    result.append((id1, id2, sim))\n",
    "    return result\n",
    "                \n",
    "from collections import OrderedDict\n",
    "\n",
    "def reduce_by_key(ls):\n",
    "    d = OrderedDict()\n",
    "    for key, sublist in ls:\n",
    "        d.setdefault(key, []).extend([sublist])\n",
    "    return list(d.items())\n",
    "iter=reduce_by_key(tmp)"
   ]
  },
  {
   "cell_type": "code",
   "execution_count": 22,
   "metadata": {},
   "outputs": [],
   "source": [
    "res=map(my_reduce, iter)"
   ]
  },
  {
   "cell_type": "code",
   "execution_count": 23,
   "metadata": {},
   "outputs": [],
   "source": [
    "lista=[]\n",
    "for e in res:\n",
    "    lista.append(e)\n"
   ]
  },
  {
   "cell_type": "code",
   "execution_count": 24,
   "metadata": {},
   "outputs": [
    {
     "data": {
      "text/plain": [
       "[[(100, 101, 0.7474073540060464)], [], [], []]"
      ]
     },
     "execution_count": 24,
     "metadata": {},
     "output_type": "execute_result"
    }
   ],
   "source": [
    "lista"
   ]
  },
  {
   "cell_type": "code",
   "execution_count": 25,
   "metadata": {},
   "outputs": [
    {
     "ename": "NameError",
     "evalue": "name 'a' is not defined",
     "output_type": "error",
     "traceback": [
      "\u001b[1;31m---------------------------------------------------------------------------\u001b[0m",
      "\u001b[1;31mNameError\u001b[0m                                 Traceback (most recent call last)",
      "Cell \u001b[1;32mIn[25], line 1\u001b[0m\n\u001b[1;32m----> 1\u001b[0m a\n",
      "\u001b[1;31mNameError\u001b[0m: name 'a' is not defined"
     ]
    }
   ],
   "source": [
    "a"
   ]
  },
  {
   "cell_type": "code",
   "execution_count": null,
   "metadata": {},
   "outputs": [],
   "source": [
    "spark.stop()"
   ]
  }
 ],
 "metadata": {
  "kernelspec": {
   "display_name": "ML-base",
   "language": "python",
   "name": "python3"
  },
  "language_info": {
   "codemirror_mode": {
    "name": "ipython",
    "version": 3
   },
   "file_extension": ".py",
   "mimetype": "text/x-python",
   "name": "python",
   "nbconvert_exporter": "python",
   "pygments_lexer": "ipython3",
   "version": "3.10.11"
  },
  "orig_nbformat": 4
 },
 "nbformat": 4,
 "nbformat_minor": 2
}
