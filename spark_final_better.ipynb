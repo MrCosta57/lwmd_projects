{
 "cells": [
  {
   "cell_type": "code",
   "execution_count": 1,
   "metadata": {},
   "outputs": [
    {
     "data": {
      "text/html": [
       "\n",
       "            <div>\n",
       "                <p><b>SparkSession - in-memory</b></p>\n",
       "                \n",
       "        <div>\n",
       "            <p><b>SparkContext</b></p>\n",
       "\n",
       "            <p><a href=\"http://192.168.178.100:4040\">Spark UI</a></p>\n",
       "\n",
       "            <dl>\n",
       "              <dt>Version</dt>\n",
       "                <dd><code>v3.4.0</code></dd>\n",
       "              <dt>Master</dt>\n",
       "                <dd><code>local[*]</code></dd>\n",
       "              <dt>AppName</dt>\n",
       "                <dd><code>MyApp</code></dd>\n",
       "            </dl>\n",
       "        </div>\n",
       "        \n",
       "            </div>\n",
       "        "
      ],
      "text/plain": [
       "<pyspark.sql.session.SparkSession at 0x2235c337eb0>"
      ]
     },
     "execution_count": 1,
     "metadata": {},
     "output_type": "execute_result"
    }
   ],
   "source": [
    "import os\n",
    "import numpy as np\n",
    "import pandas as pd\n",
    "from pyspark.sql import SparkSession\n",
    "from pyspark.ml.linalg import SparseVector\n",
    "from scipy.sparse import load_npz\n",
    "import utils\n",
    "\n",
    "\n",
    "os.environ['PYSPARK_PYTHON'] = 'C:\\ProgramData\\mambaforge\\envs\\ML-base\\python.exe'\n",
    "os.environ['PYSPARK_DRIVER_PYTHON'] = 'C:\\ProgramData\\mambaforge\\envs\\ML-base\\Scripts\\ipython.exe'\n",
    "\n",
    "spark = SparkSession.builder.appName(\"MyApp\").getOrCreate()\n",
    "sc=spark.sparkContext\n",
    "spark"
   ]
  },
  {
   "cell_type": "code",
   "execution_count": 2,
   "metadata": {},
   "outputs": [],
   "source": [
    "#df_id=pd.read_parquet(\"ids_nfcorpus.parquet\")\n",
    "threshold=0.5"
   ]
  },
  {
   "cell_type": "code",
   "execution_count": 3,
   "metadata": {},
   "outputs": [],
   "source": [
    "toy_df=pd.DataFrame([[\"Hi how are you John?\", 100], [\"Hi how are you John my bro?\", 101], [\"Bro, what girls?\", 102]], columns=[\"text\", \"id\"])"
   ]
  },
  {
   "cell_type": "code",
   "execution_count": 4,
   "metadata": {},
   "outputs": [
    {
     "data": {
      "text/html": [
       "<div>\n",
       "<style scoped>\n",
       "    .dataframe tbody tr th:only-of-type {\n",
       "        vertical-align: middle;\n",
       "    }\n",
       "\n",
       "    .dataframe tbody tr th {\n",
       "        vertical-align: top;\n",
       "    }\n",
       "\n",
       "    .dataframe thead th {\n",
       "        text-align: right;\n",
       "    }\n",
       "</style>\n",
       "<table border=\"1\" class=\"dataframe\">\n",
       "  <thead>\n",
       "    <tr style=\"text-align: right;\">\n",
       "      <th></th>\n",
       "      <th>text</th>\n",
       "      <th>id</th>\n",
       "    </tr>\n",
       "  </thead>\n",
       "  <tbody>\n",
       "    <tr>\n",
       "      <th>0</th>\n",
       "      <td>Hi how are you John?</td>\n",
       "      <td>100</td>\n",
       "    </tr>\n",
       "    <tr>\n",
       "      <th>1</th>\n",
       "      <td>Hi how are you John my bro?</td>\n",
       "      <td>101</td>\n",
       "    </tr>\n",
       "    <tr>\n",
       "      <th>2</th>\n",
       "      <td>Bro, what girls?</td>\n",
       "      <td>102</td>\n",
       "    </tr>\n",
       "  </tbody>\n",
       "</table>\n",
       "</div>"
      ],
      "text/plain": [
       "                          text   id\n",
       "0         Hi how are you John?  100\n",
       "1  Hi how are you John my bro?  101\n",
       "2             Bro, what girls?  102"
      ]
     },
     "execution_count": 4,
     "metadata": {},
     "output_type": "execute_result"
    }
   ],
   "source": [
    "toy_df"
   ]
  },
  {
   "cell_type": "code",
   "execution_count": 5,
   "metadata": {},
   "outputs": [
    {
     "name": "stdout",
     "output_type": "stream",
     "text": [
      "[[1.     0.8043 0.    ]\n",
      " [0.8043 1.     0.1704]\n",
      " [0.     0.1704 1.    ]]\n"
     ]
    },
    {
     "data": {
      "text/plain": [
       "[(100, 101, 0.8043), (100, 102, 0.0), (101, 102, 0.1704)]"
      ]
     },
     "execution_count": 5,
     "metadata": {},
     "output_type": "execute_result"
    }
   ],
   "source": [
    "sparse_repr, _=utils.compute_sparse_repr(toy_df[\"text\"])\n",
    "pairs, num_of_pairs=utils.compute_cosine_similarity(sparse_repr, toy_df[\"id\"], 0.0)\n",
    "pairs"
   ]
  },
  {
   "cell_type": "code",
   "execution_count": 6,
   "metadata": {},
   "outputs": [
    {
     "data": {
      "text/plain": [
       "3"
      ]
     },
     "execution_count": 6,
     "metadata": {},
     "output_type": "execute_result"
    }
   ],
   "source": [
    "num_of_pairs"
   ]
  },
  {
   "cell_type": "code",
   "execution_count": 7,
   "metadata": {},
   "outputs": [],
   "source": [
    "def csr_to_sparse_vector(row):\n",
    "    return SparseVector(row.shape[1], list(zip(row.indices, row.data)))\n",
    "\n",
    "docs_sparse_forSpark = [csr_to_sparse_vector(sparse_repr.getrow(i)) for i in range(sparse_repr.shape[0])]\n",
    "doc_ids = toy_df[\"id\"].reset_index(drop=True)"
   ]
  },
  {
   "cell_type": "code",
   "execution_count": 8,
   "metadata": {},
   "outputs": [
    {
     "data": {
      "text/plain": [
       "SparseVector(9, {0: 0.3597, 1: 0.3597, 3: 0.3597, 4: 0.3597, 5: 0.3597, 6: 0.473, 8: 0.3597})"
      ]
     },
     "execution_count": 8,
     "metadata": {},
     "output_type": "execute_result"
    }
   ],
   "source": [
    "docs_sparse_forSpark[1]"
   ]
  },
  {
   "cell_type": "code",
   "execution_count": 9,
   "metadata": {},
   "outputs": [
    {
     "name": "stdout",
     "output_type": "stream",
     "text": [
      "[1 6 5 8 0 4 3]\n",
      "[0.35970039 0.47296278 0.35970039 0.35970039 0.35970039 0.35970039\n",
      " 0.35970039]\n"
     ]
    }
   ],
   "source": [
    "print(sparse_repr[1].indices)\n",
    "print(sparse_repr[1].data)"
   ]
  },
  {
   "cell_type": "code",
   "execution_count": 10,
   "metadata": {},
   "outputs": [
    {
     "data": {
      "text/plain": [
       "0.47296278161597527"
      ]
     },
     "execution_count": 10,
     "metadata": {},
     "output_type": "execute_result"
    }
   ],
   "source": [
    "sparse_repr[1,6]"
   ]
  },
  {
   "cell_type": "code",
   "execution_count": 11,
   "metadata": {},
   "outputs": [
    {
     "data": {
      "text/plain": [
       "array([[0.35970039, 0.35970039, 0.        , 0.35970039, 0.35970039,\n",
       "        0.35970039, 0.47296278, 0.        , 0.35970039]])"
      ]
     },
     "execution_count": 11,
     "metadata": {},
     "output_type": "execute_result"
    }
   ],
   "source": [
    "sparse_repr[1].toarray()"
   ]
  },
  {
   "cell_type": "code",
   "execution_count": 12,
   "metadata": {},
   "outputs": [],
   "source": [
    "def sparse_argsort(matrix, idx):\n",
    "    row=matrix.getrow(idx)\n",
    "    sorted_indices = np.argsort(row.data)[::-1]\n",
    "    return row.indices[sorted_indices].tolist()\n",
    "sorted_index_term_doc=[sparse_argsort(sparse_repr, idx) for idx in range(sparse_repr.shape[0])]"
   ]
  },
  {
   "cell_type": "code",
   "execution_count": 13,
   "metadata": {},
   "outputs": [
    {
     "data": {
      "text/plain": [
       "[[3, 4, 0, 8, 5], [6, 3, 4, 0, 8, 5, 1], [7, 2, 1]]"
      ]
     },
     "execution_count": 13,
     "metadata": {},
     "output_type": "execute_result"
    }
   ],
   "source": [
    "sorted_index_term_doc"
   ]
  },
  {
   "cell_type": "code",
   "execution_count": 14,
   "metadata": {},
   "outputs": [],
   "source": [
    "d_star=sparse_repr.max(axis=0).toarray().reshape(-1)"
   ]
  },
  {
   "cell_type": "code",
   "execution_count": 15,
   "metadata": {},
   "outputs": [
    {
     "data": {
      "text/plain": [
       "array([[0.4472136 , 0.        , 0.        , 0.4472136 , 0.4472136 ,\n",
       "        0.4472136 , 0.        , 0.        , 0.4472136 ],\n",
       "       [0.35970039, 0.35970039, 0.        , 0.35970039, 0.35970039,\n",
       "        0.35970039, 0.47296278, 0.        , 0.35970039],\n",
       "       [0.        , 0.4736296 , 0.62276601, 0.        , 0.        ,\n",
       "        0.        , 0.        , 0.62276601, 0.        ]])"
      ]
     },
     "execution_count": 15,
     "metadata": {},
     "output_type": "execute_result"
    }
   ],
   "source": [
    "sparse_repr.toarray()"
   ]
  },
  {
   "cell_type": "code",
   "execution_count": 16,
   "metadata": {},
   "outputs": [
    {
     "data": {
      "text/plain": [
       "array([[0.4472136 ],\n",
       "       [0.35970039],\n",
       "       [0.        ]])"
      ]
     },
     "execution_count": 16,
     "metadata": {},
     "output_type": "execute_result"
    }
   ],
   "source": [
    "sparse_repr[:,8].toarray()"
   ]
  },
  {
   "cell_type": "code",
   "execution_count": 17,
   "metadata": {},
   "outputs": [
    {
     "data": {
      "text/plain": [
       "array([0.4472136 , 0.4736296 , 0.62276601, 0.4472136 , 0.4472136 ,\n",
       "       0.4472136 , 0.47296278, 0.62276601, 0.4472136 ])"
      ]
     },
     "execution_count": 17,
     "metadata": {},
     "output_type": "execute_result"
    }
   ],
   "source": [
    "d_star\n",
    "#{0: 0.4472, 3: 0.4472, 4: 0.4472, 5: 0.4472, 8: 0.4472})\n",
    "##[3, 4, 0, 8, 5]"
   ]
  },
  {
   "cell_type": "code",
   "execution_count": 18,
   "metadata": {},
   "outputs": [],
   "source": [
    "d_star_sc=sc.broadcast(d_star)\n",
    "rdd_forMap=sc.parallelize([(doc_ids[i], (docs_sparse_forSpark[i], sorted_index_term_doc[i])) for i in range(sparse_repr.shape[0])])"
   ]
  },
  {
   "cell_type": "code",
   "execution_count": 19,
   "metadata": {},
   "outputs": [],
   "source": [
    "def b_d(sparse_repr, term_order):\n",
    "    sparse_repr_tmp=[sparse_repr[t] for t in term_order]\n",
    "    d_star_tmp=[d_star_sc.value[t] for t in term_order]\n",
    "    cum_sum=0\n",
    "    index=0\n",
    "\n",
    "    for i in range(len(d_star_tmp)):\n",
    "        mult_val=sparse_repr_tmp[i]*d_star_tmp[i]\n",
    "        cum_sum+=mult_val\n",
    "        index=i\n",
    "        if cum_sum>=threshold:\n",
    "            index=index-1\n",
    "            break\n",
    "    #print(index, term_order[index])\n",
    "    return index\n",
    "\n",
    "\n",
    "def my_map(elem):\n",
    "    #result=[]\n",
    "    doc_id=elem[0]\n",
    "    sparse_repr=elem[1][0]\n",
    "    sorted_index=elem[1][1]\n",
    "\n",
    "    bound=b_d(sparse_repr, sorted_index)\n",
    "    result=[((t_idx, (doc_id, sparse_repr))) for t_idx in sorted_index[bound+1::]]\n",
    "\n",
    "    \"\"\" for i, t_idx in enumerate(sorted_index):\n",
    "        if i>bound:\n",
    "            result.append( (t_idx, (doc_id, sparse_repr)) ) \"\"\"\n",
    "    return result\n",
    "\n",
    "rdd_forReduce=rdd_forMap.flatMap(my_map)\n"
   ]
  },
  {
   "cell_type": "code",
   "execution_count": 20,
   "metadata": {},
   "outputs": [
    {
     "data": {
      "text/plain": [
       "' from itertools import chain\\n\\ndef flatmap(func, iterable):\\n    return list(chain.from_iterable(map(func, iterable)))\\n\\niter=flatmap(my_map, rdd_forMap) '"
      ]
     },
     "execution_count": 20,
     "metadata": {},
     "output_type": "execute_result"
    }
   ],
   "source": [
    "\"\"\" from itertools import chain\n",
    "\n",
    "def flatmap(func, iterable):\n",
    "    return list(chain.from_iterable(map(func, iterable)))\n",
    "\n",
    "iter=flatmap(my_map, rdd_forMap) \"\"\""
   ]
  },
  {
   "cell_type": "code",
   "execution_count": 21,
   "metadata": {},
   "outputs": [],
   "source": [
    "#iter"
   ]
  },
  {
   "cell_type": "code",
   "execution_count": 22,
   "metadata": {},
   "outputs": [
    {
     "data": {
      "text/plain": [
       "0.804314515185695"
      ]
     },
     "execution_count": 22,
     "metadata": {},
     "output_type": "execute_result"
    }
   ],
   "source": [
    "docs_sparse_forSpark[0].dot(docs_sparse_forSpark[1])"
   ]
  },
  {
   "cell_type": "code",
   "execution_count": 23,
   "metadata": {},
   "outputs": [
    {
     "data": {
      "text/plain": [
       "' from itertools import groupby\\ngrouped_data = groupby(iter, key=lambda x: x[0])\\n\\nfor key, group in grouped_data:\\n    pairs = list(group)\\n    #print(pairs)\\n    #print([e[1] for e in pairs])\\n    print(my_reduce((key, [e[1] for e in pairs]))) '"
      ]
     },
     "execution_count": 23,
     "metadata": {},
     "output_type": "execute_result"
    }
   ],
   "source": [
    "def max_of_intersection(list1, list2):\n",
    "    max=0\n",
    "    i = 0\n",
    "    j = 0\n",
    "    while i < len(list1) and j < len(list2):\n",
    "        elem1=list1[i]\n",
    "        elem2=list2[j]\n",
    "\n",
    "        if elem1 == elem2:\n",
    "            if elem1>max:\n",
    "                max=elem1\n",
    "            i += 1\n",
    "            j += 1\n",
    "        elif elem1 < elem2:\n",
    "            i += 1\n",
    "        else:\n",
    "            j += 1\n",
    "\n",
    "    return max\n",
    "\n",
    "\n",
    "def my_reduce(elem):\n",
    "    result=[]\n",
    "    #For directly prune the symmetric pairs \n",
    "    #pairs_dict={}\n",
    "    key=elem[0]\n",
    "    values=elem[1]\n",
    "    print(values)\n",
    "    for id1, d1 in values:\n",
    "        for id2, d2 in values:\n",
    "            \n",
    "            #print(\"CIAO\", (id1,id2))\n",
    "            #print(key, d1.indices, d2.indices)\n",
    "            if id1!=id2 and key==max_of_intersection(d1.indices, d2.indices): #and (not pairs_dict.get((id2, id1), False))\n",
    "                sim=round(d1.dot(d2), 4)\n",
    "                #because vector are already normalized\n",
    "                if sim>=threshold:\n",
    "                    #pairs_dict[(id1, id2)]=True\n",
    "                    result.append((id1, id2, sim))\n",
    "\n",
    "    return result\n",
    "\n",
    "#result_pairs=rdd_forReduce.groupByKey().flatMap(my_reduce)\n",
    "\n",
    "\n",
    "\"\"\" from itertools import groupby\n",
    "grouped_data = groupby(iter, key=lambda x: x[0])\n",
    "\n",
    "for key, group in grouped_data:\n",
    "    pairs = list(group)\n",
    "    #print(pairs)\n",
    "    #print([e[1] for e in pairs])\n",
    "    print(my_reduce((key, [e[1] for e in pairs]))) \"\"\"\n"
   ]
  },
  {
   "cell_type": "code",
   "execution_count": 24,
   "metadata": {},
   "outputs": [
    {
     "name": "stdout",
     "output_type": "stream",
     "text": [
      "[(100, 101, 0.8043), (101, 100, 0.8043)]\n"
     ]
    }
   ],
   "source": [
    "risultato=rdd_forReduce.groupByKey().mapValues(list).flatMap(my_reduce).collect()\n",
    "print(risultato)"
   ]
  },
  {
   "cell_type": "code",
   "execution_count": 25,
   "metadata": {},
   "outputs": [
    {
     "data": {
      "text/plain": [
       "2"
      ]
     },
     "execution_count": 25,
     "metadata": {},
     "output_type": "execute_result"
    }
   ],
   "source": [
    "len(risultato)"
   ]
  },
  {
   "cell_type": "code",
   "execution_count": 26,
   "metadata": {},
   "outputs": [],
   "source": [
    "spark.stop()"
   ]
  }
 ],
 "metadata": {
  "kernelspec": {
   "display_name": "ML-base",
   "language": "python",
   "name": "python3"
  },
  "language_info": {
   "codemirror_mode": {
    "name": "ipython",
    "version": 3
   },
   "file_extension": ".py",
   "mimetype": "text/x-python",
   "name": "python",
   "nbconvert_exporter": "python",
   "pygments_lexer": "ipython3",
   "version": "3.10.11"
  },
  "orig_nbformat": 4
 },
 "nbformat": 4,
 "nbformat_minor": 2
}
