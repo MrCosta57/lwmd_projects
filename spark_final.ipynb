{
 "cells": [
  {
   "cell_type": "code",
   "execution_count": 1,
   "metadata": {},
   "outputs": [
    {
     "name": "stderr",
     "output_type": "stream",
     "text": [
      "c:\\ProgramData\\mambaforge\\envs\\ML-base\\lib\\site-packages\\pyspark\\pandas\\__init__.py:50: UserWarning: 'PYARROW_IGNORE_TIMEZONE' environment variable was not set. It is required to set this environment variable to '1' in both driver and executor sides if you use pyarrow>=2.0.0. pandas-on-Spark will set it for you but it does not work if there is a Spark context already launched.\n",
      "  warnings.warn(\n"
     ]
    },
    {
     "data": {
      "text/html": [
       "\n",
       "            <div>\n",
       "                <p><b>SparkSession - in-memory</b></p>\n",
       "                \n",
       "        <div>\n",
       "            <p><b>SparkContext</b></p>\n",
       "\n",
       "            <p><a href=\"http://192.168.1.56:4040\">Spark UI</a></p>\n",
       "\n",
       "            <dl>\n",
       "              <dt>Version</dt>\n",
       "                <dd><code>v3.4.0</code></dd>\n",
       "              <dt>Master</dt>\n",
       "                <dd><code>local[*]</code></dd>\n",
       "              <dt>AppName</dt>\n",
       "                <dd><code>MyApp</code></dd>\n",
       "            </dl>\n",
       "        </div>\n",
       "        \n",
       "            </div>\n",
       "        "
      ],
      "text/plain": [
       "<pyspark.sql.session.SparkSession at 0x1e836057640>"
      ]
     },
     "execution_count": 1,
     "metadata": {},
     "output_type": "execute_result"
    }
   ],
   "source": [
    "import os\n",
    "import numpy as np\n",
    "import pandas as pd\n",
    "import pyspark.pandas as ps\n",
    "from pyspark.sql import SparkSession\n",
    "from pyspark.ml.linalg import SparseVector\n",
    "from scipy.sparse import load_npz\n",
    "\n",
    "\n",
    "os.environ['PYSPARK_PYTHON'] = 'C:\\ProgramData\\mambaforge\\envs\\ML-base\\python.exe'\n",
    "os.environ['PYSPARK_DRIVER_PYTHON'] = 'C:\\ProgramData\\mambaforge\\envs\\ML-base\\Scripts\\ipython.exe'\n",
    "\n",
    "spark = SparkSession.builder.appName(\"MyApp\").getOrCreate()\n",
    "sc=spark.sparkContext\n",
    "spark"
   ]
  },
  {
   "cell_type": "code",
   "execution_count": 2,
   "metadata": {},
   "outputs": [],
   "source": [
    "df_id=pd.read_parquet(\"ids_nfcorpus.parquet\")\n",
    "#vocab=pd.read_parquet(\"terms_nfcorpus.parquet\")\n",
    "threshold=0.8"
   ]
  },
  {
   "cell_type": "code",
   "execution_count": 3,
   "metadata": {},
   "outputs": [],
   "source": [
    "sparse_repr=load_npz(\"sparse_repr_nfcorpus.npz\")"
   ]
  },
  {
   "cell_type": "code",
   "execution_count": 4,
   "metadata": {},
   "outputs": [],
   "source": [
    "def csr_to_sparse_vector(row):\n",
    "    return SparseVector(row.shape[1], list(zip(row.indices, row.data)))\n",
    "\n",
    "docs = [csr_to_sparse_vector(sparse_repr.getrow(i)) for i in range(sparse_repr.shape[0])]\n",
    "doc_ids = df_id[\"_id\"]"
   ]
  },
  {
   "cell_type": "code",
   "execution_count": 5,
   "metadata": {},
   "outputs": [],
   "source": [
    "def sparse_argsort(matrix, idx):\n",
    "    row=matrix.getrow(idx)\n",
    "    sorted_indices = np.argsort(row.data)[::-1]\n",
    "    return row.indices[sorted_indices]\n",
    "sorted_index_term_doc=[sparse_argsort(sparse_repr, idx) for idx in range(sparse_repr.shape[0])]"
   ]
  },
  {
   "cell_type": "code",
   "execution_count": null,
   "metadata": {},
   "outputs": [],
   "source": [
    "#For debugging\n",
    "#np.max(sparse_repr.getcol(0))\n",
    "#np.max(sparse_repr, axis=0).toarray()"
   ]
  },
  {
   "cell_type": "code",
   "execution_count": 77,
   "metadata": {},
   "outputs": [],
   "source": [
    "#TODO check if is right\n",
    "d_star=sparse_repr.max(axis=0).tocsr()\n",
    "b_d=[]\n",
    "for i in range(sparse_repr.shape[0]):\n",
    "    term_order=sorted_index_term_doc[i]\n",
    "    sparse_repr_tmp=sparse_repr[i, term_order]\n",
    "    d_star_tmp=d_star[0, term_order]\n",
    "    mult = sparse_repr_tmp.multiply(d_star_tmp).toarray()\n",
    "    cum_sum=np.cumsum(mult)\n",
    "    index = np.argmax(cum_sum[cum_sum < threshold])\n",
    "    b_d.append(term_order[index]) #b(d) value\n",
    "b_d=np.array(b_d)"
   ]
  },
  {
   "cell_type": "code",
   "execution_count": 84,
   "metadata": {},
   "outputs": [
    {
     "data": {
      "text/plain": [
       "array([5609])"
      ]
     },
     "execution_count": 84,
     "metadata": {},
     "output_type": "execute_result"
    }
   ],
   "source": [
    "b_d"
   ]
  },
  {
   "cell_type": "code",
   "execution_count": null,
   "metadata": {},
   "outputs": [],
   "source": [
    "rdd_forMap=sc.parallelize([(doc_ids[i], (docs[i], sorted_index_term_doc[i], b_d[i])) for i in range(sparse_repr.shape[0])])"
   ]
  },
  {
   "cell_type": "code",
   "execution_count": null,
   "metadata": {},
   "outputs": [],
   "source": [
    "rdd_forMap.first()"
   ]
  },
  {
   "attachments": {},
   "cell_type": "markdown",
   "metadata": {},
   "source": [
    "Map( (doc_id, (doc, sorted_index_term_doc, b_d)) )\n",
    "    return (index_term, (doc_id, doc) )\n",
    "\n",
    "GroupBy: done by Spark\n",
    "\n",
    "Reduce( (index_term,  list( (doc_id, doc) )) )\n",
    "\n"
   ]
  },
  {
   "cell_type": "code",
   "execution_count": null,
   "metadata": {},
   "outputs": [],
   "source": [
    "def my_map(elem):\n",
    "    for t_idx in elem[1][1]:\n",
    "        if t_idx>elem[1][2]:\n",
    "            return (t_idx, (elem[0], elem[1][0]))\n",
    "rdd_forReduce=rdd_forMap.map(my_map)"
   ]
  },
  {
   "cell_type": "code",
   "execution_count": null,
   "metadata": {},
   "outputs": [],
   "source": [
    "tmp=rdd_forReduce.collect()"
   ]
  },
  {
   "cell_type": "code",
   "execution_count": null,
   "metadata": {},
   "outputs": [],
   "source": [
    "tmp[0]"
   ]
  },
  {
   "cell_type": "code",
   "execution_count": null,
   "metadata": {},
   "outputs": [],
   "source": [
    "def array_intersection(list1, list2):\n",
    "    intersection = []\n",
    "    i = 0\n",
    "    j = 0\n",
    "    while i < len(list1) and j < len(list2):\n",
    "        if list1[i] == list2[j]:\n",
    "            intersection.append(list1[i])\n",
    "            i += 1\n",
    "            j += 1\n",
    "        elif list1[i] < list2[j]:\n",
    "            i += 1\n",
    "        else:\n",
    "            j += 1\n",
    "    return intersection\n",
    "\n",
    "def my_reduce(elem):\n",
    "    print(elem)\n",
    "    for id1, d1 in elem[1]:\n",
    "        for id2, d2 in elem[1]:\n",
    "            #TODO: review the comparison with the max (they are index!) check this\n",
    "            if elem[0]==max(array_intersection(d1.indices, d2.indices)):\n",
    "                sim=d1.dot(d2)/(d1.norm(2)*d2.norm(2))\n",
    "                print(sim)\n",
    "                if sim>=threshold:\n",
    "                    return (id1, id2, sim)\n",
    "                \n",
    "from collections import OrderedDict\n",
    "\n",
    "def reduce_by_key(ls):\n",
    "    d = OrderedDict()\n",
    "    for key, sublist in ls:\n",
    "        d.setdefault(key, []).extend([sublist])\n",
    "    return list(d.items())\n",
    "iter=reduce_by_key(tmp)"
   ]
  },
  {
   "cell_type": "code",
   "execution_count": null,
   "metadata": {},
   "outputs": [],
   "source": [
    "res=map(my_reduce, iter)"
   ]
  },
  {
   "cell_type": "code",
   "execution_count": null,
   "metadata": {},
   "outputs": [],
   "source": [
    "lista=[]\n",
    "for e in res:\n",
    "    lista.append(e)\n",
    "\n",
    "np.unique(lista)"
   ]
  },
  {
   "cell_type": "code",
   "execution_count": null,
   "metadata": {},
   "outputs": [],
   "source": [
    "def my_reduce(elem):\n",
    "    for id1, d1 in elem[1]:\n",
    "        for id2, d2 in elem[1]:\n",
    "            if elem[0]==max(d1.intersect(d2)):\n",
    "                sim=d1.dot(d2)/(d1.norm()*d2.norm())\n",
    "                if sim>=threshold:\n",
    "                    return (id1, id2, sim)\n",
    "                    \n",
    "\n",
    "result=rdd_forReduce.reduceByKey(my_reduce)"
   ]
  },
  {
   "cell_type": "code",
   "execution_count": null,
   "metadata": {},
   "outputs": [],
   "source": [
    "result.first()"
   ]
  },
  {
   "cell_type": "code",
   "execution_count": null,
   "metadata": {},
   "outputs": [],
   "source": [
    "spark.stop()"
   ]
  }
 ],
 "metadata": {
  "kernelspec": {
   "display_name": "ML-base",
   "language": "python",
   "name": "python3"
  },
  "language_info": {
   "codemirror_mode": {
    "name": "ipython",
    "version": 3
   },
   "file_extension": ".py",
   "mimetype": "text/x-python",
   "name": "python",
   "nbconvert_exporter": "python",
   "pygments_lexer": "ipython3",
   "version": "3.10.11"
  },
  "orig_nbformat": 4
 },
 "nbformat": 4,
 "nbformat_minor": 2
}
