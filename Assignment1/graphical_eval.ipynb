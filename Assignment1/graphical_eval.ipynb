{
 "cells": [
  {
   "attachments": {},
   "cell_type": "markdown",
   "metadata": {},
   "source": [
    "## Learning with Massive Data\n",
    "### Assignment 1 - Parallel graph's triangle counter\n",
    "#### Giovanni Costa - 880892"
   ]
  },
  {
   "cell_type": "code",
   "execution_count": 1,
   "metadata": {},
   "outputs": [],
   "source": [
    "%matplotlib inline\n",
    "import numpy as np\n",
    "import pandas as pd\n",
    "from matplotlib import pyplot as plt\n",
    "import glob"
   ]
  },
  {
   "attachments": {},
   "cell_type": "markdown",
   "metadata": {},
   "source": [
    "### Data import"
   ]
  },
  {
   "cell_type": "code",
   "execution_count": 2,
   "metadata": {},
   "outputs": [
    {
     "name": "stdout",
     "output_type": "stream",
     "text": [
      "['results/facebook-combined_results.csv', 'results/as-skitter_results.csv', 'results/custom-dense_results.csv']\n"
     ]
    }
   ],
   "source": [
    "files=glob.glob(\"results/*.csv\")\n",
    "print(files)"
   ]
  },
  {
   "cell_type": "code",
   "execution_count": 3,
   "metadata": {},
   "outputs": [],
   "source": [
    "df_little=pd.read_csv(files[0], header=0)\n",
    "df_sparse=pd.read_csv(files[1], header=0)\n",
    "df_dense=pd.read_csv(files[2], header=0)"
   ]
  },
  {
   "cell_type": "code",
   "execution_count": 4,
   "metadata": {},
   "outputs": [
    {
     "data": {
      "text/html": [
       "<div>\n",
       "<style scoped>\n",
       "    .dataframe tbody tr th:only-of-type {\n",
       "        vertical-align: middle;\n",
       "    }\n",
       "\n",
       "    .dataframe tbody tr th {\n",
       "        vertical-align: top;\n",
       "    }\n",
       "\n",
       "    .dataframe thead th {\n",
       "        text-align: right;\n",
       "    }\n",
       "</style>\n",
       "<table border=\"1\" class=\"dataframe\">\n",
       "  <thead>\n",
       "    <tr style=\"text-align: right;\">\n",
       "      <th></th>\n",
       "      <th>n_nodes</th>\n",
       "      <th>n_edges</th>\n",
       "      <th>density</th>\n",
       "      <th>num_threads</th>\n",
       "      <th>rank_time</th>\n",
       "      <th>triangle_time</th>\n",
       "    </tr>\n",
       "  </thead>\n",
       "  <tbody>\n",
       "    <tr>\n",
       "      <th>0</th>\n",
       "      <td>4039</td>\n",
       "      <td>88234</td>\n",
       "      <td>0.01082</td>\n",
       "      <td>1</td>\n",
       "      <td>0.043124</td>\n",
       "      <td>0.043069</td>\n",
       "    </tr>\n",
       "    <tr>\n",
       "      <th>1</th>\n",
       "      <td>4039</td>\n",
       "      <td>88234</td>\n",
       "      <td>0.01082</td>\n",
       "      <td>2</td>\n",
       "      <td>0.047370</td>\n",
       "      <td>0.016862</td>\n",
       "    </tr>\n",
       "    <tr>\n",
       "      <th>2</th>\n",
       "      <td>4039</td>\n",
       "      <td>88234</td>\n",
       "      <td>0.01082</td>\n",
       "      <td>3</td>\n",
       "      <td>0.052685</td>\n",
       "      <td>0.017188</td>\n",
       "    </tr>\n",
       "  </tbody>\n",
       "</table>\n",
       "</div>"
      ],
      "text/plain": [
       "   n_nodes  n_edges  density  num_threads  rank_time  triangle_time\n",
       "0     4039    88234  0.01082            1   0.043124       0.043069\n",
       "1     4039    88234  0.01082            2   0.047370       0.016862\n",
       "2     4039    88234  0.01082            3   0.052685       0.017188"
      ]
     },
     "execution_count": 4,
     "metadata": {},
     "output_type": "execute_result"
    }
   ],
   "source": [
    "df_little.head(3)"
   ]
  },
  {
   "cell_type": "code",
   "execution_count": 5,
   "metadata": {},
   "outputs": [
    {
     "data": {
      "text/html": [
       "<div>\n",
       "<style scoped>\n",
       "    .dataframe tbody tr th:only-of-type {\n",
       "        vertical-align: middle;\n",
       "    }\n",
       "\n",
       "    .dataframe tbody tr th {\n",
       "        vertical-align: top;\n",
       "    }\n",
       "\n",
       "    .dataframe thead th {\n",
       "        text-align: right;\n",
       "    }\n",
       "</style>\n",
       "<table border=\"1\" class=\"dataframe\">\n",
       "  <thead>\n",
       "    <tr style=\"text-align: right;\">\n",
       "      <th></th>\n",
       "      <th>n_nodes</th>\n",
       "      <th>n_edges</th>\n",
       "      <th>density</th>\n",
       "      <th>num_threads</th>\n",
       "      <th>rank_time</th>\n",
       "      <th>triangle_time</th>\n",
       "    </tr>\n",
       "  </thead>\n",
       "  <tbody>\n",
       "    <tr>\n",
       "      <th>0</th>\n",
       "      <td>1696415</td>\n",
       "      <td>11095298</td>\n",
       "      <td>0.000008</td>\n",
       "      <td>1</td>\n",
       "      <td>22.862651</td>\n",
       "      <td>4.015351</td>\n",
       "    </tr>\n",
       "    <tr>\n",
       "      <th>1</th>\n",
       "      <td>1696415</td>\n",
       "      <td>11095298</td>\n",
       "      <td>0.000008</td>\n",
       "      <td>2</td>\n",
       "      <td>18.252170</td>\n",
       "      <td>3.523903</td>\n",
       "    </tr>\n",
       "    <tr>\n",
       "      <th>2</th>\n",
       "      <td>1696415</td>\n",
       "      <td>11095298</td>\n",
       "      <td>0.000008</td>\n",
       "      <td>3</td>\n",
       "      <td>18.948504</td>\n",
       "      <td>3.212515</td>\n",
       "    </tr>\n",
       "  </tbody>\n",
       "</table>\n",
       "</div>"
      ],
      "text/plain": [
       "   n_nodes   n_edges   density  num_threads  rank_time  triangle_time\n",
       "0  1696415  11095298  0.000008            1  22.862651       4.015351\n",
       "1  1696415  11095298  0.000008            2  18.252170       3.523903\n",
       "2  1696415  11095298  0.000008            3  18.948504       3.212515"
      ]
     },
     "execution_count": 5,
     "metadata": {},
     "output_type": "execute_result"
    }
   ],
   "source": [
    "df_sparse.head(3)"
   ]
  },
  {
   "cell_type": "code",
   "execution_count": 6,
   "metadata": {},
   "outputs": [
    {
     "data": {
      "text/html": [
       "<div>\n",
       "<style scoped>\n",
       "    .dataframe tbody tr th:only-of-type {\n",
       "        vertical-align: middle;\n",
       "    }\n",
       "\n",
       "    .dataframe tbody tr th {\n",
       "        vertical-align: top;\n",
       "    }\n",
       "\n",
       "    .dataframe thead th {\n",
       "        text-align: right;\n",
       "    }\n",
       "</style>\n",
       "<table border=\"1\" class=\"dataframe\">\n",
       "  <thead>\n",
       "    <tr style=\"text-align: right;\">\n",
       "      <th></th>\n",
       "      <th>n_nodes</th>\n",
       "      <th>n_edges</th>\n",
       "      <th>density</th>\n",
       "      <th>num_threads</th>\n",
       "      <th>rank_time</th>\n",
       "      <th>triangle_time</th>\n",
       "    </tr>\n",
       "  </thead>\n",
       "  <tbody>\n",
       "    <tr>\n",
       "      <th>0</th>\n",
       "      <td>4039</td>\n",
       "      <td>8097333</td>\n",
       "      <td>0.99296</td>\n",
       "      <td>1</td>\n",
       "      <td>6.042392</td>\n",
       "      <td>59.776048</td>\n",
       "    </tr>\n",
       "    <tr>\n",
       "      <th>1</th>\n",
       "      <td>4039</td>\n",
       "      <td>8097333</td>\n",
       "      <td>0.99296</td>\n",
       "      <td>2</td>\n",
       "      <td>5.598869</td>\n",
       "      <td>31.969577</td>\n",
       "    </tr>\n",
       "    <tr>\n",
       "      <th>2</th>\n",
       "      <td>4039</td>\n",
       "      <td>8097333</td>\n",
       "      <td>0.99296</td>\n",
       "      <td>3</td>\n",
       "      <td>4.996925</td>\n",
       "      <td>22.481564</td>\n",
       "    </tr>\n",
       "  </tbody>\n",
       "</table>\n",
       "</div>"
      ],
      "text/plain": [
       "   n_nodes  n_edges  density  num_threads  rank_time  triangle_time\n",
       "0     4039  8097333  0.99296            1   6.042392      59.776048\n",
       "1     4039  8097333  0.99296            2   5.598869      31.969577\n",
       "2     4039  8097333  0.99296            3   4.996925      22.481564"
      ]
     },
     "execution_count": 6,
     "metadata": {},
     "output_type": "execute_result"
    }
   ],
   "source": [
    "df_dense.head(3)"
   ]
  },
  {
   "attachments": {},
   "cell_type": "markdown",
   "metadata": {},
   "source": [
    "### Empirical evaluation"
   ]
  },
  {
   "cell_type": "code",
   "execution_count": 7,
   "metadata": {},
   "outputs": [],
   "source": [
    "def compute_speedup(df: pd.DataFrame):\n",
    "    df['total_time']=df['rank_time']+df['triangle_time']\n",
    "    seq_value=df.query(\"num_threads==1\")['total_time']\n",
    "    df['tot_speedup']=float(seq_value)/df['total_time']\n",
    "\n",
    "    seq_value=np.mean(df.query(\"num_threads==1\")['triangle_time'])\n",
    "    df[\"tr_speedup\"]=float(seq_value)/df['triangle_time']\n",
    "\n",
    "    seq_value=np.mean(df.query(\"num_threads==1\")['rank_time'])\n",
    "    df[\"rank_speedup\"]=float(seq_value)/df['rank_time']\n",
    "    \n",
    "\n",
    "def plot_alg(df: pd.DataFrame):\n",
    "    plt.figure(figsize=(4, 3))\n",
    "    #graph=sns.lineplot(data=tmp_df, x=\"num_threads\", y=\"speedup\", markers=True)\n",
    "    plt.title('Parallel algorithm performance')\n",
    "    plt.ylabel('Speedup')\n",
    "    plt.xlabel('Number of threads')\n",
    "\n",
    "    max_thread=df[\"num_threads\"].max()\n",
    "    max_y=int(max(df[\"tot_speedup\"].max(), df[\"tr_speedup\"].max(), df[\"rank_speedup\"].max()))+1\n",
    "    plt.xlim(0, max_thread)\n",
    "    plt.ylim(0, max_y)\n",
    "\n",
    "    thread_plot_col=[0]+df[\"num_threads\"].tolist()\n",
    "    tot_speedup_plot_col=[0]+df[\"tot_speedup\"].tolist()\n",
    "    tr_speedup_plot_col=[0]+df[\"tr_speedup\"].tolist()\n",
    "    rank_speedup_plot_col=[0]+df[\"rank_speedup\"].tolist()\n",
    "    plt.xticks(thread_plot_col)\n",
    "    plt.yticks(thread_plot_col)\n",
    "\n",
    "    plt.plot(thread_plot_col, thread_plot_col, color='#F52900', label=\"Linear speedup\")\n",
    "    plt.fill_between(thread_plot_col,\n",
    "                    [1],\n",
    "                    alpha=0.3,color=\"black\",label=\"No improvement zone\")\n",
    "    plt.fill_between(thread_plot_col,\n",
    "                    thread_plot_col,\n",
    "                    alpha=0.1,color=\"red\",label=\"Sublinear zone\")\n",
    "    plt.fill_between(thread_plot_col,\n",
    "                    thread_plot_col,\n",
    "                    max_thread, alpha=0.1, color=\"green\", label=\"Superlinear zone\")\n",
    "\n",
    "    plt.plot(thread_plot_col, rank_speedup_plot_col,\n",
    "                '-x',label=\"RankByDeg speedup\",color=\"#264653\")\n",
    "    plt.plot(thread_plot_col, tr_speedup_plot_col,\n",
    "                '-x',label=\"Tr. counting speedup\", color=\"#2a9d8f\")\n",
    "    plt.plot(thread_plot_col, tot_speedup_plot_col,\n",
    "                '-x',label=\"Total speedup\", color=\"#f4a261\")\n",
    "\n",
    "    plt.grid()\n",
    "    plt.legend(loc='center left', bbox_to_anchor=(1, 0.5), prop={'size': 8})\n",
    "    plt.show()"
   ]
  },
  {
   "attachments": {},
   "cell_type": "markdown",
   "metadata": {},
   "source": [
    "#### Little dataframe"
   ]
  },
  {
   "cell_type": "code",
   "execution_count": 8,
   "metadata": {},
   "outputs": [],
   "source": [
    "df_little=df_little.groupby(\"num_threads\").mean().reset_index()\n",
    "compute_speedup(df_little)"
   ]
  },
  {
   "cell_type": "code",
   "execution_count": 9,
   "metadata": {},
   "outputs": [
    {
     "data": {
      "text/html": [
       "<div>\n",
       "<style scoped>\n",
       "    .dataframe tbody tr th:only-of-type {\n",
       "        vertical-align: middle;\n",
       "    }\n",
       "\n",
       "    .dataframe tbody tr th {\n",
       "        vertical-align: top;\n",
       "    }\n",
       "\n",
       "    .dataframe thead th {\n",
       "        text-align: right;\n",
       "    }\n",
       "</style>\n",
       "<table border=\"1\" class=\"dataframe\">\n",
       "  <thead>\n",
       "    <tr style=\"text-align: right;\">\n",
       "      <th></th>\n",
       "      <th>num_threads</th>\n",
       "      <th>rank_time</th>\n",
       "      <th>triangle_time</th>\n",
       "      <th>total_time</th>\n",
       "      <th>tot_speedup</th>\n",
       "      <th>tr_speedup</th>\n",
       "      <th>rank_speedup</th>\n",
       "    </tr>\n",
       "  </thead>\n",
       "  <tbody>\n",
       "    <tr>\n",
       "      <th>0</th>\n",
       "      <td>1</td>\n",
       "      <td>0.057035</td>\n",
       "      <td>0.032774</td>\n",
       "      <td>0.089809</td>\n",
       "      <td>1.000000</td>\n",
       "      <td>1.000000</td>\n",
       "      <td>1.000000</td>\n",
       "    </tr>\n",
       "    <tr>\n",
       "      <th>1</th>\n",
       "      <td>2</td>\n",
       "      <td>0.043300</td>\n",
       "      <td>0.017180</td>\n",
       "      <td>0.060480</td>\n",
       "      <td>1.484937</td>\n",
       "      <td>1.907703</td>\n",
       "      <td>1.317198</td>\n",
       "    </tr>\n",
       "    <tr>\n",
       "      <th>2</th>\n",
       "      <td>3</td>\n",
       "      <td>0.048294</td>\n",
       "      <td>0.015550</td>\n",
       "      <td>0.063844</td>\n",
       "      <td>1.406687</td>\n",
       "      <td>2.107674</td>\n",
       "      <td>1.180981</td>\n",
       "    </tr>\n",
       "    <tr>\n",
       "      <th>3</th>\n",
       "      <td>4</td>\n",
       "      <td>0.080075</td>\n",
       "      <td>0.014215</td>\n",
       "      <td>0.094291</td>\n",
       "      <td>0.952470</td>\n",
       "      <td>2.305562</td>\n",
       "      <td>0.712263</td>\n",
       "    </tr>\n",
       "    <tr>\n",
       "      <th>4</th>\n",
       "      <td>5</td>\n",
       "      <td>0.071742</td>\n",
       "      <td>0.014429</td>\n",
       "      <td>0.086172</td>\n",
       "      <td>1.042210</td>\n",
       "      <td>2.271369</td>\n",
       "      <td>0.794993</td>\n",
       "    </tr>\n",
       "    <tr>\n",
       "      <th>5</th>\n",
       "      <td>6</td>\n",
       "      <td>0.116103</td>\n",
       "      <td>0.016016</td>\n",
       "      <td>0.132119</td>\n",
       "      <td>0.679758</td>\n",
       "      <td>2.046392</td>\n",
       "      <td>0.491241</td>\n",
       "    </tr>\n",
       "    <tr>\n",
       "      <th>6</th>\n",
       "      <td>7</td>\n",
       "      <td>0.115298</td>\n",
       "      <td>0.012260</td>\n",
       "      <td>0.127558</td>\n",
       "      <td>0.704064</td>\n",
       "      <td>2.673201</td>\n",
       "      <td>0.494673</td>\n",
       "    </tr>\n",
       "    <tr>\n",
       "      <th>7</th>\n",
       "      <td>8</td>\n",
       "      <td>0.189834</td>\n",
       "      <td>0.014421</td>\n",
       "      <td>0.204255</td>\n",
       "      <td>0.439691</td>\n",
       "      <td>2.272681</td>\n",
       "      <td>0.300445</td>\n",
       "    </tr>\n",
       "  </tbody>\n",
       "</table>\n",
       "</div>"
      ],
      "text/plain": [
       "   num_threads  rank_time  triangle_time  total_time  tot_speedup  tr_speedup  \\\n",
       "0            1   0.057035       0.032774    0.089809     1.000000    1.000000   \n",
       "1            2   0.043300       0.017180    0.060480     1.484937    1.907703   \n",
       "2            3   0.048294       0.015550    0.063844     1.406687    2.107674   \n",
       "3            4   0.080075       0.014215    0.094291     0.952470    2.305562   \n",
       "4            5   0.071742       0.014429    0.086172     1.042210    2.271369   \n",
       "5            6   0.116103       0.016016    0.132119     0.679758    2.046392   \n",
       "6            7   0.115298       0.012260    0.127558     0.704064    2.673201   \n",
       "7            8   0.189834       0.014421    0.204255     0.439691    2.272681   \n",
       "\n",
       "   rank_speedup  \n",
       "0      1.000000  \n",
       "1      1.317198  \n",
       "2      1.180981  \n",
       "3      0.712263  \n",
       "4      0.794993  \n",
       "5      0.491241  \n",
       "6      0.494673  \n",
       "7      0.300445  "
      ]
     },
     "execution_count": 9,
     "metadata": {},
     "output_type": "execute_result"
    }
   ],
   "source": [
    "df_little.drop(columns=[\"n_nodes\",\"n_edges\",\"density\"])"
   ]
  },
  {
   "cell_type": "code",
   "execution_count": 10,
   "metadata": {},
   "outputs": [
    {
     "data": {
      "image/png": "[encoded data removed]",
      "text/plain": [
       "<Figure size 400x300 with 1 Axes>"
      ]
     },
     "metadata": {},
     "output_type": "display_data"
    }
   ],
   "source": [
    "plot_alg(df_little)"
   ]
  },
  {
   "cell_type": "code",
   "execution_count": 11,
   "metadata": {},
   "outputs": [
    {
     "name": "stdout",
     "output_type": "stream",
     "text": [
      "MAX speedup score:\n",
      "num_threads          2.000000\n",
      "n_nodes           4039.000000\n",
      "n_edges          88234.000000\n",
      "density              0.010820\n",
      "rank_time            0.043300\n",
      "triangle_time        0.017180\n",
      "total_time           0.060480\n",
      "tot_speedup          1.484937\n",
      "tr_speedup           1.907703\n",
      "rank_speedup         1.317198\n",
      "Name: 1, dtype: float64 \n",
      "\n",
      "MIN speedup score:\n",
      "num_threads          8.000000\n",
      "n_nodes           4039.000000\n",
      "n_edges          88234.000000\n",
      "density              0.010820\n",
      "rank_time            0.189834\n",
      "triangle_time        0.014421\n",
      "total_time           0.204255\n",
      "tot_speedup          0.439691\n",
      "tr_speedup           2.272681\n",
      "rank_speedup         0.300445\n",
      "Name: 7, dtype: float64 \n",
      "\n"
     ]
    }
   ],
   "source": [
    "print(\"MAX speedup score:\")\n",
    "print(df_little.iloc[np.argmax(df_little['tot_speedup'])], '\\n')\n",
    "print(\"MIN speedup score:\")\n",
    "print(df_little.iloc[np.argmin(df_little['tot_speedup'])], '\\n')"
   ]
  },
  {
   "attachments": {},
   "cell_type": "markdown",
   "metadata": {},
   "source": [
    "#### Sparse dataframe"
   ]
  },
  {
   "cell_type": "code",
   "execution_count": 12,
   "metadata": {},
   "outputs": [],
   "source": [
    "df_sparse=df_sparse.groupby(\"num_threads\").mean().reset_index()\n",
    "compute_speedup(df_sparse)"
   ]
  },
  {
   "cell_type": "code",
   "execution_count": 13,
   "metadata": {},
   "outputs": [
    {
     "data": {
      "text/html": [
       "<div>\n",
       "<style scoped>\n",
       "    .dataframe tbody tr th:only-of-type {\n",
       "        vertical-align: middle;\n",
       "    }\n",
       "\n",
       "    .dataframe tbody tr th {\n",
       "        vertical-align: top;\n",
       "    }\n",
       "\n",
       "    .dataframe thead th {\n",
       "        text-align: right;\n",
       "    }\n",
       "</style>\n",
       "<table border=\"1\" class=\"dataframe\">\n",
       "  <thead>\n",
       "    <tr style=\"text-align: right;\">\n",
       "      <th></th>\n",
       "      <th>num_threads</th>\n",
       "      <th>rank_time</th>\n",
       "      <th>triangle_time</th>\n",
       "      <th>total_time</th>\n",
       "      <th>tot_speedup</th>\n",
       "      <th>tr_speedup</th>\n",
       "      <th>rank_speedup</th>\n",
       "    </tr>\n",
       "  </thead>\n",
       "  <tbody>\n",
       "    <tr>\n",
       "      <th>0</th>\n",
       "      <td>1</td>\n",
       "      <td>22.887661</td>\n",
       "      <td>4.118983</td>\n",
       "      <td>27.006643</td>\n",
       "      <td>1.000000</td>\n",
       "      <td>1.000000</td>\n",
       "      <td>1.000000</td>\n",
       "    </tr>\n",
       "    <tr>\n",
       "      <th>1</th>\n",
       "      <td>2</td>\n",
       "      <td>17.439197</td>\n",
       "      <td>3.327904</td>\n",
       "      <td>20.767101</td>\n",
       "      <td>1.300453</td>\n",
       "      <td>1.237711</td>\n",
       "      <td>1.312426</td>\n",
       "    </tr>\n",
       "    <tr>\n",
       "      <th>2</th>\n",
       "      <td>3</td>\n",
       "      <td>17.522407</td>\n",
       "      <td>3.158543</td>\n",
       "      <td>20.680950</td>\n",
       "      <td>1.305871</td>\n",
       "      <td>1.304077</td>\n",
       "      <td>1.306194</td>\n",
       "    </tr>\n",
       "    <tr>\n",
       "      <th>3</th>\n",
       "      <td>4</td>\n",
       "      <td>17.495614</td>\n",
       "      <td>3.101340</td>\n",
       "      <td>20.596955</td>\n",
       "      <td>1.311196</td>\n",
       "      <td>1.328130</td>\n",
       "      <td>1.308194</td>\n",
       "    </tr>\n",
       "    <tr>\n",
       "      <th>4</th>\n",
       "      <td>5</td>\n",
       "      <td>18.639517</td>\n",
       "      <td>3.165826</td>\n",
       "      <td>21.805342</td>\n",
       "      <td>1.238533</td>\n",
       "      <td>1.301077</td>\n",
       "      <td>1.227911</td>\n",
       "    </tr>\n",
       "    <tr>\n",
       "      <th>5</th>\n",
       "      <td>6</td>\n",
       "      <td>19.955419</td>\n",
       "      <td>3.267651</td>\n",
       "      <td>23.223070</td>\n",
       "      <td>1.162923</td>\n",
       "      <td>1.260533</td>\n",
       "      <td>1.146940</td>\n",
       "    </tr>\n",
       "    <tr>\n",
       "      <th>6</th>\n",
       "      <td>7</td>\n",
       "      <td>21.740516</td>\n",
       "      <td>3.297135</td>\n",
       "      <td>25.037651</td>\n",
       "      <td>1.078641</td>\n",
       "      <td>1.249261</td>\n",
       "      <td>1.052765</td>\n",
       "    </tr>\n",
       "    <tr>\n",
       "      <th>7</th>\n",
       "      <td>8</td>\n",
       "      <td>22.798104</td>\n",
       "      <td>3.551059</td>\n",
       "      <td>26.349163</td>\n",
       "      <td>1.024953</td>\n",
       "      <td>1.159931</td>\n",
       "      <td>1.003928</td>\n",
       "    </tr>\n",
       "  </tbody>\n",
       "</table>\n",
       "</div>"
      ],
      "text/plain": [
       "   num_threads  rank_time  triangle_time  total_time  tot_speedup  tr_speedup  \\\n",
       "0            1  22.887661       4.118983   27.006643     1.000000    1.000000   \n",
       "1            2  17.439197       3.327904   20.767101     1.300453    1.237711   \n",
       "2            3  17.522407       3.158543   20.680950     1.305871    1.304077   \n",
       "3            4  17.495614       3.101340   20.596955     1.311196    1.328130   \n",
       "4            5  18.639517       3.165826   21.805342     1.238533    1.301077   \n",
       "5            6  19.955419       3.267651   23.223070     1.162923    1.260533   \n",
       "6            7  21.740516       3.297135   25.037651     1.078641    1.249261   \n",
       "7            8  22.798104       3.551059   26.349163     1.024953    1.159931   \n",
       "\n",
       "   rank_speedup  \n",
       "0      1.000000  \n",
       "1      1.312426  \n",
       "2      1.306194  \n",
       "3      1.308194  \n",
       "4      1.227911  \n",
       "5      1.146940  \n",
       "6      1.052765  \n",
       "7      1.003928  "
      ]
     },
     "execution_count": 13,
     "metadata": {},
     "output_type": "execute_result"
    }
   ],
   "source": [
    "df_sparse.drop(columns=[\"n_nodes\",\"n_edges\",\"density\"])"
   ]
  },
  {
   "cell_type": "code",
   "execution_count": 14,
   "metadata": {},
   "outputs": [
    {
     "data": {
      "image/png": "[encoded data removed]",
      "text/plain": [
       "<Figure size 400x300 with 1 Axes>"
      ]
     },
     "metadata": {},
     "output_type": "display_data"
    }
   ],
   "source": [
    "plot_alg(df_sparse)"
   ]
  },
  {
   "cell_type": "code",
   "execution_count": 15,
   "metadata": {},
   "outputs": [
    {
     "name": "stdout",
     "output_type": "stream",
     "text": [
      "MAX speedup score:\n",
      "num_threads      4.000000e+00\n",
      "n_nodes          1.696415e+06\n",
      "n_edges          1.109530e+07\n",
      "density          8.000000e-06\n",
      "rank_time        1.749561e+01\n",
      "triangle_time    3.101340e+00\n",
      "total_time       2.059695e+01\n",
      "tot_speedup      1.311196e+00\n",
      "tr_speedup       1.328130e+00\n",
      "rank_speedup     1.308194e+00\n",
      "Name: 3, dtype: float64 \n",
      "\n",
      "MIN speedup score:\n",
      "num_threads      1.000000e+00\n",
      "n_nodes          1.696415e+06\n",
      "n_edges          1.109530e+07\n",
      "density          8.000000e-06\n",
      "rank_time        2.288766e+01\n",
      "triangle_time    4.118983e+00\n",
      "total_time       2.700664e+01\n",
      "tot_speedup      1.000000e+00\n",
      "tr_speedup       1.000000e+00\n",
      "rank_speedup     1.000000e+00\n",
      "Name: 0, dtype: float64 \n",
      "\n"
     ]
    }
   ],
   "source": [
    "print(\"MAX speedup score:\")\n",
    "print(df_sparse.iloc[np.argmax(df_sparse['tot_speedup'])], '\\n')\n",
    "print(\"MIN speedup score:\")\n",
    "print(df_sparse.iloc[np.argmin(df_sparse['tot_speedup'])], '\\n')"
   ]
  },
  {
   "attachments": {},
   "cell_type": "markdown",
   "metadata": {},
   "source": [
    "#### Dense dataframe"
   ]
  },
  {
   "cell_type": "code",
   "execution_count": 16,
   "metadata": {},
   "outputs": [],
   "source": [
    "df_dense=df_dense.groupby(\"num_threads\").mean().reset_index()\n",
    "compute_speedup(df_dense)"
   ]
  },
  {
   "cell_type": "code",
   "execution_count": 17,
   "metadata": {},
   "outputs": [
    {
     "data": {
      "text/html": [
       "<div>\n",
       "<style scoped>\n",
       "    .dataframe tbody tr th:only-of-type {\n",
       "        vertical-align: middle;\n",
       "    }\n",
       "\n",
       "    .dataframe tbody tr th {\n",
       "        vertical-align: top;\n",
       "    }\n",
       "\n",
       "    .dataframe thead th {\n",
       "        text-align: right;\n",
       "    }\n",
       "</style>\n",
       "<table border=\"1\" class=\"dataframe\">\n",
       "  <thead>\n",
       "    <tr style=\"text-align: right;\">\n",
       "      <th></th>\n",
       "      <th>num_threads</th>\n",
       "      <th>rank_time</th>\n",
       "      <th>triangle_time</th>\n",
       "      <th>total_time</th>\n",
       "      <th>tot_speedup</th>\n",
       "      <th>tr_speedup</th>\n",
       "      <th>rank_speedup</th>\n",
       "    </tr>\n",
       "  </thead>\n",
       "  <tbody>\n",
       "    <tr>\n",
       "      <th>0</th>\n",
       "      <td>1</td>\n",
       "      <td>5.319509</td>\n",
       "      <td>58.178828</td>\n",
       "      <td>63.498337</td>\n",
       "      <td>1.000000</td>\n",
       "      <td>1.000000</td>\n",
       "      <td>1.000000</td>\n",
       "    </tr>\n",
       "    <tr>\n",
       "      <th>1</th>\n",
       "      <td>2</td>\n",
       "      <td>5.137820</td>\n",
       "      <td>32.433768</td>\n",
       "      <td>37.571588</td>\n",
       "      <td>1.690063</td>\n",
       "      <td>1.793773</td>\n",
       "      <td>1.035363</td>\n",
       "    </tr>\n",
       "    <tr>\n",
       "      <th>2</th>\n",
       "      <td>3</td>\n",
       "      <td>5.323145</td>\n",
       "      <td>23.573072</td>\n",
       "      <td>28.896217</td>\n",
       "      <td>2.197462</td>\n",
       "      <td>2.468021</td>\n",
       "      <td>0.999317</td>\n",
       "    </tr>\n",
       "    <tr>\n",
       "      <th>3</th>\n",
       "      <td>4</td>\n",
       "      <td>5.695028</td>\n",
       "      <td>19.017406</td>\n",
       "      <td>24.712434</td>\n",
       "      <td>2.569489</td>\n",
       "      <td>3.059241</td>\n",
       "      <td>0.934062</td>\n",
       "    </tr>\n",
       "    <tr>\n",
       "      <th>4</th>\n",
       "      <td>5</td>\n",
       "      <td>5.957898</td>\n",
       "      <td>15.650575</td>\n",
       "      <td>21.608473</td>\n",
       "      <td>2.938585</td>\n",
       "      <td>3.717361</td>\n",
       "      <td>0.892850</td>\n",
       "    </tr>\n",
       "    <tr>\n",
       "      <th>5</th>\n",
       "      <td>6</td>\n",
       "      <td>6.822103</td>\n",
       "      <td>13.886422</td>\n",
       "      <td>20.708524</td>\n",
       "      <td>3.066290</td>\n",
       "      <td>4.189620</td>\n",
       "      <td>0.779746</td>\n",
       "    </tr>\n",
       "    <tr>\n",
       "      <th>6</th>\n",
       "      <td>7</td>\n",
       "      <td>7.214096</td>\n",
       "      <td>12.083721</td>\n",
       "      <td>19.297816</td>\n",
       "      <td>3.290442</td>\n",
       "      <td>4.814645</td>\n",
       "      <td>0.737377</td>\n",
       "    </tr>\n",
       "    <tr>\n",
       "      <th>7</th>\n",
       "      <td>8</td>\n",
       "      <td>7.578402</td>\n",
       "      <td>11.179902</td>\n",
       "      <td>18.758304</td>\n",
       "      <td>3.385079</td>\n",
       "      <td>5.203876</td>\n",
       "      <td>0.701930</td>\n",
       "    </tr>\n",
       "  </tbody>\n",
       "</table>\n",
       "</div>"
      ],
      "text/plain": [
       "   num_threads  rank_time  triangle_time  total_time  tot_speedup  tr_speedup  \\\n",
       "0            1   5.319509      58.178828   63.498337     1.000000    1.000000   \n",
       "1            2   5.137820      32.433768   37.571588     1.690063    1.793773   \n",
       "2            3   5.323145      23.573072   28.896217     2.197462    2.468021   \n",
       "3            4   5.695028      19.017406   24.712434     2.569489    3.059241   \n",
       "4            5   5.957898      15.650575   21.608473     2.938585    3.717361   \n",
       "5            6   6.822103      13.886422   20.708524     3.066290    4.189620   \n",
       "6            7   7.214096      12.083721   19.297816     3.290442    4.814645   \n",
       "7            8   7.578402      11.179902   18.758304     3.385079    5.203876   \n",
       "\n",
       "   rank_speedup  \n",
       "0      1.000000  \n",
       "1      1.035363  \n",
       "2      0.999317  \n",
       "3      0.934062  \n",
       "4      0.892850  \n",
       "5      0.779746  \n",
       "6      0.737377  \n",
       "7      0.701930  "
      ]
     },
     "execution_count": 17,
     "metadata": {},
     "output_type": "execute_result"
    }
   ],
   "source": [
    "df_dense.drop(columns=[\"n_nodes\",\"n_edges\",\"density\"])"
   ]
  },
  {
   "cell_type": "code",
   "execution_count": 18,
   "metadata": {},
   "outputs": [
    {
     "data": {
      "image/png": "[encoded data removed]",
      "text/plain": [
       "<Figure size 400x300 with 1 Axes>"
      ]
     },
     "metadata": {},
     "output_type": "display_data"
    }
   ],
   "source": [
    "plot_alg(df_dense)"
   ]
  },
  {
   "cell_type": "code",
   "execution_count": 19,
   "metadata": {},
   "outputs": [
    {
     "name": "stdout",
     "output_type": "stream",
     "text": [
      "MAX speedup score:\n",
      "num_threads      8.000000e+00\n",
      "n_nodes          4.039000e+03\n",
      "n_edges          8.097333e+06\n",
      "density          9.929600e-01\n",
      "rank_time        7.578402e+00\n",
      "triangle_time    1.117990e+01\n",
      "total_time       1.875830e+01\n",
      "tot_speedup      3.385079e+00\n",
      "tr_speedup       5.203876e+00\n",
      "rank_speedup     7.019302e-01\n",
      "Name: 7, dtype: float64 \n",
      "\n",
      "MIN speedup score:\n",
      "num_threads      1.000000e+00\n",
      "n_nodes          4.039000e+03\n",
      "n_edges          8.097333e+06\n",
      "density          9.929600e-01\n",
      "rank_time        5.319509e+00\n",
      "triangle_time    5.817883e+01\n",
      "total_time       6.349834e+01\n",
      "tot_speedup      1.000000e+00\n",
      "tr_speedup       1.000000e+00\n",
      "rank_speedup     1.000000e+00\n",
      "Name: 0, dtype: float64 \n",
      "\n"
     ]
    }
   ],
   "source": [
    "print(\"MAX speedup score:\")\n",
    "print(df_dense.iloc[np.argmax(df_dense['tot_speedup'])], '\\n')\n",
    "print(\"MIN speedup score:\")\n",
    "print(df_dense.iloc[np.argmin(df_dense['tot_speedup'])], '\\n')"
   ]
  }
 ],
 "metadata": {
  "kernelspec": {
   "display_name": "Python 3",
   "language": "python",
   "name": "python3"
  },
  "language_info": {
   "codemirror_mode": {
    "name": "ipython",
    "version": 3
   },
   "file_extension": ".py",
   "mimetype": "text/x-python",
   "name": "python",
   "nbconvert_exporter": "python",
   "pygments_lexer": "ipython3",
   "version": "3.10.6"
  },
  "orig_nbformat": 4
 },
 "nbformat": 4,
 "nbformat_minor": 2
}
