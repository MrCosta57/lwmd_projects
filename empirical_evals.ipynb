{
 "cells": [
  {
   "cell_type": "code",
   "execution_count": 1,
   "metadata": {},
   "outputs": [],
   "source": [
    "import pandas as pd\n",
    "import numpy as np\n",
    "from nltk.corpus import words\n",
    "from sentence_transformers import SentenceTransformer\n",
    "from sklearn.metrics import ndcg_score\n",
    "from sklearn.feature_extraction.text import CountVectorizer, TfidfVectorizer\n",
    "#nltk.download('words')\n",
    "#nltk.download('stopwords')\n",
    "#nltk.download('punkt')\n",
    "\n",
    "data_dir=\"datasets/\"\n",
    "dataset_name_dir=\"trec-covid/\""
   ]
  },
  {
   "cell_type": "code",
   "execution_count": 2,
   "metadata": {},
   "outputs": [],
   "source": [
    "corpus=pd.read_json(data_dir+dataset_name_dir+\"corpus.jsonl\", lines=True)\n",
    "queries=pd.read_json(data_dir+dataset_name_dir+\"queries.jsonl\", lines=True)"
   ]
  },
  {
   "cell_type": "code",
   "execution_count": 3,
   "metadata": {},
   "outputs": [
    {
     "name": "stdout",
     "output_type": "stream",
     "text": [
      "<class 'pandas.core.frame.DataFrame'>\n",
      "RangeIndex: 171332 entries, 0 to 171331\n",
      "Data columns (total 4 columns):\n",
      " #   Column    Non-Null Count   Dtype \n",
      "---  ------    --------------   ----- \n",
      " 0   _id       171332 non-null  object\n",
      " 1   title     171332 non-null  object\n",
      " 2   text      171332 non-null  object\n",
      " 3   metadata  171332 non-null  object\n",
      "dtypes: object(4)\n",
      "memory usage: 5.2+ MB\n"
     ]
    }
   ],
   "source": [
    "corpus.info()"
   ]
  },
  {
   "cell_type": "code",
   "execution_count": 4,
   "metadata": {},
   "outputs": [
    {
     "name": "stdout",
     "output_type": "stream",
     "text": [
      "<class 'pandas.core.frame.DataFrame'>\n",
      "RangeIndex: 50 entries, 0 to 49\n",
      "Data columns (total 3 columns):\n",
      " #   Column    Non-Null Count  Dtype \n",
      "---  ------    --------------  ----- \n",
      " 0   _id       50 non-null     int64 \n",
      " 1   text      50 non-null     object\n",
      " 2   metadata  50 non-null     object\n",
      "dtypes: int64(1), object(2)\n",
      "memory usage: 1.3+ KB\n"
     ]
    }
   ],
   "source": [
    "queries.info()"
   ]
  },
  {
   "cell_type": "markdown",
   "metadata": {},
   "source": [
    "### Sparse representation"
   ]
  },
  {
   "cell_type": "code",
   "execution_count": 5,
   "metadata": {},
   "outputs": [],
   "source": [
    "def compute_sparse_repr(vocab: np.array, corpus: pd.DataFrame, queries: pd.DataFrame):\n",
    "    doc_tfidf=TfidfVectorizer(lowercase=True, vocabulary=vocab, stop_words=None, token_pattern=r'\\w+')\n",
    "    q_counter=CountVectorizer(lowercase=True, vocabulary=vocab, stop_words=None, token_pattern=r'\\w+')\n",
    "\n",
    "    sparse_doc=doc_tfidf.fit_transform(corpus[\"text\"])\n",
    "    sparse_q=q_counter.fit_transform(queries[\"text\"])\n",
    "\n",
    "    return sparse_doc, sparse_q"
   ]
  },
  {
   "cell_type": "code",
   "execution_count": 6,
   "metadata": {},
   "outputs": [],
   "source": [
    "vocab=np.unique(np.char.lower(words.words()))\n",
    "sparse_doc, sparse_q=compute_sparse_repr(vocab, corpus, queries)\n",
    "\n",
    "#Here it's basically computed sparse_score=<q_sparse, d_sparse>\n",
    "queries[\"sparse_scores\"]=list(np.dot(sparse_q, sparse_doc.transpose()).toarray())"
   ]
  },
  {
   "cell_type": "markdown",
   "metadata": {},
   "source": [
    "### Dense representation"
   ]
  },
  {
   "cell_type": "code",
   "execution_count": 7,
   "metadata": {},
   "outputs": [],
   "source": [
    "def compute_dense_repr(corpus: pd.DataFrame, queries: pd.DataFrame):\n",
    "    transformers = SentenceTransformer('sentence-transformers/all-MiniLM-L6-v2')\n",
    "    dense_c=transformers.encode(corpus[\"text\"], convert_to_numpy = True)\n",
    "    dense_q=transformers.encode(queries[\"text\"], convert_to_numpy = True)\n",
    "    \n",
    "    return dense_c, dense_q"
   ]
  },
  {
   "cell_type": "code",
   "execution_count": 8,
   "metadata": {},
   "outputs": [],
   "source": [
    "dense_c, dense_q=compute_dense_repr(corpus, queries)\n",
    "\n",
    "#Here it's basically computed dense_score=<q_dense, d_dense>\n",
    "queries[\"dense_scores\"]=list(np.dot(dense_q, dense_c.transpose()))"
   ]
  },
  {
   "cell_type": "code",
   "execution_count": 9,
   "metadata": {},
   "outputs": [
    {
     "data": {
      "text/html": [
       "<div>\n",
       "<style scoped>\n",
       "    .dataframe tbody tr th:only-of-type {\n",
       "        vertical-align: middle;\n",
       "    }\n",
       "\n",
       "    .dataframe tbody tr th {\n",
       "        vertical-align: top;\n",
       "    }\n",
       "\n",
       "    .dataframe thead th {\n",
       "        text-align: right;\n",
       "    }\n",
       "</style>\n",
       "<table border=\"1\" class=\"dataframe\">\n",
       "  <thead>\n",
       "    <tr style=\"text-align: right;\">\n",
       "      <th></th>\n",
       "      <th>_id</th>\n",
       "      <th>title</th>\n",
       "      <th>text</th>\n",
       "      <th>metadata</th>\n",
       "    </tr>\n",
       "  </thead>\n",
       "  <tbody>\n",
       "    <tr>\n",
       "      <th>0</th>\n",
       "      <td>ug7v899j</td>\n",
       "      <td>Clinical features of culture-proven Mycoplasma...</td>\n",
       "      <td>OBJECTIVE: This retrospective chart review des...</td>\n",
       "      <td>{'url': 'https://www.ncbi.nlm.nih.gov/pmc/arti...</td>\n",
       "    </tr>\n",
       "    <tr>\n",
       "      <th>1</th>\n",
       "      <td>02tnwd4m</td>\n",
       "      <td>Nitric oxide: a pro-inflammatory mediator in l...</td>\n",
       "      <td>Inflammatory diseases of the respiratory tract...</td>\n",
       "      <td>{'url': 'https://www.ncbi.nlm.nih.gov/pmc/arti...</td>\n",
       "    </tr>\n",
       "  </tbody>\n",
       "</table>\n",
       "</div>"
      ],
      "text/plain": [
       "        _id                                              title   \n",
       "0  ug7v899j  Clinical features of culture-proven Mycoplasma...  \\\n",
       "1  02tnwd4m  Nitric oxide: a pro-inflammatory mediator in l...   \n",
       "\n",
       "                                                text   \n",
       "0  OBJECTIVE: This retrospective chart review des...  \\\n",
       "1  Inflammatory diseases of the respiratory tract...   \n",
       "\n",
       "                                            metadata  \n",
       "0  {'url': 'https://www.ncbi.nlm.nih.gov/pmc/arti...  \n",
       "1  {'url': 'https://www.ncbi.nlm.nih.gov/pmc/arti...  "
      ]
     },
     "execution_count": 9,
     "metadata": {},
     "output_type": "execute_result"
    }
   ],
   "source": [
    "corpus.head(2)"
   ]
  },
  {
   "cell_type": "code",
   "execution_count": 10,
   "metadata": {},
   "outputs": [
    {
     "data": {
      "text/html": [
       "<div>\n",
       "<style scoped>\n",
       "    .dataframe tbody tr th:only-of-type {\n",
       "        vertical-align: middle;\n",
       "    }\n",
       "\n",
       "    .dataframe tbody tr th {\n",
       "        vertical-align: top;\n",
       "    }\n",
       "\n",
       "    .dataframe thead th {\n",
       "        text-align: right;\n",
       "    }\n",
       "</style>\n",
       "<table border=\"1\" class=\"dataframe\">\n",
       "  <thead>\n",
       "    <tr style=\"text-align: right;\">\n",
       "      <th></th>\n",
       "      <th>_id</th>\n",
       "      <th>text</th>\n",
       "      <th>metadata</th>\n",
       "      <th>sparse_scores</th>\n",
       "      <th>dense_scores</th>\n",
       "    </tr>\n",
       "  </thead>\n",
       "  <tbody>\n",
       "    <tr>\n",
       "      <th>0</th>\n",
       "      <td>1</td>\n",
       "      <td>what is the origin of COVID-19</td>\n",
       "      <td>{'query': 'coronavirus origin', 'narrative': '...</td>\n",
       "      <td>[0.33793836903942276, 0.5684452940252585, 0.51...</td>\n",
       "      <td>[0.18737775, 0.05722889, 0.10594031, 0.0413222...</td>\n",
       "    </tr>\n",
       "    <tr>\n",
       "      <th>1</th>\n",
       "      <td>2</td>\n",
       "      <td>how does the coronavirus respond to changes in...</td>\n",
       "      <td>{'query': 'coronavirus response to weather cha...</td>\n",
       "      <td>[0.5107639433480153, 0.6254632143228629, 0.662...</td>\n",
       "      <td>[0.11220726, 0.05681237, 0.07420538, 0.0760865...</td>\n",
       "    </tr>\n",
       "  </tbody>\n",
       "</table>\n",
       "</div>"
      ],
      "text/plain": [
       "   _id                                               text   \n",
       "0    1                     what is the origin of COVID-19  \\\n",
       "1    2  how does the coronavirus respond to changes in...   \n",
       "\n",
       "                                            metadata   \n",
       "0  {'query': 'coronavirus origin', 'narrative': '...  \\\n",
       "1  {'query': 'coronavirus response to weather cha...   \n",
       "\n",
       "                                       sparse_scores   \n",
       "0  [0.33793836903942276, 0.5684452940252585, 0.51...  \\\n",
       "1  [0.5107639433480153, 0.6254632143228629, 0.662...   \n",
       "\n",
       "                                        dense_scores  \n",
       "0  [0.18737775, 0.05722889, 0.10594031, 0.0413222...  \n",
       "1  [0.11220726, 0.05681237, 0.07420538, 0.0760865...  "
      ]
     },
     "execution_count": 10,
     "metadata": {},
     "output_type": "execute_result"
    }
   ],
   "source": [
    "queries.head(2)"
   ]
  },
  {
   "cell_type": "code",
   "execution_count": 11,
   "metadata": {},
   "outputs": [],
   "source": [
    "corpus.to_parquet(\"corpus_dump.parquet\")\n",
    "queries.to_parquet(\"queries_dump.parquet\")"
   ]
  },
  {
   "cell_type": "markdown",
   "metadata": {},
   "source": [
    "## Top k retrieval"
   ]
  },
  {
   "cell_type": "code",
   "execution_count": 12,
   "metadata": {},
   "outputs": [],
   "source": [
    "corpus=pd.read_parquet(\"corpus_dump.parquet\")\n",
    "queries=pd.read_parquet(\"queries_dump.parquet\")"
   ]
  },
  {
   "cell_type": "code",
   "execution_count": 15,
   "metadata": {},
   "outputs": [],
   "source": [
    "k=5\n",
    "queries[\"total_score_top_k\"]=queries[\"sparse_scores\"]+queries[\"dense_scores\"]"
   ]
  },
  {
   "cell_type": "code",
   "execution_count": 16,
   "metadata": {},
   "outputs": [],
   "source": [
    "queries[\"exact_docs-score\"]=queries.apply(lambda x: zip(np.sort(x[\"total_score_top_k\"])[:-k-1:-1], corpus.loc[np.argsort(x[\"total_score_top_k\"])[:-k-1:-1], \"_id\"].values), axis=1)\n",
    "queries[\"exact_docs-score\"]=queries[\"exact_docs-score\"].apply(list)\n",
    "queries[\"exact_docs\"]=queries[\"exact_docs-score\"].apply(lambda x: [elem[1] for elem in x])"
   ]
  },
  {
   "cell_type": "markdown",
   "metadata": {},
   "source": [
    "## Top k' retrieval (approximate case)"
   ]
  },
  {
   "cell_type": "code",
   "execution_count": 18,
   "metadata": {},
   "outputs": [],
   "source": [
    "k_prime=k\n",
    "\n",
    "queries[\"index_sparse_top_k_prime\"]=queries[\"sparse_scores\"].apply(lambda x: np.argsort(x)[-k_prime:])\n",
    "queries[\"index_dense_top_k_prime\"]=queries[\"dense_scores\"].apply(lambda x: np.argsort(x)[-k_prime:])\n",
    "\n",
    "queries[\"index_union_top_k_prime\"]=queries.apply(lambda x: np.concatenate((x[\"index_sparse_top_k_prime\"], x[\"index_dense_top_k_prime\"])), axis=1)\n",
    "queries[\"index_union_top_k_prime\"]=queries[\"index_union_top_k_prime\"].apply(np.unique)"
   ]
  },
  {
   "cell_type": "code",
   "execution_count": 19,
   "metadata": {},
   "outputs": [],
   "source": [
    "queries[\"approx_docs-score\"]=queries.apply(\n",
    "    lambda x: sorted([(x[\"total_score_top_k\"][idx], corpus.iloc[idx][\"_id\"]) for idx in x[\"index_union_top_k_prime\"]], reverse=True)[:k], axis=1)\n",
    "\n",
    "queries[\"approx_docs\"]=queries[\"approx_docs-score\"].apply(lambda x: [elem[1] for elem in x])\n",
    "queries[\"approx_scores\"]=queries[\"approx_docs-score\"].apply(lambda x: [elem[0] for elem in x])"
   ]
  },
  {
   "cell_type": "markdown",
   "metadata": {},
   "source": [
    "## Evaluations"
   ]
  },
  {
   "cell_type": "code",
   "execution_count": 20,
   "metadata": {},
   "outputs": [
    {
     "data": {
      "text/plain": [
       "0.5880000000000001"
      ]
     },
     "execution_count": 20,
     "metadata": {},
     "output_type": "execute_result"
    }
   ],
   "source": [
    "queries[\"recall\"]=queries.apply(lambda x: len(np.intersect1d(x['exact_docs'], x[\"approx_docs\"], assume_unique=True))/len(x['exact_docs']), axis=1)\n",
    "np.mean(queries[\"recall\"])"
   ]
  },
  {
   "cell_type": "code",
   "execution_count": 47,
   "metadata": {},
   "outputs": [],
   "source": [
    "true_lab_df=pd.read_csv(data_dir+dataset_name_dir+\"qrels/test.tsv\", sep='\\t', header=0)"
   ]
  },
  {
   "cell_type": "code",
   "execution_count": 48,
   "metadata": {},
   "outputs": [
    {
     "name": "stdout",
     "output_type": "stream",
     "text": [
      "<class 'pandas.core.frame.DataFrame'>\n",
      "RangeIndex: 66336 entries, 0 to 66335\n",
      "Data columns (total 3 columns):\n",
      " #   Column     Non-Null Count  Dtype \n",
      "---  ------     --------------  ----- \n",
      " 0   query-id   66336 non-null  int64 \n",
      " 1   corpus-id  66336 non-null  object\n",
      " 2   score      66336 non-null  int64 \n",
      "dtypes: int64(2), object(1)\n",
      "memory usage: 1.5+ MB\n"
     ]
    }
   ],
   "source": [
    "true_lab_df.info()"
   ]
  },
  {
   "cell_type": "code",
   "execution_count": null,
   "metadata": {},
   "outputs": [],
   "source": []
  },
  {
   "cell_type": "code",
   "execution_count": 49,
   "metadata": {},
   "outputs": [],
   "source": [
    "\"\"\" for row in queries.itertuples(index=False):\n",
    "    for approx_doc in row.approx_docs:\n",
    "        true_lab_df=true_lab_df.drop(true_lab_df[true_lab_df[\"query-id\"]==row[0] & ~(true_lab_df[\"corpus-id\"]==approx_doc)].index)\n",
    "\n",
    "for row in queries.itertuples(index=False):\n",
    "    scores=true_lab_df[true_lab_df[\"query-id\"]==row[0]][\"score\"][:k]\n",
    "    if len(scores)>0:\n",
    "        print(ndcg_score([row.approx_scores], [scores], k=k)) \"\"\""
   ]
  },
  {
   "cell_type": "code",
   "execution_count": null,
   "metadata": {},
   "outputs": [],
   "source": [
    "\"\"\" queries[\"recall\"].unique()\n",
    "queries['exact_docs'][0]\n",
    "queries[\"approx_docs\"][0]\n",
    "queries['exact_docs-score'][0]\n",
    "queries[\"approx_docs-score\"][0]\n",
    "queries.explode(\"approx_docs\").shape\n",
    "queries[\"recall\"][0] \"\"\""
   ]
  }
 ],
 "metadata": {
  "kernelspec": {
   "display_name": "lwmd_ass2",
   "language": "python",
   "name": "python3"
  },
  "language_info": {
   "codemirror_mode": {
    "name": "ipython",
    "version": 3
   },
   "file_extension": ".py",
   "mimetype": "text/x-python",
   "name": "python",
   "nbconvert_exporter": "python",
   "pygments_lexer": "ipython3",
   "version": "3.10.10"
  },
  "orig_nbformat": 4
 },
 "nbformat": 4,
 "nbformat_minor": 2
}
