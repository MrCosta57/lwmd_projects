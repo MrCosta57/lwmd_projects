{
 "cells": [
  {
   "attachments": {},
   "cell_type": "markdown",
   "metadata": {},
   "source": [
    "## Learning with Massive Data\n",
    "### Assignment 2 - Studying Sparse-Dense Retrieval\n",
    "#### Giovanni Costa - 880892"
   ]
  },
  {
   "attachments": {},
   "cell_type": "markdown",
   "metadata": {},
   "source": [
    "Contents:\n",
    "- [Sparse representation](#s_repr)\n",
    "- [Dense representation](#d_repr)\n",
    "- [Top k retrieval](#exact_retr)\n",
    "- [Top k\\' retrieval (approximate case)](#approx_retr)\n",
    "- [Evaluations](#eval)"
   ]
  },
  {
   "cell_type": "code",
   "execution_count": 1,
   "metadata": {},
   "outputs": [],
   "source": [
    "import pandas as pd\n",
    "import numpy as np\n",
    "from nltk.corpus import words\n",
    "from nltk.stem import PorterStemmer\n",
    "from matplotlib import pyplot as plt\n",
    "from sentence_transformers import SentenceTransformer\n",
    "from sklearn.feature_extraction.text import CountVectorizer, TfidfVectorizer\n",
    "\n",
    "data_dir=\"datasets/\"\n",
    "dataset1_name_dir=\"trec-covid/\"\n",
    "dataset2_name_dir=\"scifact/\""
   ]
  },
  {
   "cell_type": "code",
   "execution_count": 2,
   "metadata": {},
   "outputs": [],
   "source": [
    "corpus_df1=pd.read_json(data_dir+dataset1_name_dir+\"corpus.jsonl\", lines=True)\n",
    "queries_df1=pd.read_json(data_dir+dataset1_name_dir+\"queries.jsonl\", lines=True)"
   ]
  },
  {
   "cell_type": "code",
   "execution_count": null,
   "metadata": {},
   "outputs": [],
   "source": [
    "corpus_df1.info()"
   ]
  },
  {
   "cell_type": "code",
   "execution_count": null,
   "metadata": {},
   "outputs": [],
   "source": [
    "corpus_df1.head(2)"
   ]
  },
  {
   "cell_type": "code",
   "execution_count": null,
   "metadata": {},
   "outputs": [],
   "source": [
    "queries_df1.info()"
   ]
  },
  {
   "cell_type": "code",
   "execution_count": null,
   "metadata": {},
   "outputs": [],
   "source": [
    "queries_df1.head(2)"
   ]
  },
  {
   "cell_type": "code",
   "execution_count": 3,
   "metadata": {},
   "outputs": [],
   "source": [
    "corpus_df2=pd.read_json(data_dir+dataset2_name_dir+\"corpus.jsonl\", lines=True)\n",
    "queries_df2=pd.read_json(data_dir+dataset2_name_dir+\"queries.jsonl\", lines=True)"
   ]
  },
  {
   "cell_type": "code",
   "execution_count": null,
   "metadata": {},
   "outputs": [],
   "source": [
    "corpus_df2.info()"
   ]
  },
  {
   "cell_type": "code",
   "execution_count": null,
   "metadata": {},
   "outputs": [],
   "source": [
    "corpus_df2.head(2)"
   ]
  },
  {
   "cell_type": "code",
   "execution_count": null,
   "metadata": {},
   "outputs": [],
   "source": [
    "queries_df2.info()"
   ]
  },
  {
   "cell_type": "code",
   "execution_count": null,
   "metadata": {},
   "outputs": [],
   "source": [
    "queries_df2.head(2)"
   ]
  },
  {
   "attachments": {},
   "cell_type": "markdown",
   "metadata": {},
   "source": [
    "<a id='s_repr'></a>\n",
    "### Sparse representation"
   ]
  },
  {
   "cell_type": "code",
   "execution_count": null,
   "metadata": {},
   "outputs": [],
   "source": [
    "#Sk-learn's \"TfidfVectorizer\" and \"CountVectorizer\" extension to provide the stemming feature\n",
    "class StemmedTfidfVectorizer(TfidfVectorizer):\n",
    "    stemmer = PorterStemmer()\n",
    "    def build_analyzer(self):\n",
    "        analyzer = super(StemmedTfidfVectorizer, self).build_analyzer()\n",
    "        return lambda doc: (StemmedTfidfVectorizer.stemmer.stem(w) for w in analyzer(doc))\n",
    "    \n",
    "class StemmedTfidfCountVectorizer(CountVectorizer):\n",
    "    stemmer = PorterStemmer()\n",
    "    def build_analyzer(self):\n",
    "        analyzer = super(CountVectorizer, self).build_analyzer()\n",
    "        return lambda doc: (StemmedTfidfCountVectorizer.stemmer.stem(w) for w in analyzer(doc))\n",
    "    \n",
    "    \n",
    "def compute_sparse_repr(vocab: np.array, corpus: pd.DataFrame, queries: pd.DataFrame):\n",
    "    #Extract only the word and the numbers, made a lowercase transformation and usage of custom vocabulary to make representations independent\n",
    "    doc_tfidf=StemmedTfidfVectorizer(lowercase=True, vocabulary=vocab, stop_words=None, token_pattern=r'\\w+')\n",
    "    q_counter=StemmedTfidfCountVectorizer(lowercase=True, vocabulary=vocab, stop_words=None, token_pattern=r'\\w+')\n",
    "\n",
    "    #Computation of the sparse embedding\n",
    "    sparse_doc=doc_tfidf.fit_transform(corpus[\"text\"])\n",
    "    sparse_q=q_counter.fit_transform(queries[\"text\"])\n",
    "\n",
    "    return sparse_doc, sparse_q"
   ]
  },
  {
   "cell_type": "code",
   "execution_count": null,
   "metadata": {},
   "outputs": [],
   "source": [
    "#Stem the vocabulary and drop the duplicates\n",
    "stemmer=PorterStemmer()\n",
    "vocab=np.unique([stemmer.stem(w) for w in np.char.lower(words.words())])"
   ]
  },
  {
   "cell_type": "code",
   "execution_count": null,
   "metadata": {},
   "outputs": [],
   "source": [
    "sparse_doc, sparse_q=compute_sparse_repr(vocab, corpus_df1, queries_df1)\n",
    "\n",
    "#Here it's basically computed sparse_score=<q_sparse, d_sparse>\n",
    "sparse_score_df=pd.DataFrame(np.dot(sparse_q, sparse_doc.transpose()).toarray(), index=queries_df1[\"_id\"], columns=corpus_df1[\"_id\"])\n",
    "sparse_score_df.to_parquet(\"sparse_score_df_\"+dataset1_name_dir.split(\"/\")[0]+\".parquet\")"
   ]
  },
  {
   "cell_type": "code",
   "execution_count": null,
   "metadata": {},
   "outputs": [],
   "source": [
    "sparse_doc, sparse_q=compute_sparse_repr(vocab, corpus_df2, queries_df2)\n",
    "\n",
    "#Here it's basically computed sparse_score=<q_sparse, d_sparse>\n",
    "sparse_score_df=pd.DataFrame(np.dot(sparse_q, sparse_doc.transpose()).toarray(), index=queries_df2[\"_id\"], columns=corpus_df2[\"_id\"])\n",
    "sparse_score_df.to_parquet(\"sparse_score_df_\"+dataset2_name_dir.split(\"/\")[0]+\".parquet\")"
   ]
  },
  {
   "attachments": {},
   "cell_type": "markdown",
   "metadata": {},
   "source": [
    "<a id='d_repr'></a>\n",
    "### Dense representation"
   ]
  },
  {
   "cell_type": "code",
   "execution_count": null,
   "metadata": {},
   "outputs": [],
   "source": [
    "def compute_dense_repr(corpus: pd.DataFrame, queries: pd.DataFrame):\n",
    "    transformers = SentenceTransformer('sentence-transformers/all-MiniLM-L6-v2')\n",
    "\n",
    "    ##Computation of the dense embedding\n",
    "    dense_c=transformers.encode(corpus[\"text\"], convert_to_numpy = True)\n",
    "    dense_q=transformers.encode(queries[\"text\"], convert_to_numpy = True)\n",
    "    \n",
    "    return dense_c, dense_q"
   ]
  },
  {
   "cell_type": "code",
   "execution_count": null,
   "metadata": {},
   "outputs": [],
   "source": [
    "dense_c, dense_q=compute_dense_repr(corpus_df1, queries_df1)\n",
    "\n",
    "#Here it's basically computed dense_score=<q_dense, d_dense>\n",
    "dense_score_df=pd.DataFrame(np.dot(dense_q, dense_c.transpose()), index=queries_df1[\"_id\"], columns=corpus_df1[\"_id\"])\n",
    "dense_score_df.to_parquet(\"dense_score_df_\"+dataset1_name_dir.split(\"/\")[0]+\".parquet\")"
   ]
  },
  {
   "cell_type": "code",
   "execution_count": null,
   "metadata": {},
   "outputs": [],
   "source": [
    "dense_c, dense_q=compute_dense_repr(corpus_df2, queries_df2)\n",
    "\n",
    "#Here it's basically computed dense_score=<q_dense, d_dense>\n",
    "dense_score_df=pd.DataFrame(np.dot(dense_q, dense_c.transpose()), index=queries_df2[\"_id\"], columns=corpus_df2[\"_id\"])\n",
    "dense_score_df.to_parquet(\"dense_score_df_\"+dataset2_name_dir.split(\"/\")[0]+\".parquet\")"
   ]
  },
  {
   "attachments": {},
   "cell_type": "markdown",
   "metadata": {},
   "source": [
    "<a id='exact_retr'></a>\n",
    "## Top k retrieval"
   ]
  },
  {
   "cell_type": "code",
   "execution_count": 4,
   "metadata": {},
   "outputs": [],
   "source": [
    "sparse_score_df1=pd.read_parquet(\"sparse_score_df_\"+dataset1_name_dir.split(\"/\")[0]+\".parquet\")\n",
    "dense_score_df1=pd.read_parquet(\"dense_score_df_\"+dataset1_name_dir.split(\"/\")[0]+\".parquet\")"
   ]
  },
  {
   "cell_type": "code",
   "execution_count": 5,
   "metadata": {},
   "outputs": [
    {
     "name": "stdout",
     "output_type": "stream",
     "text": [
      "<class 'pandas.core.frame.DataFrame'>\n",
      "Index: 50 entries, 1 to 50\n",
      "Columns: 171332 entries, ug7v899j to pnl9th2c\n",
      "dtypes: float32(171332)\n",
      "memory usage: 32.7 MB\n"
     ]
    }
   ],
   "source": [
    "sparse_score_df1.info()"
   ]
  },
  {
   "cell_type": "code",
   "execution_count": 6,
   "metadata": {},
   "outputs": [
    {
     "name": "stdout",
     "output_type": "stream",
     "text": [
      "<class 'pandas.core.frame.DataFrame'>\n",
      "Index: 50 entries, 1 to 50\n",
      "Columns: 171332 entries, ug7v899j to pnl9th2c\n",
      "dtypes: float32(171332)\n",
      "memory usage: 32.7 MB\n"
     ]
    }
   ],
   "source": [
    "dense_score_df1.info()"
   ]
  },
  {
   "cell_type": "code",
   "execution_count": 7,
   "metadata": {},
   "outputs": [],
   "source": [
    "sparse_score_df2=pd.read_parquet(\"sparse_score_df_\"+dataset2_name_dir.split(\"/\")[0]+\".parquet\")\n",
    "dense_score_df2=pd.read_parquet(\"dense_score_df_\"+dataset2_name_dir.split(\"/\")[0]+\".parquet\")"
   ]
  },
  {
   "cell_type": "code",
   "execution_count": 8,
   "metadata": {},
   "outputs": [
    {
     "name": "stdout",
     "output_type": "stream",
     "text": [
      "<class 'pandas.core.frame.DataFrame'>\n",
      "Index: 1109 entries, 0 to 1395\n",
      "Columns: 5183 entries, 4983 to 198309074\n",
      "dtypes: float32(5183)\n",
      "memory usage: 21.9 MB\n"
     ]
    }
   ],
   "source": [
    "sparse_score_df2.info()"
   ]
  },
  {
   "cell_type": "code",
   "execution_count": 9,
   "metadata": {},
   "outputs": [
    {
     "name": "stdout",
     "output_type": "stream",
     "text": [
      "<class 'pandas.core.frame.DataFrame'>\n",
      "Index: 1109 entries, 0 to 1395\n",
      "Columns: 5183 entries, 4983 to 198309074\n",
      "dtypes: float32(5183)\n",
      "memory usage: 21.9 MB\n"
     ]
    }
   ],
   "source": [
    "dense_score_df2.info()"
   ]
  },
  {
   "cell_type": "code",
   "execution_count": 10,
   "metadata": {},
   "outputs": [],
   "source": [
    "def compute_sorted_indexes(sparse_score_df: pd.DataFrame, dense_score_df: pd.DataFrame, total_score_df: pd.DataFrame):\n",
    "    idx_sparse=np.argsort(sparse_score_df)\n",
    "    idx_dense=np.argsort(dense_score_df)\n",
    "    idx_total=np.argsort(total_score_df)\n",
    "    return idx_sparse, idx_dense, idx_total\n",
    "\n",
    "def compute_exact_retrieval(total_score_df: pd.DataFrame, idx_total: np.array, k: int):\n",
    "    #Get the exact top-k documents indexes\n",
    "    idx_exact_top_k=idx_total[:, :-k-1:-1]\n",
    "    #Get the exact top-k documents ids\n",
    "    top_k_exact_docs=np.array(total_score_df.columns[idx_exact_top_k.reshape(-1)]).reshape(-1, k)\n",
    "    \n",
    "    return top_k_exact_docs"
   ]
  },
  {
   "cell_type": "code",
   "execution_count": 11,
   "metadata": {},
   "outputs": [],
   "source": [
    "k=5\n",
    "total_score_df1=sparse_score_df1+dense_score_df1 #sum the two scores df\n",
    "#Compute the sorted list of relevant score indexes to speed up the next top-k or top-k' retrievals\n",
    "idx_sparse_df1, idx_dense_df1, idx_total_df1=compute_sorted_indexes(sparse_score_df1, dense_score_df1, total_score_df1)\n",
    "top_k_exact_docs_df1=compute_exact_retrieval(total_score_df1, idx_total_df1, k)"
   ]
  },
  {
   "cell_type": "code",
   "execution_count": 12,
   "metadata": {},
   "outputs": [
    {
     "data": {
      "text/html": [
       "<div>\n",
       "<style scoped>\n",
       "    .dataframe tbody tr th:only-of-type {\n",
       "        vertical-align: middle;\n",
       "    }\n",
       "\n",
       "    .dataframe tbody tr th {\n",
       "        vertical-align: top;\n",
       "    }\n",
       "\n",
       "    .dataframe thead th {\n",
       "        text-align: right;\n",
       "    }\n",
       "</style>\n",
       "<table border=\"1\" class=\"dataframe\">\n",
       "  <thead>\n",
       "    <tr style=\"text-align: right;\">\n",
       "      <th>_id</th>\n",
       "      <th>ug7v899j</th>\n",
       "      <th>02tnwd4m</th>\n",
       "      <th>ejv2xln0</th>\n",
       "      <th>2b73a28n</th>\n",
       "      <th>9785vg6d</th>\n",
       "      <th>zjufx4fo</th>\n",
       "      <th>5yhe786e</th>\n",
       "      <th>8zchiykl</th>\n",
       "      <th>8qnrcgnk</th>\n",
       "      <th>jg13scgo</th>\n",
       "      <th>...</th>\n",
       "      <th>fvhq8yud</th>\n",
       "      <th>plp5sxyl</th>\n",
       "      <th>cpgcp7cs</th>\n",
       "      <th>yz0buegp</th>\n",
       "      <th>08gqn86z</th>\n",
       "      <th>7e8r61e7</th>\n",
       "      <th>6jittbis</th>\n",
       "      <th>hi8k8wvb</th>\n",
       "      <th>ma3ndg41</th>\n",
       "      <th>pnl9th2c</th>\n",
       "    </tr>\n",
       "    <tr>\n",
       "      <th>_id</th>\n",
       "      <th></th>\n",
       "      <th></th>\n",
       "      <th></th>\n",
       "      <th></th>\n",
       "      <th></th>\n",
       "      <th></th>\n",
       "      <th></th>\n",
       "      <th></th>\n",
       "      <th></th>\n",
       "      <th></th>\n",
       "      <th></th>\n",
       "      <th></th>\n",
       "      <th></th>\n",
       "      <th></th>\n",
       "      <th></th>\n",
       "      <th></th>\n",
       "      <th></th>\n",
       "      <th></th>\n",
       "      <th></th>\n",
       "      <th></th>\n",
       "      <th></th>\n",
       "    </tr>\n",
       "  </thead>\n",
       "  <tbody>\n",
       "    <tr>\n",
       "      <th>1</th>\n",
       "      <td>0.453372</td>\n",
       "      <td>0.584910</td>\n",
       "      <td>0.582493</td>\n",
       "      <td>0.345679</td>\n",
       "      <td>0.544013</td>\n",
       "      <td>0.600357</td>\n",
       "      <td>0.190219</td>\n",
       "      <td>0.496787</td>\n",
       "      <td>0.248941</td>\n",
       "      <td>0.388101</td>\n",
       "      <td>...</td>\n",
       "      <td>-0.016971</td>\n",
       "      <td>0.812093</td>\n",
       "      <td>0.686764</td>\n",
       "      <td>0.599872</td>\n",
       "      <td>0.551895</td>\n",
       "      <td>-0.016971</td>\n",
       "      <td>0.204954</td>\n",
       "      <td>0.398401</td>\n",
       "      <td>1.134267</td>\n",
       "      <td>-0.016971</td>\n",
       "    </tr>\n",
       "    <tr>\n",
       "      <th>2</th>\n",
       "      <td>0.514232</td>\n",
       "      <td>0.637419</td>\n",
       "      <td>0.680840</td>\n",
       "      <td>0.360693</td>\n",
       "      <td>0.862798</td>\n",
       "      <td>0.771147</td>\n",
       "      <td>0.510018</td>\n",
       "      <td>0.422742</td>\n",
       "      <td>0.492347</td>\n",
       "      <td>0.695964</td>\n",
       "      <td>...</td>\n",
       "      <td>0.016533</td>\n",
       "      <td>0.886815</td>\n",
       "      <td>0.978100</td>\n",
       "      <td>0.691514</td>\n",
       "      <td>0.811774</td>\n",
       "      <td>0.016533</td>\n",
       "      <td>0.450004</td>\n",
       "      <td>0.711241</td>\n",
       "      <td>1.040751</td>\n",
       "      <td>0.016533</td>\n",
       "    </tr>\n",
       "  </tbody>\n",
       "</table>\n",
       "<p>2 rows × 171332 columns</p>\n",
       "</div>"
      ],
      "text/plain": [
       "_id  ug7v899j  02tnwd4m  ejv2xln0  2b73a28n  9785vg6d  zjufx4fo  5yhe786e   \n",
       "_id                                                                         \n",
       "1    0.453372  0.584910  0.582493  0.345679  0.544013  0.600357  0.190219  \\\n",
       "2    0.514232  0.637419  0.680840  0.360693  0.862798  0.771147  0.510018   \n",
       "\n",
       "_id  8zchiykl  8qnrcgnk  jg13scgo  ...  fvhq8yud  plp5sxyl  cpgcp7cs   \n",
       "_id                                ...                                 \n",
       "1    0.496787  0.248941  0.388101  ... -0.016971  0.812093  0.686764  \\\n",
       "2    0.422742  0.492347  0.695964  ...  0.016533  0.886815  0.978100   \n",
       "\n",
       "_id  yz0buegp  08gqn86z  7e8r61e7  6jittbis  hi8k8wvb  ma3ndg41  pnl9th2c  \n",
       "_id                                                                        \n",
       "1    0.599872  0.551895 -0.016971  0.204954  0.398401  1.134267 -0.016971  \n",
       "2    0.691514  0.811774  0.016533  0.450004  0.711241  1.040751  0.016533  \n",
       "\n",
       "[2 rows x 171332 columns]"
      ]
     },
     "execution_count": 12,
     "metadata": {},
     "output_type": "execute_result"
    }
   ],
   "source": [
    "total_score_df1.head(2)"
   ]
  },
  {
   "cell_type": "code",
   "execution_count": 13,
   "metadata": {},
   "outputs": [
    {
     "data": {
      "text/plain": [
       "array(['dv9m19yk', 'vpodtbjk', '76gbhh40', '75773gwg', 'sjyrr2bn'],\n",
       "      dtype=object)"
      ]
     },
     "execution_count": 13,
     "metadata": {},
     "output_type": "execute_result"
    }
   ],
   "source": [
    "top_k_exact_docs_df1[0]"
   ]
  },
  {
   "cell_type": "code",
   "execution_count": 14,
   "metadata": {},
   "outputs": [],
   "source": [
    "k=5\n",
    "total_score_df2=sparse_score_df2+dense_score_df2 #sum the two scores df\n",
    "#Compute the sorted list of relevant score indexes to speed up the next top-k or top-k' retrievals\n",
    "idx_sparse_df2, idx_dense_df2, idx_total_df2=compute_sorted_indexes(sparse_score_df2, dense_score_df2, total_score_df2)\n",
    "top_k_exact_docs_df2=compute_exact_retrieval(total_score_df2, idx_total_df2, k)"
   ]
  },
  {
   "cell_type": "code",
   "execution_count": 15,
   "metadata": {},
   "outputs": [
    {
     "data": {
      "text/html": [
       "<div>\n",
       "<style scoped>\n",
       "    .dataframe tbody tr th:only-of-type {\n",
       "        vertical-align: middle;\n",
       "    }\n",
       "\n",
       "    .dataframe tbody tr th {\n",
       "        vertical-align: top;\n",
       "    }\n",
       "\n",
       "    .dataframe thead th {\n",
       "        text-align: right;\n",
       "    }\n",
       "</style>\n",
       "<table border=\"1\" class=\"dataframe\">\n",
       "  <thead>\n",
       "    <tr style=\"text-align: right;\">\n",
       "      <th>_id</th>\n",
       "      <th>4983</th>\n",
       "      <th>5836</th>\n",
       "      <th>7912</th>\n",
       "      <th>18670</th>\n",
       "      <th>19238</th>\n",
       "      <th>33370</th>\n",
       "      <th>36474</th>\n",
       "      <th>54440</th>\n",
       "      <th>70115</th>\n",
       "      <th>70490</th>\n",
       "      <th>...</th>\n",
       "      <th>167944455</th>\n",
       "      <th>168265642</th>\n",
       "      <th>195317463</th>\n",
       "      <th>195680777</th>\n",
       "      <th>195683603</th>\n",
       "      <th>195689316</th>\n",
       "      <th>195689757</th>\n",
       "      <th>196664003</th>\n",
       "      <th>198133135</th>\n",
       "      <th>198309074</th>\n",
       "    </tr>\n",
       "    <tr>\n",
       "      <th>_id</th>\n",
       "      <th></th>\n",
       "      <th></th>\n",
       "      <th></th>\n",
       "      <th></th>\n",
       "      <th></th>\n",
       "      <th></th>\n",
       "      <th></th>\n",
       "      <th></th>\n",
       "      <th></th>\n",
       "      <th></th>\n",
       "      <th></th>\n",
       "      <th></th>\n",
       "      <th></th>\n",
       "      <th></th>\n",
       "      <th></th>\n",
       "      <th></th>\n",
       "      <th></th>\n",
       "      <th></th>\n",
       "      <th></th>\n",
       "      <th></th>\n",
       "      <th></th>\n",
       "    </tr>\n",
       "  </thead>\n",
       "  <tbody>\n",
       "    <tr>\n",
       "      <th>0</th>\n",
       "      <td>0.173609</td>\n",
       "      <td>0.074928</td>\n",
       "      <td>0.100784</td>\n",
       "      <td>0.064549</td>\n",
       "      <td>0.061095</td>\n",
       "      <td>0.084592</td>\n",
       "      <td>0.161269</td>\n",
       "      <td>0.015956</td>\n",
       "      <td>-0.005350</td>\n",
       "      <td>-0.095452</td>\n",
       "      <td>...</td>\n",
       "      <td>0.136015</td>\n",
       "      <td>0.065667</td>\n",
       "      <td>-0.093384</td>\n",
       "      <td>0.013274</td>\n",
       "      <td>0.042026</td>\n",
       "      <td>-0.052650</td>\n",
       "      <td>-0.016264</td>\n",
       "      <td>0.132296</td>\n",
       "      <td>-0.033341</td>\n",
       "      <td>-0.032738</td>\n",
       "    </tr>\n",
       "    <tr>\n",
       "      <th>2</th>\n",
       "      <td>0.239761</td>\n",
       "      <td>0.060025</td>\n",
       "      <td>0.140355</td>\n",
       "      <td>0.346917</td>\n",
       "      <td>0.306274</td>\n",
       "      <td>0.253765</td>\n",
       "      <td>0.184418</td>\n",
       "      <td>0.296677</td>\n",
       "      <td>0.255463</td>\n",
       "      <td>0.310669</td>\n",
       "      <td>...</td>\n",
       "      <td>0.334734</td>\n",
       "      <td>0.281085</td>\n",
       "      <td>0.319543</td>\n",
       "      <td>0.167405</td>\n",
       "      <td>-0.067490</td>\n",
       "      <td>0.290175</td>\n",
       "      <td>0.056888</td>\n",
       "      <td>0.010967</td>\n",
       "      <td>0.412197</td>\n",
       "      <td>0.362381</td>\n",
       "    </tr>\n",
       "  </tbody>\n",
       "</table>\n",
       "<p>2 rows × 5183 columns</p>\n",
       "</div>"
      ],
      "text/plain": [
       "_id  4983       5836       7912       18670      19238      33370       \n",
       "_id                                                                     \n",
       "0     0.173609   0.074928   0.100784   0.064549   0.061095   0.084592  \\\n",
       "2     0.239761   0.060025   0.140355   0.346917   0.306274   0.253765   \n",
       "\n",
       "_id  36474      54440      70115      70490      ...  167944455  168265642   \n",
       "_id                                              ...                         \n",
       "0     0.161269   0.015956  -0.005350  -0.095452  ...   0.136015   0.065667  \\\n",
       "2     0.184418   0.296677   0.255463   0.310669  ...   0.334734   0.281085   \n",
       "\n",
       "_id  195317463  195680777  195683603  195689316  195689757  196664003   \n",
       "_id                                                                     \n",
       "0    -0.093384   0.013274   0.042026  -0.052650  -0.016264   0.132296  \\\n",
       "2     0.319543   0.167405  -0.067490   0.290175   0.056888   0.010967   \n",
       "\n",
       "_id  198133135  198309074  \n",
       "_id                        \n",
       "0    -0.033341  -0.032738  \n",
       "2     0.412197   0.362381  \n",
       "\n",
       "[2 rows x 5183 columns]"
      ]
     },
     "execution_count": 15,
     "metadata": {},
     "output_type": "execute_result"
    }
   ],
   "source": [
    "total_score_df2.head(2)"
   ]
  },
  {
   "cell_type": "code",
   "execution_count": 16,
   "metadata": {},
   "outputs": [
    {
     "data": {
      "text/plain": [
       "array([10786948,   825728, 17388232,  7581911, 10607877], dtype=int64)"
      ]
     },
     "execution_count": 16,
     "metadata": {},
     "output_type": "execute_result"
    }
   ],
   "source": [
    "top_k_exact_docs_df2[0]"
   ]
  },
  {
   "attachments": {},
   "cell_type": "markdown",
   "metadata": {},
   "source": [
    "<a id='approx_retr'></a>\n",
    "## Top k' retrieval (approximate case)"
   ]
  },
  {
   "cell_type": "code",
   "execution_count": 17,
   "metadata": {},
   "outputs": [],
   "source": [
    "def compute_approx_retrieval(idx_sparse: np.array, idx_dense: np.array, total_score_df: pd.DataFrame, k: int, k_prime: int):\n",
    "    \n",
    "    #Get the indexes of top-k' docs for the sparse representations\n",
    "    idx_sparse_scores=idx_sparse[:, :-k_prime-1:-1]\n",
    "    #Get the indexes of top-k' docs for the dense representations\n",
    "    idx_dense_scores=idx_dense[:, :-k_prime-1:-1]\n",
    "\n",
    "    #Merging of the two vectors of indexes\n",
    "    concat_idx=np.concatenate((idx_sparse_scores, idx_dense_scores), axis=1)\n",
    "    #Drop duplicates in every row\n",
    "    union_idx=[np.unique(x) for x in concat_idx]\n",
    "    \n",
    "    #Get the indexes of the top-k documents given the merged approximate sets:\n",
    "    #for every query, take the top-k indexes using the specific column indexes of the merged set, based on total_score computed previous\n",
    "    idx_approx_top_k=np.asarray([ union_idx[i][np.argsort(total_score_df.iloc[i, union_idx[i]])[:-k-1:-1].values]\n",
    "                                  for i in range(len(union_idx)) ])\n",
    "    \n",
    "    \n",
    "    #Get the doc ids from the retrieved indexes\n",
    "    top_k_approx_docs=np.array(total_score_df.columns[idx_approx_top_k.reshape(-1)]).reshape(-1, k)\n",
    "\n",
    "    return top_k_approx_docs"
   ]
  },
  {
   "cell_type": "code",
   "execution_count": 18,
   "metadata": {},
   "outputs": [],
   "source": [
    "top_k_approx_docs_df1=compute_approx_retrieval(idx_sparse_df1, idx_dense_df1, total_score_df1, k, k)"
   ]
  },
  {
   "cell_type": "code",
   "execution_count": 19,
   "metadata": {},
   "outputs": [
    {
     "data": {
      "text/plain": [
       "array(['dv9m19yk', '7nhnds83', 'mm4ngrla', '1loqavom', 'euv03cul'],\n",
       "      dtype=object)"
      ]
     },
     "execution_count": 19,
     "metadata": {},
     "output_type": "execute_result"
    }
   ],
   "source": [
    "top_k_approx_docs_df1[0]"
   ]
  },
  {
   "cell_type": "code",
   "execution_count": 20,
   "metadata": {},
   "outputs": [],
   "source": [
    "top_k_approx_docs_df2=compute_approx_retrieval(idx_sparse_df2, idx_dense_df2, total_score_df2, k, k)"
   ]
  },
  {
   "cell_type": "code",
   "execution_count": 21,
   "metadata": {},
   "outputs": [
    {
     "data": {
      "text/plain": [
       "array([10786948, 17388232, 29638116, 10906636,   994800], dtype=int64)"
      ]
     },
     "execution_count": 21,
     "metadata": {},
     "output_type": "execute_result"
    }
   ],
   "source": [
    "top_k_approx_docs_df2[0]"
   ]
  },
  {
   "attachments": {},
   "cell_type": "markdown",
   "metadata": {},
   "source": [
    "<a id='eval'></a>\n",
    "## Evaluations"
   ]
  },
  {
   "cell_type": "code",
   "execution_count": 34,
   "metadata": {},
   "outputs": [],
   "source": [
    "def evaluation_fun(total_score_df: pd.DataFrame, \n",
    "                   idx_sparse: np.array, idx_dense: np.array, idx_total: np.array,                   \n",
    "                   corpus_len: int, k_list: list, step:int=1, epsilon:float=0.01):\n",
    "    mean_recalls_list=[list() for i in range(len(k_list))]\n",
    "    top_k_exact_approx_lists=[list() for i in range(len(k_list))]\n",
    "    max_k_prime_list=[]\n",
    "    i=0\n",
    "    for k in k_list:\n",
    "        top_k_exact_docs=compute_exact_retrieval(total_score_df, idx_total, k)\n",
    "        for k_prime in range(k, corpus_len+1, step):\n",
    "            top_k_approx_docs=compute_approx_retrieval(idx_sparse, idx_dense, total_score_df, k, k_prime)\n",
    "            recalls=[len(np.intersect1d(top_k_exact_docs[i], top_k_approx_docs[i], assume_unique=True))/k for i in range(len(top_k_exact_docs))]\n",
    "            mean=np.mean(recalls)\n",
    "            mean_recalls_list[i].append(mean)\n",
    "\n",
    "            if mean>=1-epsilon or k==corpus_len:\n",
    "                print(k_prime)\n",
    "                max_k_prime_list.append(k_prime)\n",
    "                break\n",
    "        i+=1\n",
    "    \n",
    "    return mean_recalls_list, top_k_exact_approx_lists, max_k_prime_list\n"
   ]
  },
  {
   "cell_type": "code",
   "execution_count": 54,
   "metadata": {},
   "outputs": [],
   "source": [
    "def print_plot(k_list, mean_recalls_list, max_k_prime_list, step=1):\n",
    "    plt.figure(figsize=(7, 5))\n",
    "    plt.ylabel('Recall scores')\n",
    "    plt.xlabel('K\\' values')\n",
    "    plt.ylim(np.min(np.concatenate(mean_recalls_list)), 1)\n",
    "    plt.hlines(np.max(np.concatenate(mean_recalls_list)), np.min(k_list), np.max(max_k_prime_list), linewidth=2, linestyles=\"dashed\", colors=\"grey\")\n",
    "\n",
    "    for i in range(len(k_list)):    \n",
    "        plt.plot(range(k_list[i], max_k_prime_list[i]+1, step), mean_recalls_list[i], linewidth=2, label=\"k=\"+str(k_list[i]))\n",
    "    plt.grid()\n",
    "    plt.legend()\n",
    "    plt.show()"
   ]
  },
  {
   "cell_type": "code",
   "execution_count": 36,
   "metadata": {},
   "outputs": [
    {
     "name": "stdout",
     "output_type": "stream",
     "text": [
      "32\n",
      "168\n",
      "285\n",
      "489\n"
     ]
    }
   ],
   "source": [
    "k_list=[5, 50, 100, 200]\n",
    "mean_recalls_list_df1, top_k_exact_approx_lists_df1, max_k_prime_list_df1=evaluation_fun(total_score_df1, idx_sparse_df1, idx_dense_df1, idx_total_df1, len(corpus_df1), k_list)"
   ]
  },
  {
   "cell_type": "code",
   "execution_count": 55,
   "metadata": {},
   "outputs": [
    {
     "data": {
      "image/png": "[encoded data removed]",
      "text/plain": [
       "<Figure size 700x500 with 1 Axes>"
      ]
     },
     "metadata": {},
     "output_type": "display_data"
    }
   ],
   "source": [
    "print_plot(k_list, mean_recalls_list_df1, max_k_prime_list_df1)"
   ]
  },
  {
   "cell_type": "code",
   "execution_count": 40,
   "metadata": {},
   "outputs": [
    {
     "name": "stdout",
     "output_type": "stream",
     "text": [
      "K:  5\n",
      "Exit threshold:  0.99\n",
      "Highest recall w.r.t. exact solution:  0.992 ,\n",
      "obtained with k':  32\n",
      "\n",
      "K:  50\n",
      "Exit threshold:  0.99\n",
      "Highest recall w.r.t. exact solution:  0.99 ,\n",
      "obtained with k':  168\n",
      "\n",
      "K:  100\n",
      "Exit threshold:  0.99\n",
      "Highest recall w.r.t. exact solution:  0.9902000000000001 ,\n",
      "obtained with k':  285\n",
      "\n",
      "K:  200\n",
      "Exit threshold:  0.99\n",
      "Highest recall w.r.t. exact solution:  0.99 ,\n",
      "obtained with k':  489\n",
      "\n"
     ]
    }
   ],
   "source": [
    "for i in range(len(k_list)):\n",
    "    print(\"K: \", k_list[i])\n",
    "    idx=np.argmax(mean_recalls_list_df1[i])\n",
    "    print(\"Exit threshold: \", 1-0.01)\n",
    "    print(\"Highest recall w.r.t. exact solution: \", mean_recalls_list_df1[i][idx], \",\")\n",
    "    print(\"obtained with k\\': \", max_k_prime_list_df1[i])\n",
    "    print()\n"
   ]
  },
  {
   "cell_type": "code",
   "execution_count": 38,
   "metadata": {},
   "outputs": [
    {
     "name": "stdout",
     "output_type": "stream",
     "text": [
      "17\n",
      "107\n",
      "184\n",
      "315\n"
     ]
    }
   ],
   "source": [
    "mean_recalls_list_df2, top_k_exact_approx_lists_df2, max_k_prime_list_df2=evaluation_fun(total_score_df2, idx_sparse_df2, idx_dense_df2, idx_total_df2, len(corpus_df2), k_list)"
   ]
  },
  {
   "cell_type": "code",
   "execution_count": 56,
   "metadata": {},
   "outputs": [
    {
     "data": {
      "image/png": "[encoded data removed]",
      "text/plain": [
       "<Figure size 700x500 with 1 Axes>"
      ]
     },
     "metadata": {},
     "output_type": "display_data"
    }
   ],
   "source": [
    "print_plot(k_list, mean_recalls_list_df2, max_k_prime_list_df2)"
   ]
  },
  {
   "cell_type": "code",
   "execution_count": 41,
   "metadata": {},
   "outputs": [
    {
     "name": "stdout",
     "output_type": "stream",
     "text": [
      "K:  5\n",
      "Exit threshold:  0.99\n",
      "Highest recall w.r.t. exact solution:  0.9913435527502256 ,\n",
      "obtained with k':  17\n",
      "\n",
      "K:  50\n",
      "Exit threshold:  0.99\n",
      "Highest recall w.r.t. exact solution:  0.9903877366997296 ,\n",
      "obtained with k':  107\n",
      "\n",
      "K:  100\n",
      "Exit threshold:  0.99\n",
      "Highest recall w.r.t. exact solution:  0.9900901713255187 ,\n",
      "obtained with k':  184\n",
      "\n",
      "K:  200\n",
      "Exit threshold:  0.99\n",
      "Highest recall w.r.t. exact solution:  0.9900360685302072 ,\n",
      "obtained with k':  315\n",
      "\n"
     ]
    }
   ],
   "source": [
    "for i in range(len(k_list)):\n",
    "    print(\"K: \", k_list[i])\n",
    "    idx=np.argmax(mean_recalls_list_df2[i])\n",
    "    print(\"Exit threshold: \", 1-0.01)\n",
    "    print(\"Highest recall w.r.t. exact solution: \", mean_recalls_list_df2[i][idx], \",\")\n",
    "    print(\"obtained with k\\': \", max_k_prime_list_df2[i])\n",
    "    print()\n"
   ]
  }
 ],
 "metadata": {
  "kernelspec": {
   "display_name": "lwmd_ass2",
   "language": "python",
   "name": "python3"
  },
  "language_info": {
   "codemirror_mode": {
    "name": "ipython",
    "version": 3
   },
   "file_extension": ".py",
   "mimetype": "text/x-python",
   "name": "python",
   "nbconvert_exporter": "python",
   "pygments_lexer": "ipython3",
   "version": "3.10.10"
  },
  "orig_nbformat": 4
 },
 "nbformat": 4,
 "nbformat_minor": 2
}
