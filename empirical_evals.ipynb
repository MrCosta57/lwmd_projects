{
 "cells": [
  {
   "cell_type": "code",
   "execution_count": 1,
   "metadata": {},
   "outputs": [],
   "source": [
    "import pandas as pd\n",
    "import numpy as np\n",
    "from sentence_transformers import SentenceTransformer\n",
    "from rank_bm25 import BM25Okapi\n",
    "from nltk.corpus import words\n",
    "from nltk.tokenize import RegexpTokenizer\n",
    "from nltk.stem import PorterStemmer\n",
    "#nltk.download('words')\n",
    "#nltk.download('stopwords')\n",
    "#nltk.download('punkt')\n",
    "\n",
    "data_dir=\"datasets/\"\n",
    "dataset_name_dir=\"nfcorpus/\"\n",
    "#pd.read_csv(data_dir+dataset_name_dir+qrels/test.tsv\", sep='\\t', header=0)"
   ]
  },
  {
   "cell_type": "code",
   "execution_count": 2,
   "metadata": {},
   "outputs": [],
   "source": [
    "corpus=pd.read_json(data_dir+dataset_name_dir+\"corpus.jsonl\", lines=True, dtype_backend='pyarrow')\n",
    "queries=pd.read_json(data_dir+dataset_name_dir+\"queries.jsonl\", lines=True, dtype_backend='pyarrow')"
   ]
  },
  {
   "attachments": {},
   "cell_type": "markdown",
   "metadata": {},
   "source": [
    "### Sparse representation"
   ]
  },
  {
   "cell_type": "code",
   "execution_count": 3,
   "metadata": {},
   "outputs": [],
   "source": [
    "#Preprocessing for sparse representation\n",
    "corpus[\"text_lower\"]=corpus[\"text\"].apply(str.lower)\n",
    "queries[\"text_lower\"]=queries[\"text\"].apply(str.lower)\n",
    "\n",
    "tokenizer=RegexpTokenizer(r'\\w+')\n",
    "corpus[\"tokens\"]=corpus[\"text_lower\"].apply(tokenizer.tokenize)\n",
    "queries[\"tokens\"]=queries[\"text_lower\"].apply(tokenizer.tokenize)\n",
    "\n",
    "stemmer = PorterStemmer()\n",
    "corpus[\"stem_tokens\"] = corpus[\"tokens\"].apply(lambda x: [stemmer.stem(y) for y in x])\n",
    "queries[\"stem_tokens\"] = queries[\"tokens\"].apply(lambda x: [stemmer.stem(y) for y in x])"
   ]
  },
  {
   "cell_type": "code",
   "execution_count": 4,
   "metadata": {},
   "outputs": [],
   "source": [
    "def compute_sparse_repr(vocab: np.array, corpus: pd.DataFrame, queries: pd.DataFrame):\n",
    "    bm25 = BM25Okapi(corpus[\"stem_tokens\"])\n",
    "    doc_reps=bm25.get_scores(vocab)\n",
    "    queries[\"sparse_emb\"]=queries[\"stem_tokens\"].apply(lambda x: [1 if t in x else 0 for t in vocab])\n",
    "    return doc_reps"
   ]
  },
  {
   "cell_type": "code",
   "execution_count": 8,
   "metadata": {},
   "outputs": [
    {
     "data": {
      "text/plain": [
       "3633"
      ]
     },
     "execution_count": 8,
     "metadata": {},
     "output_type": "execute_result"
    }
   ],
   "source": [
    "len(corpus)"
   ]
  },
  {
   "cell_type": "code",
   "execution_count": 5,
   "metadata": {},
   "outputs": [
    {
     "name": "stdout",
     "output_type": "stream",
     "text": [
      "Done repr\n"
     ]
    },
    {
     "ename": "ValueError",
     "evalue": "shapes (236736,) and (3633,) not aligned: 236736 (dim 0) != 3633 (dim 0)",
     "output_type": "error",
     "traceback": [
      "\u001b[1;31m---------------------------------------------------------------------------\u001b[0m",
      "\u001b[1;31mValueError\u001b[0m                                Traceback (most recent call last)",
      "Cell \u001b[1;32mIn[5], line 5\u001b[0m\n\u001b[0;32m      3\u001b[0m \u001b[39mprint\u001b[39m(\u001b[39m\"\u001b[39m\u001b[39mDone repr\u001b[39m\u001b[39m\"\u001b[39m)\n\u001b[0;32m      4\u001b[0m \u001b[39m#Here it's basically computed sparse_score=<q_sparse, d_sparse>\u001b[39;00m\n\u001b[1;32m----> 5\u001b[0m queries[\u001b[39m\"\u001b[39m\u001b[39msparse_scores\u001b[39m\u001b[39m\"\u001b[39m]\u001b[39m=\u001b[39mqueries[\u001b[39m\"\u001b[39;49m\u001b[39msparse_emb\u001b[39;49m\u001b[39m\"\u001b[39;49m]\u001b[39m.\u001b[39;49mapply(\u001b[39mlambda\u001b[39;49;00m x: np\u001b[39m.\u001b[39;49mdot(x, doc_reps))\n",
      "File \u001b[1;32mc:\\ProgramData\\mambaforge\\envs\\lwmd_ass2\\lib\\site-packages\\pandas\\core\\series.py:4631\u001b[0m, in \u001b[0;36mSeries.apply\u001b[1;34m(self, func, convert_dtype, args, **kwargs)\u001b[0m\n\u001b[0;32m   4521\u001b[0m \u001b[39mdef\u001b[39;00m \u001b[39mapply\u001b[39m(\n\u001b[0;32m   4522\u001b[0m     \u001b[39mself\u001b[39m,\n\u001b[0;32m   4523\u001b[0m     func: AggFuncType,\n\u001b[1;32m   (...)\u001b[0m\n\u001b[0;32m   4526\u001b[0m     \u001b[39m*\u001b[39m\u001b[39m*\u001b[39mkwargs,\n\u001b[0;32m   4527\u001b[0m ) \u001b[39m-\u001b[39m\u001b[39m>\u001b[39m DataFrame \u001b[39m|\u001b[39m Series:\n\u001b[0;32m   4528\u001b[0m     \u001b[39m\"\"\"\u001b[39;00m\n\u001b[0;32m   4529\u001b[0m \u001b[39m    Invoke function on values of Series.\u001b[39;00m\n\u001b[0;32m   4530\u001b[0m \n\u001b[1;32m   (...)\u001b[0m\n\u001b[0;32m   4629\u001b[0m \u001b[39m    dtype: float64\u001b[39;00m\n\u001b[0;32m   4630\u001b[0m \u001b[39m    \"\"\"\u001b[39;00m\n\u001b[1;32m-> 4631\u001b[0m     \u001b[39mreturn\u001b[39;00m SeriesApply(\u001b[39mself\u001b[39;49m, func, convert_dtype, args, kwargs)\u001b[39m.\u001b[39;49mapply()\n",
      "File \u001b[1;32mc:\\ProgramData\\mambaforge\\envs\\lwmd_ass2\\lib\\site-packages\\pandas\\core\\apply.py:1025\u001b[0m, in \u001b[0;36mSeriesApply.apply\u001b[1;34m(self)\u001b[0m\n\u001b[0;32m   1022\u001b[0m     \u001b[39mreturn\u001b[39;00m \u001b[39mself\u001b[39m\u001b[39m.\u001b[39mapply_str()\n\u001b[0;32m   1024\u001b[0m \u001b[39m# self.f is Callable\u001b[39;00m\n\u001b[1;32m-> 1025\u001b[0m \u001b[39mreturn\u001b[39;00m \u001b[39mself\u001b[39;49m\u001b[39m.\u001b[39;49mapply_standard()\n",
      "File \u001b[1;32mc:\\ProgramData\\mambaforge\\envs\\lwmd_ass2\\lib\\site-packages\\pandas\\core\\apply.py:1076\u001b[0m, in \u001b[0;36mSeriesApply.apply_standard\u001b[1;34m(self)\u001b[0m\n\u001b[0;32m   1074\u001b[0m     \u001b[39melse\u001b[39;00m:\n\u001b[0;32m   1075\u001b[0m         values \u001b[39m=\u001b[39m obj\u001b[39m.\u001b[39mastype(\u001b[39mobject\u001b[39m)\u001b[39m.\u001b[39m_values\n\u001b[1;32m-> 1076\u001b[0m         mapped \u001b[39m=\u001b[39m lib\u001b[39m.\u001b[39;49mmap_infer(\n\u001b[0;32m   1077\u001b[0m             values,\n\u001b[0;32m   1078\u001b[0m             f,\n\u001b[0;32m   1079\u001b[0m             convert\u001b[39m=\u001b[39;49m\u001b[39mself\u001b[39;49m\u001b[39m.\u001b[39;49mconvert_dtype,\n\u001b[0;32m   1080\u001b[0m         )\n\u001b[0;32m   1082\u001b[0m \u001b[39mif\u001b[39;00m \u001b[39mlen\u001b[39m(mapped) \u001b[39mand\u001b[39;00m \u001b[39misinstance\u001b[39m(mapped[\u001b[39m0\u001b[39m], ABCSeries):\n\u001b[0;32m   1083\u001b[0m     \u001b[39m# GH#43986 Need to do list(mapped) in order to get treated as nested\u001b[39;00m\n\u001b[0;32m   1084\u001b[0m     \u001b[39m#  See also GH#25959 regarding EA support\u001b[39;00m\n\u001b[0;32m   1085\u001b[0m     \u001b[39mreturn\u001b[39;00m obj\u001b[39m.\u001b[39m_constructor_expanddim(\u001b[39mlist\u001b[39m(mapped), index\u001b[39m=\u001b[39mobj\u001b[39m.\u001b[39mindex)\n",
      "File \u001b[1;32mc:\\ProgramData\\mambaforge\\envs\\lwmd_ass2\\lib\\site-packages\\pandas\\_libs\\lib.pyx:2834\u001b[0m, in \u001b[0;36mpandas._libs.lib.map_infer\u001b[1;34m()\u001b[0m\n",
      "Cell \u001b[1;32mIn[5], line 5\u001b[0m, in \u001b[0;36m<lambda>\u001b[1;34m(x)\u001b[0m\n\u001b[0;32m      3\u001b[0m \u001b[39mprint\u001b[39m(\u001b[39m\"\u001b[39m\u001b[39mDone repr\u001b[39m\u001b[39m\"\u001b[39m)\n\u001b[0;32m      4\u001b[0m \u001b[39m#Here it's basically computed sparse_score=<q_sparse, d_sparse>\u001b[39;00m\n\u001b[1;32m----> 5\u001b[0m queries[\u001b[39m\"\u001b[39m\u001b[39msparse_scores\u001b[39m\u001b[39m\"\u001b[39m]\u001b[39m=\u001b[39mqueries[\u001b[39m\"\u001b[39m\u001b[39msparse_emb\u001b[39m\u001b[39m\"\u001b[39m]\u001b[39m.\u001b[39mapply(\u001b[39mlambda\u001b[39;00m x: np\u001b[39m.\u001b[39;49mdot(x, doc_reps))\n",
      "File \u001b[1;32m<__array_function__ internals>:180\u001b[0m, in \u001b[0;36mdot\u001b[1;34m(*args, **kwargs)\u001b[0m\n",
      "\u001b[1;31mValueError\u001b[0m: shapes (236736,) and (3633,) not aligned: 236736 (dim 0) != 3633 (dim 0)"
     ]
    }
   ],
   "source": [
    "vocab=np.array(words.words())\n",
    "doc_reps=compute_sparse_repr(vocab, corpus, queries)\n",
    "print(\"Done repr\")\n",
    "#Here it's basically computed sparse_score=<q_sparse, d_sparse>\n",
    "queries[\"sparse_scores\"]=queries[\"sparse_emb\"].apply(lambda x: np.dot(x, doc_reps))"
   ]
  },
  {
   "attachments": {},
   "cell_type": "markdown",
   "metadata": {},
   "source": [
    "### Dense representation"
   ]
  },
  {
   "cell_type": "code",
   "execution_count": null,
   "metadata": {},
   "outputs": [],
   "source": [
    "transformers = SentenceTransformer('sentence-transformers/all-MiniLM-L6-v2')\n",
    "corpus[\"dense_emb\"]=transformers.encode(corpus[\"text\"])\n",
    "queries[\"dense_emb\"]=transformers.encode(queries[\"text\"])"
   ]
  },
  {
   "cell_type": "code",
   "execution_count": null,
   "metadata": {},
   "outputs": [],
   "source": [
    "#Here it's basically computed dense_score=<q_dense, d_dense>\n",
    "queries[\"dense_scores\"]=queries[\"dense_emb\"].apply(lambda x: np.dot(x, corpus[\"dense_emb\"]))"
   ]
  },
  {
   "cell_type": "code",
   "execution_count": null,
   "metadata": {},
   "outputs": [],
   "source": [
    "corpus.head(2)"
   ]
  },
  {
   "cell_type": "code",
   "execution_count": null,
   "metadata": {},
   "outputs": [],
   "source": [
    "queries.head(2)"
   ]
  },
  {
   "attachments": {},
   "cell_type": "markdown",
   "metadata": {},
   "source": [
    "## Top k retrieval"
   ]
  },
  {
   "cell_type": "code",
   "execution_count": null,
   "metadata": {},
   "outputs": [],
   "source": [
    "k=5\n",
    "queries[\"top_k_total_score\"]=queries[\"sparse_scores\"]+queries[\"dense_score\"]"
   ]
  },
  {
   "cell_type": "code",
   "execution_count": null,
   "metadata": {},
   "outputs": [],
   "source": [
    "queries[\"ground_truth_docs\"]=queries[\"top_k_total_score\"].apply(lambda x: corpus.loc[np.argsort(x)[:k], \"_id\"])"
   ]
  },
  {
   "attachments": {},
   "cell_type": "markdown",
   "metadata": {},
   "source": [
    "## Top k' retrieval (approximate case)"
   ]
  },
  {
   "cell_type": "code",
   "execution_count": null,
   "metadata": {},
   "outputs": [],
   "source": [
    "k_prime=k\n",
    "queries[\"index_sparse_top_k_prime\"]=queries[\"sparse_score\"].apply(lambda x: (np.argsort(x)[:k_prime], corpus.loc[np.argsort(x)[:k_prime], \"_id\"]))\n",
    "queries[\"index_dense_top_k_prime\"]=queries[\"dense_score\"].apply(lambda x: (np.argsort(x)[:k_prime], corpus.loc[np.argsort(x)[:k_prime], \"_id\"])))"
   ]
  },
  {
   "cell_type": "code",
   "execution_count": null,
   "metadata": {},
   "outputs": [],
   "source": [
    "queries[\"index_union_top_k_prime\"]=queries.apply(lambda x: np.unique(np.concatenate(x[\"index_sparse_top_k_prime\"], x[\"index_dense_top_k_prime\"])))\n",
    "\n",
    "queries[\"top_k_prime_total_score\"]=queries[\"index_union_top_k_prime\"].apply(\n",
    "    lambda x: [(x[\"sparse_score\"][idx]+x[\"dense_score\"][idx], docid) for idx, docid in x])\n",
    "\n",
    "queries[\"approx_docs-score\"]=queries[\"top_k_prime_total_score\"].apply(lambda x: sorted(x)[:k])"
   ]
  },
  {
   "cell_type": "code",
   "execution_count": 17,
   "metadata": {},
   "outputs": [
    {
     "data": {
      "text/plain": [
       "(0, 's')"
      ]
     },
     "execution_count": 17,
     "metadata": {},
     "output_type": "execute_result"
    }
   ],
   "source": [
    "\"\"\" queries[\"score_dense_top_k\"]=queries.apply(lambda x: [\n",
    "    (i, x[\"dense_score\"][x[\"index_sparse_top_k\"][i]]+\n",
    "        x[\"dense_score\"][x[\"index_dense_top_k\"][i]]) for i in range(k_prime)])\n",
    "\n",
    "#TODO: DEVO farlo per ogni riga!\n",
    "tmp=queries[[\"index_sparse_top_k\"], [\"index_dense_top_k\"], [\"sparse_score\"], [\"dense_score\"]]\n",
    "for idx_s, idx_d, d_s, s_s in tmp.itertuples():\n",
    "    for i in range(k_prime):\n",
    "        i_d_s=idx_s[i]\n",
    "        i_s_s=idx_d[i]\n",
    "\n",
    "        d_s[i_d_s]+d_s[i_s_s]\n",
    "        s_s[i_s_s]+s_s[i_s_s]\n",
    "\n",
    "\n",
    "queries[\"total_score\"].apply(lambda x: corpus.loc[np.argsort(x)[:k], \"_id\"])\n",
    " \"\"\";"
   ]
  },
  {
   "attachments": {},
   "cell_type": "markdown",
   "metadata": {},
   "source": [
    "## Evaluations"
   ]
  },
  {
   "cell_type": "code",
   "execution_count": null,
   "metadata": {},
   "outputs": [],
   "source": []
  },
  {
   "attachments": {},
   "cell_type": "markdown",
   "metadata": {},
   "source": [
    "## TEST"
   ]
  },
  {
   "cell_type": "code",
   "execution_count": null,
   "metadata": {},
   "outputs": [],
   "source": [
    "def get_top_k_sparse(corpus: pd.DataFrame, queries: pd.DataFrame, k: int):\n",
    "    bm25 = BM25Okapi(corpus[\"stem_tokens\"])\n",
    "    queries[\"bm25_scores\"]=queries[\"stem_tokens\"].apply(bm25.get_scores)\n",
    "    queries[\"bm25_topk_docIDs\"]=queries[\"bm25_scores\"].apply(lambda x: corpus.loc[np.argsort(x)[:k], \"_id\"])\n",
    "\n",
    "\n",
    "def get_top_k_dense(corpus: pd.DataFrame, queries: pd.DataFrame, k: int, model):\n",
    "\n",
    "    queries[\"transf_scores\"]=queries[\"dense_emb\"].apply(lambda x: np.dot(x, corpus[\"dense_emb\"]))\n",
    "    queries[\"transf_topk_docIDs\"]=queries[\"transf_scores\"].apply(lambda x: corpus.loc[np.argsort(x)[:k], \"_id\"])\n",
    "    \n",
    "#def get_top_k(corpus: pd.DataFrame, queries: pd.DataFrame, k: int):"
   ]
  }
 ],
 "metadata": {
  "kernelspec": {
   "display_name": "lwmd_ass2",
   "language": "python",
   "name": "python3"
  },
  "language_info": {
   "codemirror_mode": {
    "name": "ipython",
    "version": 3
   },
   "file_extension": ".py",
   "mimetype": "text/x-python",
   "name": "python",
   "nbconvert_exporter": "python",
   "pygments_lexer": "ipython3",
   "version": "3.10.10"
  },
  "orig_nbformat": 4
 },
 "nbformat": 4,
 "nbformat_minor": 2
}
