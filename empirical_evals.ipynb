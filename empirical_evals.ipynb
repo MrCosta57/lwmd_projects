{
 "cells": [
  {
   "attachments": {},
   "cell_type": "markdown",
   "metadata": {},
   "source": [
    "## Learning with Massive Data\n",
    "### Assignment 2 - Studying Sparse-Dense Retrieval\n",
    "#### Giovanni Costa - 880892"
   ]
  },
  {
   "attachments": {},
   "cell_type": "markdown",
   "metadata": {},
   "source": [
    "Contents:\n",
    "- [Sparse representation](#s_repr)\n",
    "- [Dense representation](#d_repr)\n",
    "- [Top k retrieval](#exact_retr)\n",
    "- [Top k\\' retrieval (approximate case)](#approx_retr)\n",
    "- [Evaluations](#eval)"
   ]
  },
  {
   "cell_type": "code",
   "execution_count": 1,
   "metadata": {},
   "outputs": [],
   "source": [
    "import pandas as pd\n",
    "import numpy as np\n",
    "from nltk.corpus import words\n",
    "from nltk.stem import PorterStemmer\n",
    "from matplotlib import pyplot as plt\n",
    "from sentence_transformers import SentenceTransformer\n",
    "from sklearn.feature_extraction.text import CountVectorizer, TfidfVectorizer\n",
    "\n",
    "data_dir=\"datasets/\"\n",
    "dataset_name_dir=\"trec-covid/\""
   ]
  },
  {
   "cell_type": "code",
   "execution_count": 2,
   "metadata": {},
   "outputs": [],
   "source": [
    "corpus=pd.read_json(data_dir+dataset_name_dir+\"corpus.jsonl\", lines=True)\n",
    "queries=pd.read_json(data_dir+dataset_name_dir+\"queries.jsonl\", lines=True)"
   ]
  },
  {
   "cell_type": "code",
   "execution_count": null,
   "metadata": {},
   "outputs": [],
   "source": [
    "corpus.info()"
   ]
  },
  {
   "cell_type": "code",
   "execution_count": null,
   "metadata": {},
   "outputs": [],
   "source": [
    "corpus.head(2)"
   ]
  },
  {
   "cell_type": "code",
   "execution_count": null,
   "metadata": {},
   "outputs": [],
   "source": [
    "queries.info()"
   ]
  },
  {
   "cell_type": "code",
   "execution_count": null,
   "metadata": {},
   "outputs": [],
   "source": [
    "queries.head(2)"
   ]
  },
  {
   "attachments": {},
   "cell_type": "markdown",
   "metadata": {},
   "source": [
    "<a id='s_repr'></a>\n",
    "### Sparse representation"
   ]
  },
  {
   "cell_type": "code",
   "execution_count": null,
   "metadata": {},
   "outputs": [],
   "source": [
    "#Sk-learn's \"TfidfVectorizer\" and \"CountVectorizer\" extension to provide the stemming feature\n",
    "class StemmedTfidfVectorizer(TfidfVectorizer):\n",
    "    stemmer = PorterStemmer()\n",
    "    def build_analyzer(self):\n",
    "        analyzer = super(StemmedTfidfVectorizer, self).build_analyzer()\n",
    "        return lambda doc: (StemmedTfidfVectorizer.stemmer.stem(w) for w in analyzer(doc))\n",
    "    \n",
    "class StemmedTfidfCountVectorizer(CountVectorizer):\n",
    "    stemmer = PorterStemmer()\n",
    "    def build_analyzer(self):\n",
    "        analyzer = super(CountVectorizer, self).build_analyzer()\n",
    "        return lambda doc: (StemmedTfidfCountVectorizer.stemmer.stem(w) for w in analyzer(doc))\n",
    "    \n",
    "    \n",
    "def compute_sparse_repr(vocab: np.array, corpus: pd.DataFrame, queries: pd.DataFrame):\n",
    "    #Extract only the word and the numbers, made a lowercase transformation and usage of custom vocabulary to make representations independent\n",
    "    doc_tfidf=StemmedTfidfVectorizer(lowercase=True, vocabulary=vocab, stop_words=None, token_pattern=r'\\w+')\n",
    "    q_counter=StemmedTfidfCountVectorizer(lowercase=True, vocabulary=vocab, stop_words=None, token_pattern=r'\\w+')\n",
    "\n",
    "    #Computation of the sparse embedding\n",
    "    sparse_doc=doc_tfidf.fit_transform(corpus[\"text\"])\n",
    "    sparse_q=q_counter.fit_transform(queries[\"text\"])\n",
    "\n",
    "    return sparse_doc, sparse_q"
   ]
  },
  {
   "cell_type": "code",
   "execution_count": null,
   "metadata": {},
   "outputs": [],
   "source": [
    "#Stem the vocabulary and drop the duplicates\n",
    "stemmer=PorterStemmer()\n",
    "vocab=np.unique([stemmer.stem(w) for w in np.char.lower(words.words())])\n",
    "\n",
    "sparse_doc, sparse_q=compute_sparse_repr(vocab, corpus, queries)\n",
    "\n",
    "#Here it's basically computed sparse_score=<q_sparse, d_sparse>\n",
    "sparse_score_df=pd.DataFrame(np.dot(sparse_q, sparse_doc.transpose()).toarray(), index=queries[\"_id\"], columns=corpus[\"_id\"])"
   ]
  },
  {
   "cell_type": "code",
   "execution_count": null,
   "metadata": {},
   "outputs": [],
   "source": [
    "sparse_score_df.to_parquet(\"sparse_score_df_covid.parquet\")"
   ]
  },
  {
   "attachments": {},
   "cell_type": "markdown",
   "metadata": {},
   "source": [
    "<a id='d_repr'></a>\n",
    "### Dense representation"
   ]
  },
  {
   "cell_type": "code",
   "execution_count": null,
   "metadata": {},
   "outputs": [],
   "source": [
    "def compute_dense_repr(corpus: pd.DataFrame, queries: pd.DataFrame):\n",
    "    transformers = SentenceTransformer('sentence-transformers/all-MiniLM-L6-v2')\n",
    "\n",
    "    ##Computation of the dense embedding\n",
    "    dense_c=transformers.encode(corpus[\"text\"], convert_to_numpy = True)\n",
    "    dense_q=transformers.encode(queries[\"text\"], convert_to_numpy = True)\n",
    "    \n",
    "    return dense_c, dense_q"
   ]
  },
  {
   "cell_type": "code",
   "execution_count": null,
   "metadata": {},
   "outputs": [],
   "source": [
    "dense_c, dense_q=compute_dense_repr(corpus, queries)\n",
    "\n",
    "#Here it's basically computed dense_score=<q_dense, d_dense>\n",
    "dense_score_df=pd.DataFrame(np.dot(dense_q, dense_c.transpose()), index=queries[\"_id\"], columns=corpus[\"_id\"])"
   ]
  },
  {
   "cell_type": "code",
   "execution_count": null,
   "metadata": {},
   "outputs": [],
   "source": [
    "dense_score_df.to_parquet(\"dense_score_df_covid.parquet\")"
   ]
  },
  {
   "attachments": {},
   "cell_type": "markdown",
   "metadata": {},
   "source": [
    "<a id='exact_retr'></a>\n",
    "## Top k retrieval"
   ]
  },
  {
   "cell_type": "code",
   "execution_count": 3,
   "metadata": {},
   "outputs": [],
   "source": [
    "sparse_score_df=pd.read_parquet(\"sparse_score_df_covid.parquet\")\n",
    "dense_score_df=pd.read_parquet(\"dense_score_df_covid.parquet\")"
   ]
  },
  {
   "cell_type": "code",
   "execution_count": 4,
   "metadata": {},
   "outputs": [
    {
     "name": "stdout",
     "output_type": "stream",
     "text": [
      "<class 'pandas.core.frame.DataFrame'>\n",
      "Index: 50 entries, 1 to 50\n",
      "Columns: 171332 entries, ug7v899j to pnl9th2c\n",
      "dtypes: float32(171332)\n",
      "memory usage: 32.7 MB\n"
     ]
    }
   ],
   "source": [
    "sparse_score_df.info()"
   ]
  },
  {
   "cell_type": "code",
   "execution_count": 5,
   "metadata": {},
   "outputs": [
    {
     "name": "stdout",
     "output_type": "stream",
     "text": [
      "<class 'pandas.core.frame.DataFrame'>\n",
      "Index: 50 entries, 1 to 50\n",
      "Columns: 171332 entries, ug7v899j to pnl9th2c\n",
      "dtypes: float32(171332)\n",
      "memory usage: 32.7 MB\n"
     ]
    }
   ],
   "source": [
    "dense_score_df.info()"
   ]
  },
  {
   "cell_type": "code",
   "execution_count": 6,
   "metadata": {},
   "outputs": [],
   "source": [
    "def compute_exact_retrieval(sparse_score_df: pd.DataFrame, dense_score_df: pd.DataFrame, k: int):\n",
    "    #Sum the two scores\n",
    "    total_score_df=sparse_score_df+dense_score_df\n",
    "\n",
    "    #Get the exact top-k documents indexes\n",
    "    idx_exact_top_k=np.argsort(total_score_df)[:, :-k-1:-1]\n",
    "    #Get the exact top-k documents ids\n",
    "    top_k_exact_docs=np.array(total_score_df.columns[idx_exact_top_k.reshape(-1)]).reshape(-1, k)\n",
    "\n",
    "    return total_score_df, top_k_exact_docs"
   ]
  },
  {
   "cell_type": "code",
   "execution_count": 7,
   "metadata": {},
   "outputs": [],
   "source": [
    "k=5\n",
    "total_score_df, top_k_exact_docs=compute_exact_retrieval(sparse_score_df, dense_score_df, k)"
   ]
  },
  {
   "cell_type": "code",
   "execution_count": 8,
   "metadata": {},
   "outputs": [
    {
     "data": {
      "text/html": [
       "<div>\n",
       "<style scoped>\n",
       "    .dataframe tbody tr th:only-of-type {\n",
       "        vertical-align: middle;\n",
       "    }\n",
       "\n",
       "    .dataframe tbody tr th {\n",
       "        vertical-align: top;\n",
       "    }\n",
       "\n",
       "    .dataframe thead th {\n",
       "        text-align: right;\n",
       "    }\n",
       "</style>\n",
       "<table border=\"1\" class=\"dataframe\">\n",
       "  <thead>\n",
       "    <tr style=\"text-align: right;\">\n",
       "      <th>_id</th>\n",
       "      <th>ug7v899j</th>\n",
       "      <th>02tnwd4m</th>\n",
       "      <th>ejv2xln0</th>\n",
       "      <th>2b73a28n</th>\n",
       "      <th>9785vg6d</th>\n",
       "      <th>zjufx4fo</th>\n",
       "      <th>5yhe786e</th>\n",
       "      <th>8zchiykl</th>\n",
       "      <th>8qnrcgnk</th>\n",
       "      <th>jg13scgo</th>\n",
       "      <th>...</th>\n",
       "      <th>fvhq8yud</th>\n",
       "      <th>plp5sxyl</th>\n",
       "      <th>cpgcp7cs</th>\n",
       "      <th>yz0buegp</th>\n",
       "      <th>08gqn86z</th>\n",
       "      <th>7e8r61e7</th>\n",
       "      <th>6jittbis</th>\n",
       "      <th>hi8k8wvb</th>\n",
       "      <th>ma3ndg41</th>\n",
       "      <th>pnl9th2c</th>\n",
       "    </tr>\n",
       "    <tr>\n",
       "      <th>_id</th>\n",
       "      <th></th>\n",
       "      <th></th>\n",
       "      <th></th>\n",
       "      <th></th>\n",
       "      <th></th>\n",
       "      <th></th>\n",
       "      <th></th>\n",
       "      <th></th>\n",
       "      <th></th>\n",
       "      <th></th>\n",
       "      <th></th>\n",
       "      <th></th>\n",
       "      <th></th>\n",
       "      <th></th>\n",
       "      <th></th>\n",
       "      <th></th>\n",
       "      <th></th>\n",
       "      <th></th>\n",
       "      <th></th>\n",
       "      <th></th>\n",
       "      <th></th>\n",
       "    </tr>\n",
       "  </thead>\n",
       "  <tbody>\n",
       "    <tr>\n",
       "      <th>1</th>\n",
       "      <td>0.453372</td>\n",
       "      <td>0.584910</td>\n",
       "      <td>0.582493</td>\n",
       "      <td>0.345679</td>\n",
       "      <td>0.544013</td>\n",
       "      <td>0.600357</td>\n",
       "      <td>0.190219</td>\n",
       "      <td>0.496787</td>\n",
       "      <td>0.248941</td>\n",
       "      <td>0.388101</td>\n",
       "      <td>...</td>\n",
       "      <td>-0.016971</td>\n",
       "      <td>0.812093</td>\n",
       "      <td>0.686764</td>\n",
       "      <td>0.599872</td>\n",
       "      <td>0.551895</td>\n",
       "      <td>-0.016971</td>\n",
       "      <td>0.204954</td>\n",
       "      <td>0.398401</td>\n",
       "      <td>1.134267</td>\n",
       "      <td>-0.016971</td>\n",
       "    </tr>\n",
       "    <tr>\n",
       "      <th>2</th>\n",
       "      <td>0.514232</td>\n",
       "      <td>0.637419</td>\n",
       "      <td>0.680840</td>\n",
       "      <td>0.360693</td>\n",
       "      <td>0.862798</td>\n",
       "      <td>0.771147</td>\n",
       "      <td>0.510018</td>\n",
       "      <td>0.422742</td>\n",
       "      <td>0.492347</td>\n",
       "      <td>0.695964</td>\n",
       "      <td>...</td>\n",
       "      <td>0.016533</td>\n",
       "      <td>0.886815</td>\n",
       "      <td>0.978100</td>\n",
       "      <td>0.691514</td>\n",
       "      <td>0.811774</td>\n",
       "      <td>0.016533</td>\n",
       "      <td>0.450004</td>\n",
       "      <td>0.711241</td>\n",
       "      <td>1.040751</td>\n",
       "      <td>0.016533</td>\n",
       "    </tr>\n",
       "  </tbody>\n",
       "</table>\n",
       "<p>2 rows × 171332 columns</p>\n",
       "</div>"
      ],
      "text/plain": [
       "_id  ug7v899j  02tnwd4m  ejv2xln0  2b73a28n  9785vg6d  zjufx4fo  5yhe786e   \n",
       "_id                                                                         \n",
       "1    0.453372  0.584910  0.582493  0.345679  0.544013  0.600357  0.190219  \\\n",
       "2    0.514232  0.637419  0.680840  0.360693  0.862798  0.771147  0.510018   \n",
       "\n",
       "_id  8zchiykl  8qnrcgnk  jg13scgo  ...  fvhq8yud  plp5sxyl  cpgcp7cs   \n",
       "_id                                ...                                 \n",
       "1    0.496787  0.248941  0.388101  ... -0.016971  0.812093  0.686764  \\\n",
       "2    0.422742  0.492347  0.695964  ...  0.016533  0.886815  0.978100   \n",
       "\n",
       "_id  yz0buegp  08gqn86z  7e8r61e7  6jittbis  hi8k8wvb  ma3ndg41  pnl9th2c  \n",
       "_id                                                                        \n",
       "1    0.599872  0.551895 -0.016971  0.204954  0.398401  1.134267 -0.016971  \n",
       "2    0.691514  0.811774  0.016533  0.450004  0.711241  1.040751  0.016533  \n",
       "\n",
       "[2 rows x 171332 columns]"
      ]
     },
     "execution_count": 8,
     "metadata": {},
     "output_type": "execute_result"
    }
   ],
   "source": [
    "total_score_df.head(2)"
   ]
  },
  {
   "cell_type": "code",
   "execution_count": 9,
   "metadata": {},
   "outputs": [
    {
     "data": {
      "text/plain": [
       "array(['dv9m19yk', 'vpodtbjk', '76gbhh40', '75773gwg', 'sjyrr2bn'],\n",
       "      dtype=object)"
      ]
     },
     "execution_count": 9,
     "metadata": {},
     "output_type": "execute_result"
    }
   ],
   "source": [
    "top_k_exact_docs[0]"
   ]
  },
  {
   "attachments": {},
   "cell_type": "markdown",
   "metadata": {},
   "source": [
    "<a id='approx_retr'></a>\n",
    "## Top k' retrieval (approximate case)"
   ]
  },
  {
   "cell_type": "code",
   "execution_count": 10,
   "metadata": {},
   "outputs": [],
   "source": [
    "def compute_approx_retrieval(sparse_score_df: pd.DataFrame, dense_score_df: pd.DataFrame, total_score_df: pd.DataFrame, k_prime: int):\n",
    "    #Get the indexes of top-k' docs for the sparse representations\n",
    "    idx_sparse_scores=np.argsort(sparse_score_df)[:, :-k_prime-1:-1]\n",
    "    #Get the indexes of top-k' docs for the dense representations\n",
    "    idx_dense_scores=np.argsort(dense_score_df)[:, :-k_prime-1:-1]\n",
    "\n",
    "    #Merging of the two vectors of indexes\n",
    "    concat_idx=np.concatenate((idx_sparse_scores, idx_dense_scores), axis=1)\n",
    "    #Drop duplicates in every row\n",
    "    union_idx=[np.unique(x) for x in concat_idx]\n",
    "\n",
    "    #Get the indexes of the top-k documents given the merged approximate sets:\n",
    "    #for every query, take the top-k indexes using the specific indexes of the merged set, based on total_score computed previous\n",
    "    idx_approx_top_k=np.asarray([ union_idx[i][np.argsort(total_score_df.iloc[i, union_idx[i]])[:-k-1:-1].values]\n",
    "                                  for i in range(len(union_idx)) ])\n",
    "    \n",
    "    #Get the doc ids from the retrieved indexes\n",
    "    top_k_approx_docs=np.array(total_score_df.columns[idx_approx_top_k.reshape(-1)]).reshape(-1, k)\n",
    "\n",
    "    return top_k_approx_docs"
   ]
  },
  {
   "cell_type": "code",
   "execution_count": 11,
   "metadata": {},
   "outputs": [],
   "source": [
    "top_k_approx_docs=compute_approx_retrieval(sparse_score_df, dense_score_df, total_score_df, k)"
   ]
  },
  {
   "cell_type": "code",
   "execution_count": 12,
   "metadata": {},
   "outputs": [
    {
     "data": {
      "text/plain": [
       "array(['dv9m19yk', '7nhnds83', 'mm4ngrla', '1loqavom', 'euv03cul'],\n",
       "      dtype=object)"
      ]
     },
     "execution_count": 12,
     "metadata": {},
     "output_type": "execute_result"
    }
   ],
   "source": [
    "top_k_approx_docs[0]"
   ]
  },
  {
   "attachments": {},
   "cell_type": "markdown",
   "metadata": {},
   "source": [
    "<a id='eval'></a>\n",
    "## Evaluations"
   ]
  },
  {
   "cell_type": "code",
   "execution_count": 13,
   "metadata": {},
   "outputs": [
    {
     "name": "stdout",
     "output_type": "stream",
     "text": [
      "32\n",
      "61\n",
      "73\n"
     ]
    }
   ],
   "source": [
    "k_list=[5, 10, 15]\n",
    "\n",
    "mean_recalls_list=[[], [], []]\n",
    "top_k_exact_approx_lists=[[], [], []]\n",
    "max_k_prime_list=[]\n",
    "epsilon=0.01\n",
    "step=1\n",
    "i=0\n",
    "for k in k_list:\n",
    "    total_score_df, top_k_exact_docs=compute_exact_retrieval(sparse_score_df, dense_score_df, k)\n",
    "    for k_prime in range(k, len(corpus)+1, step):\n",
    "        top_k_approx_docs=compute_approx_retrieval(sparse_score_df, dense_score_df, total_score_df, k_prime)\n",
    "        recalls=[len(np.intersect1d(top_k_exact_docs[i], top_k_approx_docs[i], assume_unique=True))/k for i in range(len(top_k_exact_docs))]\n",
    "        mean=np.mean(recalls)\n",
    "        mean_recalls_list[i].append(mean)\n",
    "\n",
    "        if mean>=1-epsilon or k==len(corpus):\n",
    "            print(k_prime)\n",
    "            max_k_prime_list.append(k_prime)\n",
    "            break\n",
    "    i+=1\n"
   ]
  },
  {
   "cell_type": "code",
   "execution_count": 14,
   "metadata": {},
   "outputs": [
    {
     "name": "stdout",
     "output_type": "stream",
     "text": [
      "K:  5\n",
      "Exit threshold:  0.99\n",
      "Highest recall w.r.t. exact solution:  0.992 ,\n",
      "obtained with k':  32\n",
      "\n",
      "K:  10\n",
      "Exit threshold:  0.99\n",
      "Highest recall w.r.t. exact solution:  0.99 ,\n",
      "obtained with k':  61\n",
      "\n",
      "K:  15\n",
      "Exit threshold:  0.99\n",
      "Highest recall w.r.t. exact solution:  0.9906666666666666 ,\n",
      "obtained with k':  73\n",
      "\n"
     ]
    }
   ],
   "source": [
    "for i in range(len(k_list)):\n",
    "    print(\"K: \", k_list[i])\n",
    "    idx=np.argmax(mean_recalls_list[i])\n",
    "    print(\"Exit threshold: \", 1-epsilon)\n",
    "    print(\"Highest recall w.r.t. exact solution: \", mean_recalls_list[i][idx], \",\")\n",
    "    print(\"obtained with k\\': \", max_k_prime_list[i])\n",
    "    print()\n"
   ]
  },
  {
   "cell_type": "code",
   "execution_count": 16,
   "metadata": {},
   "outputs": [
    {
     "name": "stdout",
     "output_type": "stream",
     "text": [
      "K:  5\n"
     ]
    },
    {
     "data": {
      "image/png": "[encoded data removed]",
      "text/plain": [
       "<Figure size 400x300 with 1 Axes>"
      ]
     },
     "metadata": {},
     "output_type": "display_data"
    },
    {
     "name": "stdout",
     "output_type": "stream",
     "text": [
      "K:  10\n"
     ]
    },
    {
     "data": {
      "image/png": "[encoded data removed]",
      "text/plain": [
       "<Figure size 400x300 with 1 Axes>"
      ]
     },
     "metadata": {},
     "output_type": "display_data"
    },
    {
     "name": "stdout",
     "output_type": "stream",
     "text": [
      "K:  15\n"
     ]
    },
    {
     "data": {
      "image/png": "[encoded data removed]",
      "text/plain": [
       "<Figure size 400x300 with 1 Axes>"
      ]
     },
     "metadata": {},
     "output_type": "display_data"
    }
   ],
   "source": [
    "for i in range(len(k_list)):\n",
    "    print(\"K: \", k_list[i])\n",
    "    plt.figure(figsize=(4, 3))\n",
    "    plt.ylabel('Recall scores')\n",
    "    plt.xlabel('K\\' in approximate solution')\n",
    "\n",
    "    plt.ylim(np.min(np.concatenate(mean_recalls_list)), 1)\n",
    "    #plt.xlim(k_list[i], max_k_prime_list[i])\n",
    "\n",
    "    plt.grid()\n",
    "    plt.hlines(np.max(mean_recalls_list[i]), k_list[i], max_k_prime_list[i], linewidth=2, linestyles=\"dashed\", colors=\"grey\")\n",
    "    plt.plot(range(k_list[i], max_k_prime_list[i]+1, step), mean_recalls_list[i], linewidth=2)\n",
    "    plt.show()"
   ]
  }
 ],
 "metadata": {
  "kernelspec": {
   "display_name": "lwmd_ass2",
   "language": "python",
   "name": "python3"
  },
  "language_info": {
   "codemirror_mode": {
    "name": "ipython",
    "version": 3
   },
   "file_extension": ".py",
   "mimetype": "text/x-python",
   "name": "python",
   "nbconvert_exporter": "python",
   "pygments_lexer": "ipython3",
   "version": "3.10.10"
  },
  "orig_nbformat": 4
 },
 "nbformat": 4,
 "nbformat_minor": 2
}
