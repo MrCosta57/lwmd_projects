{
 "cells": [
  {
   "attachments": {},
   "cell_type": "markdown",
   "metadata": {},
   "source": [
    "# Learning with Massive Data\n",
    "<p>\n",
    "Assignment 3 - Similarity search for document pairs<br>\n",
    "Giovanni Costa - 880892\n",
    "</p>\n",
    "\n",
    "<p>\n",
    "<b>SEQUENTIAL VERSION</b>\n",
    "</p>"
   ]
  },
  {
   "attachments": {},
   "cell_type": "markdown",
   "metadata": {},
   "source": [
    "Contents:\n",
    "- [Document sparse representation](#doc_repr)\n",
    "- [Sequential Implementation](#s_impl)\n",
    "    - [Exact similarity search](#exact_s)\n",
    "    - [Approximate similarity search](#approx_s)\n",
    "- [Evaluations](#eval)"
   ]
  },
  {
   "cell_type": "code",
   "execution_count": 1,
   "metadata": {},
   "outputs": [],
   "source": [
    "import pandas as pd\n",
    "import numpy as np\n",
    "from utils import compute_sparse_repr, eval_sol, compute_cosine_similarity\n",
    "from scipy.sparse import load_npz, save_npz\n",
    "from matplotlib import pyplot as plt\n",
    "from sklearn.random_projection import SparseRandomProjection"
   ]
  },
  {
   "attachments": {},
   "cell_type": "markdown",
   "metadata": {},
   "source": [
    "<a id=\"doc_repr\"></a>\n",
    "## Document sparse representation"
   ]
  },
  {
   "cell_type": "code",
   "execution_count": 2,
   "metadata": {},
   "outputs": [],
   "source": [
    "results=\"results/\"\n",
    "datasets=[\"datasets/nfcorpus/corpus.jsonl\", \"datasets/scifact/corpus.jsonl\"]"
   ]
  },
  {
   "cell_type": "code",
   "execution_count": 3,
   "metadata": {},
   "outputs": [],
   "source": [
    "df_docs1=pd.read_json(datasets[0], lines=True)\n",
    "df_docs2=pd.read_json(datasets[1], lines=True)"
   ]
  },
  {
   "cell_type": "code",
   "execution_count": 4,
   "metadata": {},
   "outputs": [
    {
     "name": "stdout",
     "output_type": "stream",
     "text": [
      "<class 'pandas.core.frame.DataFrame'>\n",
      "RangeIndex: 3633 entries, 0 to 3632\n",
      "Data columns (total 4 columns):\n",
      " #   Column    Non-Null Count  Dtype \n",
      "---  ------    --------------  ----- \n",
      " 0   _id       3633 non-null   object\n",
      " 1   title     3633 non-null   object\n",
      " 2   text      3633 non-null   object\n",
      " 3   metadata  3633 non-null   object\n",
      "dtypes: object(4)\n",
      "memory usage: 113.7+ KB\n"
     ]
    }
   ],
   "source": [
    "df_docs1.info()"
   ]
  },
  {
   "cell_type": "code",
   "execution_count": 5,
   "metadata": {},
   "outputs": [
    {
     "name": "stdout",
     "output_type": "stream",
     "text": [
      "<class 'pandas.core.frame.DataFrame'>\n",
      "RangeIndex: 5183 entries, 0 to 5182\n",
      "Data columns (total 4 columns):\n",
      " #   Column    Non-Null Count  Dtype \n",
      "---  ------    --------------  ----- \n",
      " 0   _id       5183 non-null   int64 \n",
      " 1   title     5183 non-null   object\n",
      " 2   text      5183 non-null   object\n",
      " 3   metadata  5183 non-null   object\n",
      "dtypes: int64(1), object(3)\n",
      "memory usage: 162.1+ KB\n"
     ]
    }
   ],
   "source": [
    "df_docs2.info()"
   ]
  },
  {
   "cell_type": "code",
   "execution_count": 6,
   "metadata": {},
   "outputs": [],
   "source": [
    "sparse_repr1, vocab1, idf=compute_sparse_repr(df_docs1[\"text\"])\n",
    "#sparse_repr2, vocab2=compute_sparse_repr(df_docs2[\"text\"])"
   ]
  },
  {
   "cell_type": "code",
   "execution_count": 7,
   "metadata": {},
   "outputs": [
    {
     "data": {
      "text/plain": [
       "(3633, 18867)"
      ]
     },
     "execution_count": 7,
     "metadata": {},
     "output_type": "execute_result"
    }
   ],
   "source": [
    "sparse_repr1.shape"
   ]
  },
  {
   "cell_type": "code",
   "execution_count": 8,
   "metadata": {},
   "outputs": [],
   "source": [
    "#pd.DataFrame(vocab_1, columns=[\"terms\"]).to_parquet(\"terms_nfcorpus.parquet\")\n",
    "pd.DataFrame(df_docs1[\"_id\"]).to_parquet(results+\"ids_test.parquet\")\n",
    "save_npz(results+\"test.npz\", sparse_repr1)\n"
   ]
  },
  {
   "attachments": {},
   "cell_type": "markdown",
   "metadata": {},
   "source": [
    "<a id=\"s_impl\"></a>\n",
    "## Sequential Implementation\n",
    "<a id=\"exact_s\"></a>\n",
    "### Exact similarity search"
   ]
  },
  {
   "cell_type": "code",
   "execution_count": 9,
   "metadata": {},
   "outputs": [
    {
     "name": "stdout",
     "output_type": "stream",
     "text": [
      "(3633, 18867)\n",
      "Density ratio: 0.006536315875404127\n"
     ]
    }
   ],
   "source": [
    "sparse_repr1=load_npz(results+\"test.npz\")\n",
    "ids=pd.read_parquet(results+\"ids_test.parquet\")[\"_id\"]\n",
    "print(sparse_repr1.shape)\n",
    "print(\"Density ratio:\", sparse_repr1.count_nonzero()/(sparse_repr1.shape[0]*sparse_repr1.shape[1]))"
   ]
  },
  {
   "cell_type": "code",
   "execution_count": 10,
   "metadata": {},
   "outputs": [
    {
     "data": {
      "text/plain": [
       "0        MED-10\n",
       "1        MED-14\n",
       "2       MED-118\n",
       "3       MED-301\n",
       "4       MED-306\n",
       "         ...   \n",
       "3628    MED-917\n",
       "3629    MED-941\n",
       "3630    MED-942\n",
       "3631    MED-952\n",
       "3632    MED-961\n",
       "Name: _id, Length: 3633, dtype: object"
      ]
     },
     "execution_count": 10,
     "metadata": {},
     "output_type": "execute_result"
    }
   ],
   "source": [
    "ids"
   ]
  },
  {
   "cell_type": "code",
   "execution_count": 11,
   "metadata": {},
   "outputs": [],
   "source": [
    "pairs, num_pairs=compute_cosine_similarity(sparse_repr1, ids, 0.8)"
   ]
  },
  {
   "cell_type": "code",
   "execution_count": 12,
   "metadata": {},
   "outputs": [
    {
     "data": {
      "text/plain": [
       "array(['MED-1106', 'MED-118', 'MED-1229', 'MED-1874', 'MED-1935',\n",
       "       'MED-2100', 'MED-2123', 'MED-2155', 'MED-2170', 'MED-2189',\n",
       "       'MED-2205', 'MED-2432', 'MED-2526', 'MED-2651', 'MED-2769',\n",
       "       'MED-2781', 'MED-2787', 'MED-2904', 'MED-2905', 'MED-2907',\n",
       "       'MED-2910', 'MED-2921', 'MED-2944', 'MED-2951', 'MED-2977',\n",
       "       'MED-3019', 'MED-3026', 'MED-3029', 'MED-3032', 'MED-306',\n",
       "       'MED-3193', 'MED-3207', 'MED-3220', 'MED-3235', 'MED-3292',\n",
       "       'MED-3309', 'MED-334', 'MED-335', 'MED-3485', 'MED-3787',\n",
       "       'MED-3811', 'MED-3815', 'MED-3830', 'MED-3833', 'MED-3834',\n",
       "       'MED-3841', 'MED-3874', 'MED-3885', 'MED-3886', 'MED-3897',\n",
       "       'MED-3907', 'MED-398', 'MED-4206', 'MED-4247', 'MED-4255',\n",
       "       'MED-4393', 'MED-4416', 'MED-4517', 'MED-4598', 'MED-4599',\n",
       "       'MED-4603', 'MED-4613', 'MED-4615', 'MED-4616', 'MED-4617',\n",
       "       'MED-4620', 'MED-4633', 'MED-4639', 'MED-4641', 'MED-4673',\n",
       "       'MED-4674', 'MED-4687', 'MED-4689', 'MED-4820', 'MED-4885',\n",
       "       'MED-4892', 'MED-4977', 'MED-4988', 'MED-4990', 'MED-5010',\n",
       "       'MED-5225', 'MED-5244', 'MED-5301', 'MED-5342', 'MED-5359',\n",
       "       'MED-719', 'MED-724', 'MED-756'], dtype='<U8')"
      ]
     },
     "execution_count": 12,
     "metadata": {},
     "output_type": "execute_result"
    }
   ],
   "source": [
    "list_pair=np.unique(np.array([[e[0], e[1]] for e in pairs]).flatten())\n",
    "list_pair"
   ]
  },
  {
   "cell_type": "code",
   "execution_count": 34,
   "metadata": {},
   "outputs": [],
   "source": [
    "df=1/idf"
   ]
  },
  {
   "cell_type": "code",
   "execution_count": 13,
   "metadata": {},
   "outputs": [],
   "source": [
    "tmp_idx=[]\n",
    "for (idx, elem) in enumerate(ids.values):\n",
    "    if elem in ['MED-1874', 'MED-2432']:\n",
    "        tmp_idx.append(idx)"
   ]
  },
  {
   "cell_type": "code",
   "execution_count": 14,
   "metadata": {},
   "outputs": [
    {
     "data": {
      "text/plain": [
       "[930, 1376]"
      ]
     },
     "execution_count": 14,
     "metadata": {},
     "output_type": "execute_result"
    }
   ],
   "source": [
    "tmp_idx"
   ]
  },
  {
   "cell_type": "code",
   "execution_count": 15,
   "metadata": {},
   "outputs": [
    {
     "data": {
      "text/plain": [
       "2"
      ]
     },
     "execution_count": 15,
     "metadata": {},
     "output_type": "execute_result"
    }
   ],
   "source": [
    "len(tmp_idx)"
   ]
  },
  {
   "cell_type": "code",
   "execution_count": 39,
   "metadata": {},
   "outputs": [],
   "source": [
    "pd.DataFrame(df, columns=[\"df_t\"]).to_parquet(\"results/test_df.parquet\")"
   ]
  },
  {
   "cell_type": "code",
   "execution_count": 16,
   "metadata": {},
   "outputs": [],
   "source": [
    "bug_set=eval(\"{'MED-3485', 'MED-3841', 'MED-4616', 'MED-2170', 'MED-2907', 'MED-2781', 'MED-334', 'MED-2910', 'MED-2944', 'MED-4247', 'MED-4639', 'MED-724', 'MED-4255', 'MED-3220', 'MED-2787', 'MED-2769', 'MED-398', 'MED-4990', 'MED-3833', 'MED-4617', 'MED-306', 'MED-5301', 'MED-3787', 'MED-4613', 'MED-4820', 'MED-3907', 'MED-3292', 'MED-4673', 'MED-4977', 'MED-756', 'MED-3207', 'MED-3886', 'MED-4615', 'MED-4393', 'MED-5359', 'MED-4885', 'MED-4206', 'MED-2651', 'MED-4603', 'MED-5244', 'MED-2155', 'MED-118', 'MED-4620', 'MED-2977', 'MED-3811', 'MED-3885', 'MED-3897', 'MED-3029', 'MED-5342', 'MED-2123', 'MED-4416', 'MED-4687', 'MED-3815', 'MED-4892', 'MED-4988', 'MED-2526', 'MED-3235', 'MED-4633', 'MED-3193', 'MED-3019', 'MED-4517', 'MED-719', 'MED-3309', 'MED-4689', 'MED-2921', 'MED-4674', 'MED-2951', 'MED-4598', 'MED-335', 'MED-1229', 'MED-3874', 'MED-1106', 'MED-5010', 'MED-1935', 'MED-4599', 'MED-5225'}\")"
   ]
  },
  {
   "cell_type": "code",
   "execution_count": 17,
   "metadata": {},
   "outputs": [],
   "source": [
    "set_correct=set(list_pair)"
   ]
  },
  {
   "cell_type": "code",
   "execution_count": 18,
   "metadata": {},
   "outputs": [
    {
     "data": {
      "text/plain": [
       "{'MED-1874',\n",
       " 'MED-2100',\n",
       " 'MED-2189',\n",
       " 'MED-2205',\n",
       " 'MED-2432',\n",
       " 'MED-2904',\n",
       " 'MED-2905',\n",
       " 'MED-3026',\n",
       " 'MED-3032',\n",
       " 'MED-3830',\n",
       " 'MED-3834',\n",
       " 'MED-4641'}"
      ]
     },
     "execution_count": 18,
     "metadata": {},
     "output_type": "execute_result"
    }
   ],
   "source": [
    "set_correct.difference(bug_set)\n",
    "\n",
    "#DOC NOT FOUND EX PAIRS:\n",
    "# ('MED-1874', 'MED-2432', 1.0)\n",
    "# ('MED-2100', 'MED-4641', 1.0),\t"
   ]
  },
  {
   "cell_type": "code",
   "execution_count": 19,
   "metadata": {},
   "outputs": [],
   "source": [
    "pd.DataFrame(ids[tmp_idx]).to_parquet(results+\"bug_pair_ids.parquet\")"
   ]
  },
  {
   "cell_type": "code",
   "execution_count": 20,
   "metadata": {},
   "outputs": [],
   "source": [
    "save_npz(results+\"bug_pair_ids.npz\", sparse_repr1[tmp_idx, :])"
   ]
  },
  {
   "cell_type": "code",
   "execution_count": 21,
   "metadata": {},
   "outputs": [
    {
     "data": {
      "text/plain": [
       "<2x18867 sparse matrix of type '<class 'numpy.float64'>'\n",
       "\twith 276 stored elements in Compressed Sparse Row format>"
      ]
     },
     "execution_count": 21,
     "metadata": {},
     "output_type": "execute_result"
    }
   ],
   "source": [
    "sparse_repr1[tmp_idx, :]"
   ]
  },
  {
   "cell_type": "code",
   "execution_count": 22,
   "metadata": {},
   "outputs": [
    {
     "data": {
      "text/html": [
       "<div>\n",
       "<style scoped>\n",
       "    .dataframe tbody tr th:only-of-type {\n",
       "        vertical-align: middle;\n",
       "    }\n",
       "\n",
       "    .dataframe tbody tr th {\n",
       "        vertical-align: top;\n",
       "    }\n",
       "\n",
       "    .dataframe thead th {\n",
       "        text-align: right;\n",
       "    }\n",
       "</style>\n",
       "<table border=\"1\" class=\"dataframe\">\n",
       "  <thead>\n",
       "    <tr style=\"text-align: right;\">\n",
       "      <th></th>\n",
       "      <th>_id</th>\n",
       "      <th>title</th>\n",
       "      <th>text</th>\n",
       "      <th>metadata</th>\n",
       "    </tr>\n",
       "  </thead>\n",
       "  <tbody>\n",
       "    <tr>\n",
       "      <th>930</th>\n",
       "      <td>MED-1874</td>\n",
       "      <td>The Garden of Eden--plant based diets, the gen...</td>\n",
       "      <td>It is likely that plant food consumption throu...</td>\n",
       "      <td>{'url': 'http://www.ncbi.nlm.nih.gov/pubmed/?t...</td>\n",
       "    </tr>\n",
       "    <tr>\n",
       "      <th>1376</th>\n",
       "      <td>MED-2432</td>\n",
       "      <td>The Garden of Eden--plant based diets, the gen...</td>\n",
       "      <td>It is likely that plant food consumption throu...</td>\n",
       "      <td>{'url': 'http://www.ncbi.nlm.nih.gov/pubmed/14...</td>\n",
       "    </tr>\n",
       "  </tbody>\n",
       "</table>\n",
       "</div>"
      ],
      "text/plain": [
       "           _id                                              title  \\\n",
       "930   MED-1874  The Garden of Eden--plant based diets, the gen...   \n",
       "1376  MED-2432  The Garden of Eden--plant based diets, the gen...   \n",
       "\n",
       "                                                   text  \\\n",
       "930   It is likely that plant food consumption throu...   \n",
       "1376  It is likely that plant food consumption throu...   \n",
       "\n",
       "                                               metadata  \n",
       "930   {'url': 'http://www.ncbi.nlm.nih.gov/pubmed/?t...  \n",
       "1376  {'url': 'http://www.ncbi.nlm.nih.gov/pubmed/14...  "
      ]
     },
     "execution_count": 22,
     "metadata": {},
     "output_type": "execute_result"
    }
   ],
   "source": [
    "df_docs1.iloc[tmp_idx]"
   ]
  },
  {
   "cell_type": "code",
   "execution_count": 23,
   "metadata": {},
   "outputs": [
    {
     "data": {
      "text/plain": [
       "array([[1.]])"
      ]
     },
     "execution_count": 23,
     "metadata": {},
     "output_type": "execute_result"
    }
   ],
   "source": [
    "sparse_repr1[tmp_idx[0],:].dot(sparse_repr1[tmp_idx[1],:].transpose()).toarray()"
   ]
  },
  {
   "cell_type": "code",
   "execution_count": 24,
   "metadata": {},
   "outputs": [
    {
     "data": {
      "text/plain": [
       "array([  910,  1947,  1988,  2082,  2281,  2432,  2592,  2982,  3033,\n",
       "        3324,  3334,  3423,  3450,  3637,  3719,  3752,  4000,  4108,\n",
       "        4203,  4628,  5022,  5041,  5048,  5112,  5143,  5149,  5235,\n",
       "        6005,  6007,  6023,  6151,  6515,  6516,  6837,  6966,  7035,\n",
       "        7158,  7229,  7380,  7481,  7554,  7706,  7716,  7736,  7847,\n",
       "        7913,  8045,  8052,  8551,  8606,  8791,  9002,  9141,  9471,\n",
       "        9698,  9763,  9770,  9817,  9899,  9961, 10332, 10401, 10411,\n",
       "       10490, 10526, 10538, 10585, 10726, 10727, 10871, 10916, 10958,\n",
       "       11101, 11119, 11385, 11559, 11687, 11758, 11872, 12069, 12521,\n",
       "       12573, 12635, 12677, 12759, 12991, 13030, 13332, 13624, 13753,\n",
       "       13859, 13992, 14064, 14268, 14369, 14464, 14560, 14709, 14775,\n",
       "       14811, 14827, 14942, 14972, 14973, 15033, 15112, 15150, 15284,\n",
       "       15418, 15483, 15525, 15783, 15831, 15948, 16196, 16383, 16408,\n",
       "       16454, 16604, 16642, 16758, 16955, 16957, 17086, 17170, 17174,\n",
       "       17196, 17285, 17365, 17492, 18234, 18349, 18395, 18480, 18517,\n",
       "       18548, 18608, 18656])"
      ]
     },
     "execution_count": 24,
     "metadata": {},
     "output_type": "execute_result"
    }
   ],
   "source": [
    "sparse_repr1[tmp_idx[1],:].indices"
   ]
  },
  {
   "attachments": {},
   "cell_type": "markdown",
   "metadata": {},
   "source": [
    "<a id=\"approx_s\"></a>\n",
    "### Approximate similarity search\n",
    "(using Sparse Random Projection)"
   ]
  },
  {
   "cell_type": "code",
   "execution_count": 25,
   "metadata": {},
   "outputs": [],
   "source": [
    "epsilon=0.1"
   ]
  },
  {
   "cell_type": "code",
   "execution_count": 26,
   "metadata": {},
   "outputs": [
    {
     "name": "stdout",
     "output_type": "stream",
     "text": [
      "7026\n",
      "0.0072802882585279016\n"
     ]
    }
   ],
   "source": [
    "sr_proj1=SparseRandomProjection(eps=epsilon, random_state=32)\n",
    "sr_proj1.fit(sparse_repr1);\n",
    "print(sr_proj1.n_components_)\n",
    "print(sr_proj1.density_)"
   ]
  },
  {
   "cell_type": "code",
   "execution_count": 27,
   "metadata": {},
   "outputs": [
    {
     "name": "stdout",
     "output_type": "stream",
     "text": [
      "(3633, 7026)\n",
      "Density ratio: 0.5847442580658102\n"
     ]
    }
   ],
   "source": [
    "sparse_repr_approx_srp1=sr_proj1.transform(sparse_repr1)\n",
    "print(sparse_repr_approx_srp1.shape)\n",
    "print(\"Density ratio:\", sparse_repr_approx_srp1.count_nonzero()/(sparse_repr_approx_srp1.shape[0]*sparse_repr_approx_srp1.shape[1]))"
   ]
  },
  {
   "cell_type": "code",
   "execution_count": 28,
   "metadata": {},
   "outputs": [
    {
     "name": "stderr",
     "output_type": "stream",
     "text": [
      "\n",
      "KeyboardInterrupt\n",
      "\n"
     ]
    }
   ],
   "source": [
    "sr_proj2=SparseRandomProjection(eps=epsilon, random_state=32)\n",
    "sr_proj2.fit(sparse_repr2);\n",
    "print(sr_proj2.n_components_)\n",
    "print(sr_proj2.density_)"
   ]
  },
  {
   "cell_type": "code",
   "execution_count": null,
   "metadata": {},
   "outputs": [],
   "source": [
    "sparse_repr_approx_srp2=sr_proj2.transform(sparse_repr2)\n",
    "print(sparse_repr_approx_srp2.shape)\n",
    "print(\"Density ratio:\", sparse_repr_approx_srp2.count_nonzero()/(sparse_repr_approx_srp2.shape[0]*sparse_repr_approx_srp2.shape[1]))"
   ]
  },
  {
   "cell_type": "code",
   "execution_count": null,
   "metadata": {},
   "outputs": [],
   "source": [
    "time_list1_appprox, pairs_list1_approx=eval_sol(sparse_repr_approx_srp1, df_docs1[\"_id\"], thresholds)"
   ]
  },
  {
   "cell_type": "code",
   "execution_count": null,
   "metadata": {},
   "outputs": [],
   "source": [
    "time_list2_appprox, pairs_list2_approx=eval_sol(sparse_repr_approx_srp2, df_docs2[\"_id\"], thresholds)"
   ]
  },
  {
   "attachments": {},
   "cell_type": "markdown",
   "metadata": {},
   "source": [
    "<a id=\"eval\"></a>\n",
    "## Results"
   ]
  },
  {
   "cell_type": "code",
   "execution_count": null,
   "metadata": {},
   "outputs": [],
   "source": [
    "for i in range(len(thresholds)):\n",
    "    print(f\"Threshold: {thresholds[i]}\")\n",
    "    exact_set1=set([(e[0], e[1]) for e in pairs_list1[i]])\n",
    "    approx_set1=set([(e[0], e[1]) for e in pairs_list1_approx[i]])\n",
    "    jaccard=len(exact_set1.intersection(approx_set1))/len(exact_set1.union(approx_set1))\n",
    "    print(f\"Jaccard score: {jaccard}\")\n",
    "    print(f\"Time for exact solution: {time_list1[i]}\")\n",
    "    print(f\"Time for approx solution: {time_list1_appprox[i]}\\n\")\n"
   ]
  },
  {
   "cell_type": "code",
   "execution_count": null,
   "metadata": {},
   "outputs": [],
   "source": [
    "for i in range(len(thresholds)):\n",
    "    print(f\"Threshold: {thresholds[i]}\")\n",
    "    exact_set2=set([(e[0], e[1]) for e in pairs_list2[i]])\n",
    "    approx_set2=set([(e[0], e[1]) for e in pairs_list2_approx[i]])\n",
    "    jaccard=len(exact_set2.intersection(approx_set2))/len(exact_set2.union(approx_set2))\n",
    "    print(f\"Jaccard score: {jaccard}\")\n",
    "    print(f\"Time for exact solution: {time_list2[i]}\")\n",
    "    print(f\"Time for approx solution: {time_list2_appprox[i]}\\n\")\n"
   ]
  }
 ],
 "metadata": {
  "kernelspec": {
   "display_name": "ML-base",
   "language": "python",
   "name": "python3"
  },
  "language_info": {
   "codemirror_mode": {
    "name": "ipython",
    "version": 3
   },
   "file_extension": ".py",
   "mimetype": "text/x-python",
   "name": "python",
   "nbconvert_exporter": "python",
   "pygments_lexer": "ipython3",
   "version": "3.10.11"
  },
  "orig_nbformat": 4
 },
 "nbformat": 4,
 "nbformat_minor": 2
}
