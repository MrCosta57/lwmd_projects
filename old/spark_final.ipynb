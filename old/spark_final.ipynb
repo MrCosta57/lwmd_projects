{
 "cells": [
  {
   "cell_type": "code",
   "execution_count": 97,
   "metadata": {},
   "outputs": [
    {
     "data": {
      "text/html": [
       "\n",
       "            <div>\n",
       "                <p><b>SparkSession - in-memory</b></p>\n",
       "                \n",
       "        <div>\n",
       "            <p><b>SparkContext</b></p>\n",
       "\n",
       "            <p><a href=\"http://Matebook-D:4040\">Spark UI</a></p>\n",
       "\n",
       "            <dl>\n",
       "              <dt>Version</dt>\n",
       "                <dd><code>v3.4.0</code></dd>\n",
       "              <dt>Master</dt>\n",
       "                <dd><code>local[*]</code></dd>\n",
       "              <dt>AppName</dt>\n",
       "                <dd><code>MyApp</code></dd>\n",
       "            </dl>\n",
       "        </div>\n",
       "        \n",
       "            </div>\n",
       "        "
      ],
      "text/plain": [
       "<pyspark.sql.session.SparkSession at 0x21a6e367640>"
      ]
     },
     "execution_count": 97,
     "metadata": {},
     "output_type": "execute_result"
    }
   ],
   "source": [
    "import os\n",
    "import numpy as np\n",
    "import pandas as pd\n",
    "import pyspark.pandas as ps\n",
    "from pyspark.sql import SparkSession\n",
    "from pyspark.ml.linalg import SparseVector\n",
    "from scipy.sparse import load_npz\n",
    "\n",
    "\n",
    "os.environ['PYSPARK_PYTHON'] = 'C:\\ProgramData\\mambaforge\\envs\\ML-base\\python.exe'\n",
    "os.environ['PYSPARK_DRIVER_PYTHON'] = 'C:\\ProgramData\\mambaforge\\envs\\ML-base\\Scripts\\ipython.exe'\n",
    "\n",
    "spark = SparkSession.builder.appName(\"MyApp\").getOrCreate()\n",
    "sc=spark.sparkContext\n",
    "spark"
   ]
  },
  {
   "cell_type": "code",
   "execution_count": 98,
   "metadata": {},
   "outputs": [],
   "source": [
    "#df_id=pd.read_parquet(\"ids_nfcorpus.parquet\")\n",
    "#vocab=pd.read_parquet(\"terms_nfcorpus.parquet\")\n",
    "threshold=0.6"
   ]
  },
  {
   "cell_type": "code",
   "execution_count": 99,
   "metadata": {},
   "outputs": [],
   "source": [
    "from nltk.stem import PorterStemmer\n",
    "from sklearn.feature_extraction.text import TfidfVectorizer\n",
    "from sklearn.metrics.pairwise import cosine_similarity, pairwise_distances\n",
    "#Sk-learn's \"TfidfVectorizer\" extension to provide the stemming feature\n",
    "class StemmedTfidfVectorizer(TfidfVectorizer):\n",
    "    stemmer = PorterStemmer()\n",
    "    def build_analyzer(self):\n",
    "        analyzer = super(StemmedTfidfVectorizer, self).build_analyzer()\n",
    "        return lambda doc: (StemmedTfidfVectorizer.stemmer.stem(w) for w in analyzer(doc))\n",
    "    \n",
    "    \n",
    "def compute_sparse_repr(corpus: pd.DataFrame):\n",
    "    #Extract only the word and the numbers, made a lowercase transformation and usage of custom vocabulary to make representations independent\n",
    "    doc_tfidf=StemmedTfidfVectorizer(lowercase=True, stop_words=None, token_pattern=r'\\w+', binary=True)\n",
    "\n",
    "    #Computation of the sparse embedding\n",
    "    sparse_doc=doc_tfidf.fit_transform(corpus[\"text\"])\n",
    "    vocab=doc_tfidf.vocabulary_\n",
    "    \n",
    "    return sparse_doc, vocab"
   ]
  },
  {
   "cell_type": "code",
   "execution_count": 100,
   "metadata": {},
   "outputs": [],
   "source": [
    "toy_df=pd.DataFrame([[\"Hi how are you John?\", 100], [\"Hi how are you John my bro?\", 101], [\"Hi how are you?\", 102], [\"Bro call me John!\", 103]], columns=[\"text\", \"id\"])"
   ]
  },
  {
   "cell_type": "code",
   "execution_count": 101,
   "metadata": {},
   "outputs": [
    {
     "data": {
      "text/html": [
       "<div>\n",
       "<style scoped>\n",
       "    .dataframe tbody tr th:only-of-type {\n",
       "        vertical-align: middle;\n",
       "    }\n",
       "\n",
       "    .dataframe tbody tr th {\n",
       "        vertical-align: top;\n",
       "    }\n",
       "\n",
       "    .dataframe thead th {\n",
       "        text-align: right;\n",
       "    }\n",
       "</style>\n",
       "<table border=\"1\" class=\"dataframe\">\n",
       "  <thead>\n",
       "    <tr style=\"text-align: right;\">\n",
       "      <th></th>\n",
       "      <th>text</th>\n",
       "      <th>id</th>\n",
       "    </tr>\n",
       "  </thead>\n",
       "  <tbody>\n",
       "    <tr>\n",
       "      <th>0</th>\n",
       "      <td>Hi how are you John?</td>\n",
       "      <td>100</td>\n",
       "    </tr>\n",
       "    <tr>\n",
       "      <th>1</th>\n",
       "      <td>Hi how are you John my bro?</td>\n",
       "      <td>101</td>\n",
       "    </tr>\n",
       "    <tr>\n",
       "      <th>2</th>\n",
       "      <td>Hi how are you?</td>\n",
       "      <td>102</td>\n",
       "    </tr>\n",
       "    <tr>\n",
       "      <th>3</th>\n",
       "      <td>Bro call me John!</td>\n",
       "      <td>103</td>\n",
       "    </tr>\n",
       "  </tbody>\n",
       "</table>\n",
       "</div>"
      ],
      "text/plain": [
       "                          text   id\n",
       "0         Hi how are you John?  100\n",
       "1  Hi how are you John my bro?  101\n",
       "2              Hi how are you?  102\n",
       "3            Bro call me John!  103"
      ]
     },
     "execution_count": 101,
     "metadata": {},
     "output_type": "execute_result"
    }
   ],
   "source": [
    "toy_df"
   ]
  },
  {
   "cell_type": "code",
   "execution_count": 102,
   "metadata": {},
   "outputs": [],
   "source": [
    "sparse_repr, vocab=compute_sparse_repr(toy_df)"
   ]
  },
  {
   "cell_type": "code",
   "execution_count": 103,
   "metadata": {},
   "outputs": [
    {
     "name": "stdout",
     "output_type": "stream",
     "text": [
      "[[1.         0.74617541 0.89442719 0.1640141 ]\n",
      " [0.74617541 1.         0.66739957 0.30910547]\n",
      " [0.89442719 0.66739957 1.         0.        ]\n",
      " [0.1640141  0.30910547 0.         1.        ]]\n",
      "3.0\n"
     ]
    }
   ],
   "source": [
    "cosine_scores=cosine_similarity(sparse_repr)\n",
    "print(cosine_scores)\n",
    "np.fill_diagonal(cosine_scores, -1)\n",
    "num_of_pairs=(cosine_scores>=threshold).sum()/2\n",
    "print(num_of_pairs)"
   ]
  },
  {
   "cell_type": "code",
   "execution_count": 104,
   "metadata": {},
   "outputs": [],
   "source": [
    "#sparse_repr=load_npz(\"sparse_repr_nfcorpus.npz\")"
   ]
  },
  {
   "cell_type": "code",
   "execution_count": 105,
   "metadata": {},
   "outputs": [],
   "source": [
    "def csr_to_sparse_vector(row):\n",
    "    return SparseVector(row.shape[1], list(zip(row.indices, row.data)))\n",
    "\n",
    "docs = [csr_to_sparse_vector(sparse_repr.getrow(i)) for i in range(sparse_repr.shape[0])]\n",
    "doc_ids = toy_df[\"id\"] #df_id[\"_id\"]"
   ]
  },
  {
   "cell_type": "code",
   "execution_count": 106,
   "metadata": {},
   "outputs": [],
   "source": [
    "def sparse_argsort(matrix, idx):\n",
    "    row=matrix.getrow(idx)\n",
    "    sorted_indices = np.argsort(row.data)[::-1]\n",
    "    return row.indices[sorted_indices]\n",
    "sorted_index_term_doc=[sparse_argsort(sparse_repr, idx) for idx in range(sparse_repr.shape[0])]"
   ]
  },
  {
   "cell_type": "code",
   "execution_count": 107,
   "metadata": {},
   "outputs": [
    {
     "data": {
      "text/plain": [
       "array([[0.4472136 , 0.        , 0.        , 0.4472136 , 0.4472136 ,\n",
       "        0.4472136 , 0.        , 0.        , 0.4472136 ],\n",
       "       [0.33369979, 0.41218562, 0.        , 0.33369979, 0.33369979,\n",
       "        0.33369979, 0.        , 0.5228052 , 0.33369979],\n",
       "       [0.5       , 0.        , 0.        , 0.5       , 0.5       ,\n",
       "        0.        , 0.        , 0.        , 0.5       ],\n",
       "       [0.        , 0.4530051 , 0.57457953, 0.        , 0.        ,\n",
       "        0.36674667, 0.57457953, 0.        , 0.        ]])"
      ]
     },
     "execution_count": 107,
     "metadata": {},
     "output_type": "execute_result"
    }
   ],
   "source": [
    "sparse_repr.toarray()"
   ]
  },
  {
   "cell_type": "code",
   "execution_count": 125,
   "metadata": {},
   "outputs": [
    {
     "data": {
      "text/plain": [
       "{'hi': 3,\n",
       " 'how': 4,\n",
       " 'are': 0,\n",
       " 'you': 8,\n",
       " 'john': 5,\n",
       " 'my': 7,\n",
       " 'bro': 1,\n",
       " 'call': 2,\n",
       " 'me': 6}"
      ]
     },
     "execution_count": 125,
     "metadata": {},
     "output_type": "execute_result"
    }
   ],
   "source": [
    "vocab"
   ]
  },
  {
   "cell_type": "code",
   "execution_count": 108,
   "metadata": {},
   "outputs": [
    {
     "data": {
      "text/plain": [
       "[array([3, 4, 0, 8, 5]),\n",
       " array([7, 1, 3, 4, 0, 8, 5]),\n",
       " array([3, 4, 0, 8]),\n",
       " array([2, 6, 1, 5])]"
      ]
     },
     "execution_count": 108,
     "metadata": {},
     "output_type": "execute_result"
    }
   ],
   "source": [
    "sorted_index_term_doc"
   ]
  },
  {
   "cell_type": "code",
   "execution_count": 109,
   "metadata": {},
   "outputs": [],
   "source": [
    "#For debugging\n",
    "#np.max(sparse_repr.getcol(0))\n",
    "#np.max(sparse_repr, axis=0).toarray()"
   ]
  },
  {
   "cell_type": "code",
   "execution_count": 110,
   "metadata": {},
   "outputs": [
    {
     "data": {
      "text/plain": [
       "array([0.4472136 , 0.33369979, 0.5       , 0.        ])"
      ]
     },
     "execution_count": 110,
     "metadata": {},
     "output_type": "execute_result"
    }
   ],
   "source": [
    "sparse_repr.toarray()[:, 0]"
   ]
  },
  {
   "cell_type": "code",
   "execution_count": 111,
   "metadata": {},
   "outputs": [
    {
     "name": "stdout",
     "output_type": "stream",
     "text": [
      "sorted_index:  [3 4 0 8 5]\n",
      "SR:  [[0.4472136 0.4472136 0.4472136 0.4472136 0.4472136]]\n",
      "D*:  [[0.5       0.5       0.5       0.5       0.4472136]]\n",
      "Mult: [[0.2236068 0.2236068 0.2236068 0.2236068 0.2      ]]\n",
      "CumSum:  [0.2236068  0.4472136  0.67082039 0.89442719 1.09442719]\n",
      "index:  1\n",
      "\n",
      "sorted_index:  [7 1 3 4 0 8 5]\n",
      "SR:  [[0.5228052  0.41218562 0.33369979 0.33369979 0.33369979 0.33369979\n",
      "  0.33369979]]\n",
      "D*:  [[0.5228052 0.4530051 0.5       0.5       0.5       0.5       0.4472136]]\n",
      "Mult: [[0.27332528 0.18672219 0.16684989 0.16684989 0.16684989 0.16684989\n",
      "  0.14923508]]\n",
      "CumSum:  [0.27332528 0.46004746 0.62689736 0.79374725 0.96059714 1.12744704\n",
      " 1.27668212]\n",
      "index:  1\n",
      "\n",
      "sorted_index:  [3 4 0 8]\n",
      "SR:  [[0.5 0.5 0.5 0.5]]\n",
      "D*:  [[0.5 0.5 0.5 0.5]]\n",
      "Mult: [[0.25 0.25 0.25 0.25]]\n",
      "CumSum:  [0.25 0.5  0.75 1.  ]\n",
      "index:  1\n",
      "\n",
      "sorted_index:  [2 6 1 5]\n",
      "SR:  [[0.57457953 0.57457953 0.4530051  0.36674667]]\n",
      "D*:  [[0.57457953 0.57457953 0.4530051  0.4472136 ]]\n",
      "Mult: [[0.33014163 0.33014163 0.20521362 0.1640141 ]]\n",
      "CumSum:  [0.33014163 0.66028326 0.86549688 1.02951098]\n",
      "index:  0\n",
      "\n"
     ]
    }
   ],
   "source": [
    "#TODO check if is right\n",
    "d_star=sparse_repr.max(axis=0).tocsr()\n",
    "b_d=[]\n",
    "for i in range(sparse_repr.shape[0]):\n",
    "    term_order=sorted_index_term_doc[i]\n",
    "    sparse_repr_tmp=sparse_repr[i, term_order]\n",
    "    d_star_tmp=d_star[0, term_order]\n",
    "    mult = sparse_repr_tmp.multiply(d_star_tmp).toarray()\n",
    "    cum_sum=np.cumsum(mult)\n",
    "    index = np.argmax(cum_sum[cum_sum < threshold])\n",
    "    b_d.append(index) #b(d) value or term_order[index]?\n",
    "\n",
    "    print(\"sorted_index: \", term_order)\n",
    "    print(\"SR: \",sparse_repr_tmp.toarray())\n",
    "    print(\"D*: \",d_star_tmp.toarray())\n",
    "    print(\"Mult:\", mult)\n",
    "    print(\"CumSum: \", cum_sum)\n",
    "    print(\"index: \", index)\n",
    "    print()\n",
    "\n",
    "b_d=np.array(b_d)"
   ]
  },
  {
   "cell_type": "code",
   "execution_count": 112,
   "metadata": {},
   "outputs": [
    {
     "data": {
      "text/plain": [
       "array([[0.5       , 0.4530051 , 0.57457953, 0.5       , 0.5       ,\n",
       "        0.4472136 , 0.57457953, 0.5228052 , 0.5       ]])"
      ]
     },
     "execution_count": 112,
     "metadata": {},
     "output_type": "execute_result"
    }
   ],
   "source": [
    "d_star.toarray()"
   ]
  },
  {
   "cell_type": "code",
   "execution_count": 113,
   "metadata": {},
   "outputs": [
    {
     "data": {
      "text/plain": [
       "array([1, 1, 1, 0], dtype=int64)"
      ]
     },
     "execution_count": 113,
     "metadata": {},
     "output_type": "execute_result"
    }
   ],
   "source": [
    "b_d"
   ]
  },
  {
   "cell_type": "code",
   "execution_count": 114,
   "metadata": {},
   "outputs": [],
   "source": [
    "rdd_forMap=sc.parallelize([(doc_ids[i], (docs[i], sorted_index_term_doc[i], b_d[i])) for i in range(sparse_repr.shape[0])])"
   ]
  },
  {
   "cell_type": "code",
   "execution_count": 115,
   "metadata": {},
   "outputs": [
    {
     "data": {
      "text/plain": [
       "(100,\n",
       " (SparseVector(9, {0: 0.4472, 3: 0.4472, 4: 0.4472, 5: 0.4472, 8: 0.4472}),\n",
       "  array([3, 4, 0, 8, 5]),\n",
       "  1))"
      ]
     },
     "execution_count": 115,
     "metadata": {},
     "output_type": "execute_result"
    }
   ],
   "source": [
    "rdd_forMap.first()"
   ]
  },
  {
   "attachments": {},
   "cell_type": "markdown",
   "metadata": {},
   "source": [
    "Map( (doc_id, (doc, sorted_index_term_doc, b_d)) )\n",
    "    return (index_term, (doc_id, doc) )\n",
    "\n",
    "GroupBy: done by Spark\n",
    "\n",
    "Reduce( (index_term,  list( (doc_id, doc) )) )\n",
    "\n"
   ]
  },
  {
   "cell_type": "code",
   "execution_count": 130,
   "metadata": {},
   "outputs": [],
   "source": [
    "def my_map(elem):\n",
    "    result=[]\n",
    "    for i, t_idx in enumerate(elem[1][1]):\n",
    "        if i>elem[1][2]:\n",
    "            result.append( (t_idx, (elem[0], elem[1][0])) )\n",
    "    return result\n",
    "rdd_forReduce=rdd_forMap.flatMap(my_map)"
   ]
  },
  {
   "cell_type": "code",
   "execution_count": 131,
   "metadata": {},
   "outputs": [],
   "source": [
    "tmp=rdd_forReduce.collect()"
   ]
  },
  {
   "cell_type": "code",
   "execution_count": 118,
   "metadata": {},
   "outputs": [
    {
     "data": {
      "text/plain": [
       "[(0,\n",
       "  (100,\n",
       "   SparseVector(9, {0: 0.4472, 3: 0.4472, 4: 0.4472, 5: 0.4472, 8: 0.4472}))),\n",
       " (8,\n",
       "  (100,\n",
       "   SparseVector(9, {0: 0.4472, 3: 0.4472, 4: 0.4472, 5: 0.4472, 8: 0.4472}))),\n",
       " (5,\n",
       "  (100,\n",
       "   SparseVector(9, {0: 0.4472, 3: 0.4472, 4: 0.4472, 5: 0.4472, 8: 0.4472}))),\n",
       " (3,\n",
       "  (101,\n",
       "   SparseVector(9, {0: 0.3337, 1: 0.4122, 3: 0.3337, 4: 0.3337, 5: 0.3337, 7: 0.5228, 8: 0.3337}))),\n",
       " (4,\n",
       "  (101,\n",
       "   SparseVector(9, {0: 0.3337, 1: 0.4122, 3: 0.3337, 4: 0.3337, 5: 0.3337, 7: 0.5228, 8: 0.3337}))),\n",
       " (0,\n",
       "  (101,\n",
       "   SparseVector(9, {0: 0.3337, 1: 0.4122, 3: 0.3337, 4: 0.3337, 5: 0.3337, 7: 0.5228, 8: 0.3337}))),\n",
       " (8,\n",
       "  (101,\n",
       "   SparseVector(9, {0: 0.3337, 1: 0.4122, 3: 0.3337, 4: 0.3337, 5: 0.3337, 7: 0.5228, 8: 0.3337}))),\n",
       " (5,\n",
       "  (101,\n",
       "   SparseVector(9, {0: 0.3337, 1: 0.4122, 3: 0.3337, 4: 0.3337, 5: 0.3337, 7: 0.5228, 8: 0.3337}))),\n",
       " (0, (102, SparseVector(9, {0: 0.5, 3: 0.5, 4: 0.5, 8: 0.5}))),\n",
       " (8, (102, SparseVector(9, {0: 0.5, 3: 0.5, 4: 0.5, 8: 0.5}))),\n",
       " (6, (103, SparseVector(9, {1: 0.453, 2: 0.5746, 5: 0.3667, 6: 0.5746}))),\n",
       " (1, (103, SparseVector(9, {1: 0.453, 2: 0.5746, 5: 0.3667, 6: 0.5746}))),\n",
       " (5, (103, SparseVector(9, {1: 0.453, 2: 0.5746, 5: 0.3667, 6: 0.5746})))]"
      ]
     },
     "execution_count": 118,
     "metadata": {},
     "output_type": "execute_result"
    }
   ],
   "source": [
    "tmp"
   ]
  },
  {
   "cell_type": "code",
   "execution_count": 120,
   "metadata": {},
   "outputs": [],
   "source": [
    "def max_of_intersection(list1, list2):\n",
    "    max=0\n",
    "    i = 0\n",
    "    j = 0\n",
    "    while i < len(list1) and j < len(list2):\n",
    "        elem1=list1[i]\n",
    "        elem2=list2[j]\n",
    "\n",
    "        if elem1 == elem2:\n",
    "            if elem1>max:\n",
    "                max=elem1\n",
    "            i += 1\n",
    "            j += 1\n",
    "        elif elem1 < elem2:\n",
    "            i += 1\n",
    "        else:\n",
    "            j += 1\n",
    "\n",
    "    return max\n",
    "\n",
    "def my_reduce(elem):\n",
    "    result=[]\n",
    "    for id1, d1 in elem[1]:\n",
    "        for id2, d2 in elem[1]:\n",
    "            if id1!=id2 and elem[0]==max_of_intersection(d1.indices, d2.indices):\n",
    "                #TODO: review the comparison with the max (they are index!) check this\n",
    "                sim=d1.dot(d2)/(d1.norm(2)*d2.norm(2))\n",
    "                if sim>=threshold:\n",
    "                    result.append((id1, id2, sim))\n",
    "    return result\n",
    "                \n",
    "from collections import OrderedDict\n",
    "\n",
    "def reduce_by_key(ls):\n",
    "    d = OrderedDict()\n",
    "    for key, sublist in ls:\n",
    "        d.setdefault(key, []).extend([sublist])\n",
    "    return list(d.items())\n",
    "iter=reduce_by_key(tmp)"
   ]
  },
  {
   "cell_type": "code",
   "execution_count": 121,
   "metadata": {},
   "outputs": [],
   "source": [
    "res=map(my_reduce, iter)"
   ]
  },
  {
   "cell_type": "code",
   "execution_count": 122,
   "metadata": {},
   "outputs": [],
   "source": [
    "lista=[]\n",
    "for e in res:\n",
    "    lista.append(e)\n"
   ]
  },
  {
   "cell_type": "code",
   "execution_count": 123,
   "metadata": {},
   "outputs": [
    {
     "data": {
      "text/plain": [
       "[[],\n",
       " [(100, 101, 0.7461754056903326),\n",
       "  (100, 102, 0.8944271909999159),\n",
       "  (101, 100, 0.7461754056903326),\n",
       "  (101, 102, 0.6673995721048268),\n",
       "  (102, 100, 0.8944271909999159),\n",
       "  (102, 101, 0.6673995721048268)],\n",
       " [],\n",
       " [],\n",
       " [],\n",
       " [],\n",
       " []]"
      ]
     },
     "execution_count": 123,
     "metadata": {},
     "output_type": "execute_result"
    }
   ],
   "source": [
    "lista"
   ]
  },
  {
   "cell_type": "code",
   "execution_count": 124,
   "metadata": {},
   "outputs": [
    {
     "ename": "NameError",
     "evalue": "name 'a' is not defined",
     "output_type": "error",
     "traceback": [
      "\u001b[1;31m---------------------------------------------------------------------------\u001b[0m",
      "\u001b[1;31mNameError\u001b[0m                                 Traceback (most recent call last)",
      "Cell \u001b[1;32mIn[124], line 1\u001b[0m\n\u001b[1;32m----> 1\u001b[0m a\n",
      "\u001b[1;31mNameError\u001b[0m: name 'a' is not defined"
     ]
    }
   ],
   "source": [
    "a"
   ]
  },
  {
   "cell_type": "code",
   "execution_count": null,
   "metadata": {},
   "outputs": [],
   "source": [
    "spark.stop()"
   ]
  }
 ],
 "metadata": {
  "kernelspec": {
   "display_name": "ML-base",
   "language": "python",
   "name": "python3"
  },
  "language_info": {
   "codemirror_mode": {
    "name": "ipython",
    "version": 3
   },
   "file_extension": ".py",
   "mimetype": "text/x-python",
   "name": "python",
   "nbconvert_exporter": "python",
   "pygments_lexer": "ipython3",
   "version": "3.10.11"
  },
  "orig_nbformat": 4
 },
 "nbformat": 4,
 "nbformat_minor": 2
}
