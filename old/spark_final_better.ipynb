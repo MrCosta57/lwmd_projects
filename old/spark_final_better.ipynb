{
 "cells": [
  {
   "cell_type": "code",
   "execution_count": null,
   "metadata": {},
   "outputs": [],
   "source": [
    "import os\n",
    "import numpy as np\n",
    "import pandas as pd\n",
    "from pyspark.sql import SparkSession\n",
    "from pyspark.ml.linalg import SparseVector\n",
    "from scipy.sparse import load_npz\n",
    "import utils\n",
    "\n",
    "\n",
    "os.environ['PYSPARK_PYTHON'] = 'C:\\ProgramData\\mambaforge\\envs\\ML-base\\python.exe'\n",
    "os.environ['PYSPARK_DRIVER_PYTHON'] = 'C:\\ProgramData\\mambaforge\\envs\\ML-base\\Scripts\\ipython.exe'\n",
    "\n",
    "spark = SparkSession.builder.appName(\"MyApp\").getOrCreate()\n",
    "sc=spark.sparkContext\n",
    "spark"
   ]
  },
  {
   "cell_type": "code",
   "execution_count": null,
   "metadata": {},
   "outputs": [],
   "source": [
    "df_id=pd.read_parquet(\"results/bug_pair_ids.parquet\")\n",
    "threshold=0.8"
   ]
  },
  {
   "cell_type": "code",
   "execution_count": null,
   "metadata": {},
   "outputs": [],
   "source": [
    "#toy_df=pd.DataFrame([[\"Hi how are you John?\", 100], [\"Hi how are you John my bro?\", 101], [\"Bro, what girls?\", 102]], columns=[\"text\", \"id\"])"
   ]
  },
  {
   "cell_type": "code",
   "execution_count": null,
   "metadata": {},
   "outputs": [],
   "source": [
    "#toy_df"
   ]
  },
  {
   "cell_type": "code",
   "execution_count": null,
   "metadata": {},
   "outputs": [],
   "source": [
    "\"\"\" sparse_repr, _=utils.compute_sparse_repr(toy_df[\"text\"])\n",
    "pairs, num_of_pairs=utils.compute_cosine_similarity(sparse_repr, toy_df[\"id\"], 0.0)\n",
    "pairs \"\"\""
   ]
  },
  {
   "cell_type": "code",
   "execution_count": null,
   "metadata": {},
   "outputs": [],
   "source": [
    "sparse_repr=load_npz(\"results/bug_pair_ids.npz\")"
   ]
  },
  {
   "cell_type": "code",
   "execution_count": null,
   "metadata": {},
   "outputs": [],
   "source": [
    "def csr_to_sparse_vector(row):\n",
    "    return SparseVector(row.shape[1], list(zip(row.indices, row.data)))\n",
    "\n",
    "docs_sparse_forSpark = [csr_to_sparse_vector(sparse_repr.getrow(i)) for i in range(sparse_repr.shape[0])]\n",
    "doc_ids = df_id[\"_id\"].reset_index(drop=True)"
   ]
  },
  {
   "cell_type": "code",
   "execution_count": null,
   "metadata": {},
   "outputs": [],
   "source": [
    "docs_sparse_forSpark[1]"
   ]
  },
  {
   "cell_type": "code",
   "execution_count": null,
   "metadata": {},
   "outputs": [],
   "source": [
    "print(sparse_repr[1].indices)\n",
    "print(sparse_repr[1].data)"
   ]
  },
  {
   "cell_type": "code",
   "execution_count": null,
   "metadata": {},
   "outputs": [],
   "source": [
    "sparse_repr[1,6]"
   ]
  },
  {
   "cell_type": "code",
   "execution_count": null,
   "metadata": {},
   "outputs": [],
   "source": [
    "sparse_repr[1].toarray()"
   ]
  },
  {
   "cell_type": "code",
   "execution_count": null,
   "metadata": {},
   "outputs": [],
   "source": [
    "def sparse_argsort(matrix, idx):\n",
    "    row=matrix.getrow(idx)\n",
    "    sorted_indices = np.argsort(row.data)[::-1]\n",
    "    return row.indices[sorted_indices].tolist()\n",
    "sorted_index_term_doc=[sparse_argsort(sparse_repr, idx) for idx in range(sparse_repr.shape[0])]"
   ]
  },
  {
   "cell_type": "code",
   "execution_count": null,
   "metadata": {},
   "outputs": [],
   "source": [
    "d_star=sparse_repr.max(axis=0).toarray().reshape(-1)\n",
    "#d_star=d_star/np.linalg.norm(d_star, 2)"
   ]
  },
  {
   "cell_type": "code",
   "execution_count": null,
   "metadata": {},
   "outputs": [],
   "source": [
    "sparse_repr.toarray()"
   ]
  },
  {
   "cell_type": "code",
   "execution_count": null,
   "metadata": {},
   "outputs": [],
   "source": [
    "sparse_repr[:,8].toarray()"
   ]
  },
  {
   "cell_type": "code",
   "execution_count": null,
   "metadata": {},
   "outputs": [],
   "source": [
    "d_star\n",
    "#{0: 0.4472, 3: 0.4472, 4: 0.4472, 5: 0.4472, 8: 0.4472})\n",
    "##[3, 4, 0, 8, 5]"
   ]
  },
  {
   "cell_type": "code",
   "execution_count": null,
   "metadata": {},
   "outputs": [],
   "source": [
    "d_star_sc=sc.broadcast(d_star)\n",
    "rdd_forMap=sc.parallelize([(doc_ids[i], (docs_sparse_forSpark[i], sorted_index_term_doc[i])) for i in range(sparse_repr.shape[0])])"
   ]
  },
  {
   "cell_type": "code",
   "execution_count": null,
   "metadata": {},
   "outputs": [],
   "source": [
    "def b_d(sparse_repr, term_order):\n",
    "    sparse_repr_tmp=[sparse_repr[t] for t in term_order]\n",
    "    d_star_tmp=[d_star_sc.value[t] for t in term_order]\n",
    "    cum_sum=0\n",
    "    index=0\n",
    "\n",
    "    for i in range(len(d_star_tmp)):\n",
    "        mult_val=sparse_repr_tmp[i]*d_star_tmp[i]\n",
    "        cum_sum+=mult_val\n",
    "        index=i\n",
    "        if cum_sum>=threshold:\n",
    "            index=index-1\n",
    "            break\n",
    "    print(index, term_order[index])\n",
    "    return index\n",
    "\n",
    "\n",
    "def my_map(elem):\n",
    "    #result=[]\n",
    "    doc_id=elem[0]\n",
    "    sparse_repr=elem[1][0]\n",
    "    sorted_index=elem[1][1]\n",
    "\n",
    "    #bound=b_d(sparse_repr, sorted_index)\n",
    "    result=[((t_idx, (doc_id, sparse_repr))) for t_idx in sorted_index]#[bound+1::]]\n",
    "\n",
    "    \"\"\" for i, t_idx in enumerate(sorted_index):\n",
    "        if i>bound:\n",
    "            result.append( (t_idx, (doc_id, sparse_repr)) ) \"\"\"\n",
    "    return result\n",
    "\n",
    "rdd_forReduce=rdd_forMap.flatMap(my_map)\n"
   ]
  },
  {
   "cell_type": "code",
   "execution_count": null,
   "metadata": {},
   "outputs": [],
   "source": [
    "\"\"\" from itertools import chain\n",
    "\n",
    "def flatmap(func, iterable):\n",
    "    return list(chain.from_iterable(map(func, iterable)))\n",
    "\n",
    "iter=flatmap(my_map, rdd_forMap)\n",
    "iter\"\"\""
   ]
  },
  {
   "cell_type": "code",
   "execution_count": null,
   "metadata": {},
   "outputs": [],
   "source": []
  },
  {
   "cell_type": "code",
   "execution_count": null,
   "metadata": {},
   "outputs": [],
   "source": [
    "docs_sparse_forSpark[0].dot(docs_sparse_forSpark[1])"
   ]
  },
  {
   "cell_type": "code",
   "execution_count": null,
   "metadata": {},
   "outputs": [],
   "source": [
    "def max_of_intersection(list1, list2):\n",
    "    max=0\n",
    "    i = 0\n",
    "    j = 0\n",
    "    while i < len(list1) and j < len(list2):\n",
    "        elem1=list1[i]\n",
    "        elem2=list2[j]\n",
    "\n",
    "        if elem1 == elem2:\n",
    "            if elem1>max:\n",
    "                max=elem1\n",
    "            i += 1\n",
    "            j += 1\n",
    "        elif elem1 < elem2:\n",
    "            i += 1\n",
    "        else:\n",
    "            j += 1\n",
    "\n",
    "    return max\n",
    "\n",
    "\n",
    "def my_reduce(elem):\n",
    "    result=[]\n",
    "    #For directly prune the symmetric pairs \n",
    "    pairs_dict={}\n",
    "    key=elem[0]\n",
    "    values=elem[1]\n",
    "    \n",
    "    for id1, d1 in values:\n",
    "        for id2, d2 in values:\n",
    "            \n",
    "            #print(\"CIAO\", (id1,id2, sim))\n",
    "            #print(key, d1.indices, d2.indices)\n",
    "            max_int=max_of_intersection(d1.indices, d2.indices)\n",
    "            #print(\"KEY: \",key, \" Max_inters:\", max_int, \"\\n\")\n",
    "            if id1!=id2 and key==max_int and (not pairs_dict.get((id2, id1), False)):\n",
    "                sim=round(d1.dot(d2), 4)\n",
    "                #because vector are already normalized\n",
    "                if sim>=threshold:\n",
    "                    pairs_dict[(id1, id2)]=True\n",
    "                    result.append((id1, id2, sim))\n",
    "    print()\n",
    "    return result\n",
    "\n",
    "#result_pairs=rdd_forReduce.groupByKey().flatMap(my_reduce)\n",
    "\n",
    "\n",
    "#gb=rdd_forReduce.groupByKey().mapValues(list).collect()"
   ]
  },
  {
   "cell_type": "code",
   "execution_count": null,
   "metadata": {},
   "outputs": [],
   "source": [
    "#gb"
   ]
  },
  {
   "cell_type": "code",
   "execution_count": null,
   "metadata": {},
   "outputs": [],
   "source": [
    "#flatmap(my_reduce, gb)"
   ]
  },
  {
   "cell_type": "code",
   "execution_count": null,
   "metadata": {},
   "outputs": [],
   "source": [
    "risultato=rdd_forReduce.groupByKey().mapValues(list).flatMap(my_reduce).collect()\n",
    "#print(risultato)"
   ]
  },
  {
   "cell_type": "code",
   "execution_count": null,
   "metadata": {},
   "outputs": [],
   "source": [
    "risultato"
   ]
  },
  {
   "cell_type": "code",
   "execution_count": null,
   "metadata": {},
   "outputs": [],
   "source": [
    "len(risultato)"
   ]
  },
  {
   "cell_type": "code",
   "execution_count": null,
   "metadata": {},
   "outputs": [],
   "source": [
    "print(set(np.array([[e[0], e[1]] for e in risultato]).flatten()))"
   ]
  },
  {
   "cell_type": "code",
   "execution_count": null,
   "metadata": {},
   "outputs": [],
   "source": [
    "spark.stop()"
   ]
  }
 ],
 "metadata": {
  "kernelspec": {
   "display_name": "ML-base",
   "language": "python",
   "name": "python3"
  },
  "language_info": {
   "codemirror_mode": {
    "name": "ipython",
    "version": 3
   },
   "file_extension": ".py",
   "mimetype": "text/x-python",
   "name": "python",
   "nbconvert_exporter": "python",
   "pygments_lexer": "ipython3",
   "version": "3.10.11"
  },
  "orig_nbformat": 4
 },
 "nbformat": 4,
 "nbformat_minor": 2
}
