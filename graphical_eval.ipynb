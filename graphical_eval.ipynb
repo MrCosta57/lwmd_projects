{
 "cells": [
  {
   "attachments": {},
   "cell_type": "markdown",
   "metadata": {},
   "source": [
    "## Learning with Massive Data\n",
    "### Assignment 1 - Parallel graph's triangle counter\n",
    "#### Giovanni Costa - 880892"
   ]
  },
  {
   "cell_type": "code",
   "execution_count": 20,
   "metadata": {},
   "outputs": [],
   "source": [
    "%matplotlib inline\n",
    "import numpy as np\n",
    "import pandas as pd\n",
    "from matplotlib import pyplot as plt\n",
    "import glob"
   ]
  },
  {
   "attachments": {},
   "cell_type": "markdown",
   "metadata": {},
   "source": [
    "### Data import"
   ]
  },
  {
   "cell_type": "code",
   "execution_count": 21,
   "metadata": {},
   "outputs": [
    {
     "name": "stdout",
     "output_type": "stream",
     "text": [
      "['results/as-skitter_results.csv', 'results/com-amazon-ungraph_results.csv', 'results/custom-dense_results.csv']\n"
     ]
    }
   ],
   "source": [
    "files=glob.glob(\"results/*.csv\")\n",
    "print(files)"
   ]
  },
  {
   "cell_type": "code",
   "execution_count": 22,
   "metadata": {},
   "outputs": [],
   "source": [
    "df_sparse=pd.read_csv(files[0], header=0)\n",
    "df_little=pd.read_csv(files[1], header=0)\n",
    "df_dense=pd.read_csv(files[2], header=0)"
   ]
  },
  {
   "cell_type": "code",
   "execution_count": 23,
   "metadata": {},
   "outputs": [
    {
     "data": {
      "text/html": [
       "<div>\n",
       "<style scoped>\n",
       "    .dataframe tbody tr th:only-of-type {\n",
       "        vertical-align: middle;\n",
       "    }\n",
       "\n",
       "    .dataframe tbody tr th {\n",
       "        vertical-align: top;\n",
       "    }\n",
       "\n",
       "    .dataframe thead th {\n",
       "        text-align: right;\n",
       "    }\n",
       "</style>\n",
       "<table border=\"1\" class=\"dataframe\">\n",
       "  <thead>\n",
       "    <tr style=\"text-align: right;\">\n",
       "      <th></th>\n",
       "      <th>n_nodes</th>\n",
       "      <th>n_edges</th>\n",
       "      <th>density</th>\n",
       "      <th>num_threads</th>\n",
       "      <th>rank_time</th>\n",
       "      <th>triangle_time</th>\n",
       "    </tr>\n",
       "  </thead>\n",
       "  <tbody>\n",
       "    <tr>\n",
       "      <th>0</th>\n",
       "      <td>1696415</td>\n",
       "      <td>11095298</td>\n",
       "      <td>0.000008</td>\n",
       "      <td>1</td>\n",
       "      <td>67.706210</td>\n",
       "      <td>17.537175</td>\n",
       "    </tr>\n",
       "    <tr>\n",
       "      <th>1</th>\n",
       "      <td>1696415</td>\n",
       "      <td>11095298</td>\n",
       "      <td>0.000008</td>\n",
       "      <td>2</td>\n",
       "      <td>55.580149</td>\n",
       "      <td>14.481046</td>\n",
       "    </tr>\n",
       "    <tr>\n",
       "      <th>2</th>\n",
       "      <td>1696415</td>\n",
       "      <td>11095298</td>\n",
       "      <td>0.000008</td>\n",
       "      <td>3</td>\n",
       "      <td>50.166838</td>\n",
       "      <td>13.574053</td>\n",
       "    </tr>\n",
       "  </tbody>\n",
       "</table>\n",
       "</div>"
      ],
      "text/plain": [
       "   n_nodes   n_edges   density  num_threads  rank_time  triangle_time\n",
       "0  1696415  11095298  0.000008            1  67.706210      17.537175\n",
       "1  1696415  11095298  0.000008            2  55.580149      14.481046\n",
       "2  1696415  11095298  0.000008            3  50.166838      13.574053"
      ]
     },
     "execution_count": 23,
     "metadata": {},
     "output_type": "execute_result"
    }
   ],
   "source": [
    "df_sparse.head(3)"
   ]
  },
  {
   "cell_type": "code",
   "execution_count": 24,
   "metadata": {},
   "outputs": [
    {
     "data": {
      "text/html": [
       "<div>\n",
       "<style scoped>\n",
       "    .dataframe tbody tr th:only-of-type {\n",
       "        vertical-align: middle;\n",
       "    }\n",
       "\n",
       "    .dataframe tbody tr th {\n",
       "        vertical-align: top;\n",
       "    }\n",
       "\n",
       "    .dataframe thead th {\n",
       "        text-align: right;\n",
       "    }\n",
       "</style>\n",
       "<table border=\"1\" class=\"dataframe\">\n",
       "  <thead>\n",
       "    <tr style=\"text-align: right;\">\n",
       "      <th></th>\n",
       "      <th>n_nodes</th>\n",
       "      <th>n_edges</th>\n",
       "      <th>density</th>\n",
       "      <th>num_threads</th>\n",
       "      <th>rank_time</th>\n",
       "      <th>triangle_time</th>\n",
       "    </tr>\n",
       "  </thead>\n",
       "  <tbody>\n",
       "    <tr>\n",
       "      <th>0</th>\n",
       "      <td>334863</td>\n",
       "      <td>925872</td>\n",
       "      <td>0.000017</td>\n",
       "      <td>1</td>\n",
       "      <td>10.481732</td>\n",
       "      <td>2.519606</td>\n",
       "    </tr>\n",
       "    <tr>\n",
       "      <th>1</th>\n",
       "      <td>334863</td>\n",
       "      <td>925872</td>\n",
       "      <td>0.000017</td>\n",
       "      <td>2</td>\n",
       "      <td>5.719630</td>\n",
       "      <td>1.419285</td>\n",
       "    </tr>\n",
       "    <tr>\n",
       "      <th>2</th>\n",
       "      <td>334863</td>\n",
       "      <td>925872</td>\n",
       "      <td>0.000017</td>\n",
       "      <td>3</td>\n",
       "      <td>6.184967</td>\n",
       "      <td>1.846284</td>\n",
       "    </tr>\n",
       "  </tbody>\n",
       "</table>\n",
       "</div>"
      ],
      "text/plain": [
       "   n_nodes  n_edges   density  num_threads  rank_time  triangle_time\n",
       "0   334863   925872  0.000017            1  10.481732       2.519606\n",
       "1   334863   925872  0.000017            2   5.719630       1.419285\n",
       "2   334863   925872  0.000017            3   6.184967       1.846284"
      ]
     },
     "execution_count": 24,
     "metadata": {},
     "output_type": "execute_result"
    }
   ],
   "source": [
    "df_little.head(3)"
   ]
  },
  {
   "cell_type": "code",
   "execution_count": 25,
   "metadata": {},
   "outputs": [
    {
     "data": {
      "text/html": [
       "<div>\n",
       "<style scoped>\n",
       "    .dataframe tbody tr th:only-of-type {\n",
       "        vertical-align: middle;\n",
       "    }\n",
       "\n",
       "    .dataframe tbody tr th {\n",
       "        vertical-align: top;\n",
       "    }\n",
       "\n",
       "    .dataframe thead th {\n",
       "        text-align: right;\n",
       "    }\n",
       "</style>\n",
       "<table border=\"1\" class=\"dataframe\">\n",
       "  <thead>\n",
       "    <tr style=\"text-align: right;\">\n",
       "      <th></th>\n",
       "      <th>n_nodes</th>\n",
       "      <th>n_edges</th>\n",
       "      <th>density</th>\n",
       "      <th>num_threads</th>\n",
       "      <th>rank_time</th>\n",
       "      <th>triangle_time</th>\n",
       "    </tr>\n",
       "  </thead>\n",
       "  <tbody>\n",
       "    <tr>\n",
       "      <th>0</th>\n",
       "      <td>4039</td>\n",
       "      <td>8097333</td>\n",
       "      <td>0.99296</td>\n",
       "      <td>1</td>\n",
       "      <td>16.096202</td>\n",
       "      <td>171.284792</td>\n",
       "    </tr>\n",
       "    <tr>\n",
       "      <th>1</th>\n",
       "      <td>4039</td>\n",
       "      <td>8097333</td>\n",
       "      <td>0.99296</td>\n",
       "      <td>2</td>\n",
       "      <td>16.400424</td>\n",
       "      <td>126.153729</td>\n",
       "    </tr>\n",
       "    <tr>\n",
       "      <th>2</th>\n",
       "      <td>4039</td>\n",
       "      <td>8097333</td>\n",
       "      <td>0.99296</td>\n",
       "      <td>3</td>\n",
       "      <td>18.715800</td>\n",
       "      <td>94.853013</td>\n",
       "    </tr>\n",
       "  </tbody>\n",
       "</table>\n",
       "</div>"
      ],
      "text/plain": [
       "   n_nodes  n_edges  density  num_threads  rank_time  triangle_time\n",
       "0     4039  8097333  0.99296            1  16.096202     171.284792\n",
       "1     4039  8097333  0.99296            2  16.400424     126.153729\n",
       "2     4039  8097333  0.99296            3  18.715800      94.853013"
      ]
     },
     "execution_count": 25,
     "metadata": {},
     "output_type": "execute_result"
    }
   ],
   "source": [
    "df_dense.head(3)"
   ]
  },
  {
   "attachments": {},
   "cell_type": "markdown",
   "metadata": {},
   "source": [
    "### Empirical evaluation"
   ]
  },
  {
   "cell_type": "code",
   "execution_count": 26,
   "metadata": {},
   "outputs": [],
   "source": [
    "def compute_speedup(df: pd.DataFrame):\n",
    "    df['total_time']=df['rank_time']+df['triangle_time']\n",
    "    seq_value=df.query(\"num_threads==1\")['total_time']\n",
    "    df['tot_speedup']=float(seq_value)/df['total_time']\n",
    "\n",
    "    seq_value=np.mean(df.query(\"num_threads==1\")['triangle_time'])\n",
    "    df[\"tr_speedup\"]=float(seq_value)/df['triangle_time']\n",
    "\n",
    "    seq_value=np.mean(df.query(\"num_threads==1\")['rank_time'])\n",
    "    df[\"rank_speedup\"]=float(seq_value)/df['rank_time']\n",
    "    \n",
    "\n",
    "def plot_alg(df: pd.DataFrame):\n",
    "    plt.figure(figsize=(4, 3))\n",
    "    #graph=sns.lineplot(data=tmp_df, x=\"num_threads\", y=\"speedup\", markers=True)\n",
    "    plt.title('Parallel algorithm performance')\n",
    "    plt.ylabel('Speedup')\n",
    "    plt.xlabel('Number of threads')\n",
    "\n",
    "    max_thread=df[\"num_threads\"].max()\n",
    "    max_y=max(max_thread*df[\"tot_speedup\"].max(), max_thread*df[\"tr_speedup\"].max(), max_thread*df[\"rank_speedup\"].max())\n",
    "    plt.xlim(0, max_thread)\n",
    "    plt.ylim(0, max_y)\n",
    "\n",
    "    thread_plot_col=pd.Series([0]+df[\"num_threads\"].tolist())\n",
    "    tot_speedup_plot_col=thread_plot_col.multiply([0]+df[\"tot_speedup\"].tolist())\n",
    "    tr_speedup_plot_col=thread_plot_col.multiply([0]+df[\"tr_speedup\"].tolist())\n",
    "    rank_speedup_plot_col=thread_plot_col.multiply([0]+df[\"rank_speedup\"].tolist())\n",
    "    plt.xticks(thread_plot_col)\n",
    "    #plt.yticks(range(0, int(max_y)))\n",
    "\n",
    "    plt.plot(thread_plot_col, thread_plot_col, color='#F52900', label=\"Linear speedup\")\n",
    "    plt.fill_between(thread_plot_col,\n",
    "                    [1],\n",
    "                    alpha=0.3,color=\"black\",label=\"No improvement zone\")\n",
    "    plt.fill_between(thread_plot_col,\n",
    "                    thread_plot_col,\n",
    "                    alpha=0.1,color=\"red\",label=\"Sublinear zone\")\n",
    "    plt.fill_between(thread_plot_col,\n",
    "                    thread_plot_col,\n",
    "                    max_y, alpha=0.1, color=\"green\", label=\"Superlinear zone\")\n",
    "\n",
    "    plt.plot(thread_plot_col, rank_speedup_plot_col,\n",
    "                '-x',label=\"RankByDeg speedup\",color=\"#264653\")\n",
    "    plt.plot(thread_plot_col, tr_speedup_plot_col,\n",
    "                '-x',label=\"Tr. counting speedup\", color=\"#2a9d8f\")\n",
    "    plt.plot(thread_plot_col, tot_speedup_plot_col,\n",
    "                '-x',label=\"Total speedup\", color=\"#f4a261\")\n",
    "\n",
    "    plt.grid()\n",
    "    plt.legend(loc='center left', bbox_to_anchor=(1, 0.5), prop={'size': 8})\n",
    "    plt.show()"
   ]
  },
  {
   "attachments": {},
   "cell_type": "markdown",
   "metadata": {},
   "source": [
    "#### Little dataframe"
   ]
  },
  {
   "cell_type": "code",
   "execution_count": 27,
   "metadata": {},
   "outputs": [],
   "source": [
    "df_little=df_little.groupby(\"num_threads\").mean().reset_index()\n",
    "compute_speedup(df_little)"
   ]
  },
  {
   "cell_type": "code",
   "execution_count": 28,
   "metadata": {},
   "outputs": [
    {
     "data": {
      "text/html": [
       "<div>\n",
       "<style scoped>\n",
       "    .dataframe tbody tr th:only-of-type {\n",
       "        vertical-align: middle;\n",
       "    }\n",
       "\n",
       "    .dataframe tbody tr th {\n",
       "        vertical-align: top;\n",
       "    }\n",
       "\n",
       "    .dataframe thead th {\n",
       "        text-align: right;\n",
       "    }\n",
       "</style>\n",
       "<table border=\"1\" class=\"dataframe\">\n",
       "  <thead>\n",
       "    <tr style=\"text-align: right;\">\n",
       "      <th></th>\n",
       "      <th>num_threads</th>\n",
       "      <th>rank_time</th>\n",
       "      <th>triangle_time</th>\n",
       "      <th>total_time</th>\n",
       "      <th>tot_speedup</th>\n",
       "      <th>tr_speedup</th>\n",
       "      <th>rank_speedup</th>\n",
       "    </tr>\n",
       "  </thead>\n",
       "  <tbody>\n",
       "    <tr>\n",
       "      <th>0</th>\n",
       "      <td>1</td>\n",
       "      <td>9.227604</td>\n",
       "      <td>2.423015</td>\n",
       "      <td>11.650619</td>\n",
       "      <td>1.000000</td>\n",
       "      <td>1.000000</td>\n",
       "      <td>1.000000</td>\n",
       "    </tr>\n",
       "    <tr>\n",
       "      <th>1</th>\n",
       "      <td>2</td>\n",
       "      <td>6.852917</td>\n",
       "      <td>1.844220</td>\n",
       "      <td>8.697137</td>\n",
       "      <td>1.339592</td>\n",
       "      <td>1.313843</td>\n",
       "      <td>1.346522</td>\n",
       "    </tr>\n",
       "    <tr>\n",
       "      <th>2</th>\n",
       "      <td>3</td>\n",
       "      <td>6.972565</td>\n",
       "      <td>1.946208</td>\n",
       "      <td>8.918774</td>\n",
       "      <td>1.306303</td>\n",
       "      <td>1.244993</td>\n",
       "      <td>1.323416</td>\n",
       "    </tr>\n",
       "    <tr>\n",
       "      <th>3</th>\n",
       "      <td>4</td>\n",
       "      <td>6.907120</td>\n",
       "      <td>2.124418</td>\n",
       "      <td>9.031538</td>\n",
       "      <td>1.289993</td>\n",
       "      <td>1.140555</td>\n",
       "      <td>1.335955</td>\n",
       "    </tr>\n",
       "    <tr>\n",
       "      <th>4</th>\n",
       "      <td>5</td>\n",
       "      <td>8.016895</td>\n",
       "      <td>2.005414</td>\n",
       "      <td>10.022308</td>\n",
       "      <td>1.162469</td>\n",
       "      <td>1.208237</td>\n",
       "      <td>1.151020</td>\n",
       "    </tr>\n",
       "    <tr>\n",
       "      <th>5</th>\n",
       "      <td>6</td>\n",
       "      <td>9.055049</td>\n",
       "      <td>2.163699</td>\n",
       "      <td>11.218748</td>\n",
       "      <td>1.038495</td>\n",
       "      <td>1.119849</td>\n",
       "      <td>1.019056</td>\n",
       "    </tr>\n",
       "    <tr>\n",
       "      <th>6</th>\n",
       "      <td>7</td>\n",
       "      <td>8.518088</td>\n",
       "      <td>2.946025</td>\n",
       "      <td>11.464113</td>\n",
       "      <td>1.016269</td>\n",
       "      <td>0.822469</td>\n",
       "      <td>1.083295</td>\n",
       "    </tr>\n",
       "    <tr>\n",
       "      <th>7</th>\n",
       "      <td>8</td>\n",
       "      <td>13.930543</td>\n",
       "      <td>2.871989</td>\n",
       "      <td>16.802532</td>\n",
       "      <td>0.693385</td>\n",
       "      <td>0.843671</td>\n",
       "      <td>0.662401</td>\n",
       "    </tr>\n",
       "  </tbody>\n",
       "</table>\n",
       "</div>"
      ],
      "text/plain": [
       "   num_threads  rank_time  triangle_time  total_time  tot_speedup  tr_speedup  \\\n",
       "0            1   9.227604       2.423015   11.650619     1.000000    1.000000   \n",
       "1            2   6.852917       1.844220    8.697137     1.339592    1.313843   \n",
       "2            3   6.972565       1.946208    8.918774     1.306303    1.244993   \n",
       "3            4   6.907120       2.124418    9.031538     1.289993    1.140555   \n",
       "4            5   8.016895       2.005414   10.022308     1.162469    1.208237   \n",
       "5            6   9.055049       2.163699   11.218748     1.038495    1.119849   \n",
       "6            7   8.518088       2.946025   11.464113     1.016269    0.822469   \n",
       "7            8  13.930543       2.871989   16.802532     0.693385    0.843671   \n",
       "\n",
       "   rank_speedup  \n",
       "0      1.000000  \n",
       "1      1.346522  \n",
       "2      1.323416  \n",
       "3      1.335955  \n",
       "4      1.151020  \n",
       "5      1.019056  \n",
       "6      1.083295  \n",
       "7      0.662401  "
      ]
     },
     "execution_count": 28,
     "metadata": {},
     "output_type": "execute_result"
    }
   ],
   "source": [
    "df_little.drop(columns=[\"n_nodes\",\"n_edges\",\"density\"])"
   ]
  },
  {
   "cell_type": "code",
   "execution_count": 29,
   "metadata": {},
   "outputs": [
    {
     "data": {
      "image/png": "[encoded data removed]",
      "text/plain": [
       "<Figure size 400x300 with 1 Axes>"
      ]
     },
     "metadata": {},
     "output_type": "display_data"
    }
   ],
   "source": [
    "plot_alg(df_little)"
   ]
  },
  {
   "cell_type": "code",
   "execution_count": 30,
   "metadata": {},
   "outputs": [
    {
     "name": "stdout",
     "output_type": "stream",
     "text": [
      "MAX speedup score:\n",
      "num_threads           2.000000\n",
      "n_nodes          334863.000000\n",
      "n_edges          925872.000000\n",
      "density               0.000017\n",
      "rank_time             6.852917\n",
      "triangle_time         1.844220\n",
      "total_time            8.697137\n",
      "tot_speedup           1.339592\n",
      "tr_speedup            1.313843\n",
      "rank_speedup          1.346522\n",
      "Name: 1, dtype: float64 \n",
      "\n",
      "MIN speedup score:\n",
      "num_threads           8.000000\n",
      "n_nodes          334863.000000\n",
      "n_edges          925872.000000\n",
      "density               0.000017\n",
      "rank_time            13.930543\n",
      "triangle_time         2.871989\n",
      "total_time           16.802532\n",
      "tot_speedup           0.693385\n",
      "tr_speedup            0.843671\n",
      "rank_speedup          0.662401\n",
      "Name: 7, dtype: float64 \n",
      "\n"
     ]
    }
   ],
   "source": [
    "print(\"MAX speedup score:\")\n",
    "print(df_little.iloc[np.argmax(df_little['tot_speedup'])], '\\n')\n",
    "print(\"MIN speedup score:\")\n",
    "print(df_little.iloc[np.argmin(df_little['tot_speedup'])], '\\n')"
   ]
  },
  {
   "attachments": {},
   "cell_type": "markdown",
   "metadata": {},
   "source": [
    "#### Sparse dataframe"
   ]
  },
  {
   "cell_type": "code",
   "execution_count": 31,
   "metadata": {},
   "outputs": [],
   "source": [
    "df_sparse=df_sparse.groupby(\"num_threads\").mean().reset_index()\n",
    "compute_speedup(df_sparse)"
   ]
  },
  {
   "cell_type": "code",
   "execution_count": 32,
   "metadata": {},
   "outputs": [
    {
     "data": {
      "text/html": [
       "<div>\n",
       "<style scoped>\n",
       "    .dataframe tbody tr th:only-of-type {\n",
       "        vertical-align: middle;\n",
       "    }\n",
       "\n",
       "    .dataframe tbody tr th {\n",
       "        vertical-align: top;\n",
       "    }\n",
       "\n",
       "    .dataframe thead th {\n",
       "        text-align: right;\n",
       "    }\n",
       "</style>\n",
       "<table border=\"1\" class=\"dataframe\">\n",
       "  <thead>\n",
       "    <tr style=\"text-align: right;\">\n",
       "      <th></th>\n",
       "      <th>num_threads</th>\n",
       "      <th>rank_time</th>\n",
       "      <th>triangle_time</th>\n",
       "      <th>total_time</th>\n",
       "      <th>tot_speedup</th>\n",
       "      <th>tr_speedup</th>\n",
       "      <th>rank_speedup</th>\n",
       "    </tr>\n",
       "  </thead>\n",
       "  <tbody>\n",
       "    <tr>\n",
       "      <th>0</th>\n",
       "      <td>1</td>\n",
       "      <td>58.387303</td>\n",
       "      <td>17.514676</td>\n",
       "      <td>75.901978</td>\n",
       "      <td>1.000000</td>\n",
       "      <td>1.000000</td>\n",
       "      <td>1.000000</td>\n",
       "    </tr>\n",
       "    <tr>\n",
       "      <th>1</th>\n",
       "      <td>2</td>\n",
       "      <td>49.968713</td>\n",
       "      <td>13.679281</td>\n",
       "      <td>63.647994</td>\n",
       "      <td>1.192527</td>\n",
       "      <td>1.280380</td>\n",
       "      <td>1.168477</td>\n",
       "    </tr>\n",
       "    <tr>\n",
       "      <th>2</th>\n",
       "      <td>3</td>\n",
       "      <td>47.121781</td>\n",
       "      <td>13.339403</td>\n",
       "      <td>60.461184</td>\n",
       "      <td>1.255384</td>\n",
       "      <td>1.313003</td>\n",
       "      <td>1.239072</td>\n",
       "    </tr>\n",
       "    <tr>\n",
       "      <th>3</th>\n",
       "      <td>4</td>\n",
       "      <td>47.927656</td>\n",
       "      <td>20.754837</td>\n",
       "      <td>68.682493</td>\n",
       "      <td>1.105114</td>\n",
       "      <td>0.843884</td>\n",
       "      <td>1.218238</td>\n",
       "    </tr>\n",
       "    <tr>\n",
       "      <th>4</th>\n",
       "      <td>5</td>\n",
       "      <td>55.673748</td>\n",
       "      <td>14.319222</td>\n",
       "      <td>69.992969</td>\n",
       "      <td>1.084423</td>\n",
       "      <td>1.223158</td>\n",
       "      <td>1.048740</td>\n",
       "    </tr>\n",
       "    <tr>\n",
       "      <th>5</th>\n",
       "      <td>6</td>\n",
       "      <td>52.713679</td>\n",
       "      <td>13.810748</td>\n",
       "      <td>66.524427</td>\n",
       "      <td>1.140964</td>\n",
       "      <td>1.268192</td>\n",
       "      <td>1.107631</td>\n",
       "    </tr>\n",
       "    <tr>\n",
       "      <th>6</th>\n",
       "      <td>7</td>\n",
       "      <td>58.711751</td>\n",
       "      <td>14.612607</td>\n",
       "      <td>73.324358</td>\n",
       "      <td>1.035154</td>\n",
       "      <td>1.198600</td>\n",
       "      <td>0.994474</td>\n",
       "    </tr>\n",
       "    <tr>\n",
       "      <th>7</th>\n",
       "      <td>8</td>\n",
       "      <td>57.804042</td>\n",
       "      <td>16.812553</td>\n",
       "      <td>74.616595</td>\n",
       "      <td>1.017227</td>\n",
       "      <td>1.041762</td>\n",
       "      <td>1.010090</td>\n",
       "    </tr>\n",
       "  </tbody>\n",
       "</table>\n",
       "</div>"
      ],
      "text/plain": [
       "   num_threads  rank_time  triangle_time  total_time  tot_speedup  tr_speedup  \\\n",
       "0            1  58.387303      17.514676   75.901978     1.000000    1.000000   \n",
       "1            2  49.968713      13.679281   63.647994     1.192527    1.280380   \n",
       "2            3  47.121781      13.339403   60.461184     1.255384    1.313003   \n",
       "3            4  47.927656      20.754837   68.682493     1.105114    0.843884   \n",
       "4            5  55.673748      14.319222   69.992969     1.084423    1.223158   \n",
       "5            6  52.713679      13.810748   66.524427     1.140964    1.268192   \n",
       "6            7  58.711751      14.612607   73.324358     1.035154    1.198600   \n",
       "7            8  57.804042      16.812553   74.616595     1.017227    1.041762   \n",
       "\n",
       "   rank_speedup  \n",
       "0      1.000000  \n",
       "1      1.168477  \n",
       "2      1.239072  \n",
       "3      1.218238  \n",
       "4      1.048740  \n",
       "5      1.107631  \n",
       "6      0.994474  \n",
       "7      1.010090  "
      ]
     },
     "execution_count": 32,
     "metadata": {},
     "output_type": "execute_result"
    }
   ],
   "source": [
    "df_sparse.drop(columns=[\"n_nodes\",\"n_edges\",\"density\"])"
   ]
  },
  {
   "cell_type": "code",
   "execution_count": 33,
   "metadata": {},
   "outputs": [
    {
     "data": {
      "image/png": "[encoded data removed]",
      "text/plain": [
       "<Figure size 400x300 with 1 Axes>"
      ]
     },
     "metadata": {},
     "output_type": "display_data"
    }
   ],
   "source": [
    "plot_alg(df_sparse)"
   ]
  },
  {
   "cell_type": "code",
   "execution_count": 34,
   "metadata": {},
   "outputs": [
    {
     "name": "stdout",
     "output_type": "stream",
     "text": [
      "MAX speedup score:\n",
      "num_threads      3.000000e+00\n",
      "n_nodes          1.696415e+06\n",
      "n_edges          1.109530e+07\n",
      "density          8.000000e-06\n",
      "rank_time        4.712178e+01\n",
      "triangle_time    1.333940e+01\n",
      "total_time       6.046118e+01\n",
      "tot_speedup      1.255384e+00\n",
      "tr_speedup       1.313003e+00\n",
      "rank_speedup     1.239072e+00\n",
      "Name: 2, dtype: float64 \n",
      "\n",
      "MIN speedup score:\n",
      "num_threads      1.000000e+00\n",
      "n_nodes          1.696415e+06\n",
      "n_edges          1.109530e+07\n",
      "density          8.000000e-06\n",
      "rank_time        5.838730e+01\n",
      "triangle_time    1.751468e+01\n",
      "total_time       7.590198e+01\n",
      "tot_speedup      1.000000e+00\n",
      "tr_speedup       1.000000e+00\n",
      "rank_speedup     1.000000e+00\n",
      "Name: 0, dtype: float64 \n",
      "\n"
     ]
    }
   ],
   "source": [
    "print(\"MAX speedup score:\")\n",
    "print(df_sparse.iloc[np.argmax(df_sparse['tot_speedup'])], '\\n')\n",
    "print(\"MIN speedup score:\")\n",
    "print(df_sparse.iloc[np.argmin(df_sparse['tot_speedup'])], '\\n')"
   ]
  },
  {
   "attachments": {},
   "cell_type": "markdown",
   "metadata": {},
   "source": [
    "#### Dense dataframe"
   ]
  },
  {
   "cell_type": "code",
   "execution_count": 35,
   "metadata": {},
   "outputs": [],
   "source": [
    "df_dense=df_dense.groupby(\"num_threads\").mean().reset_index()\n",
    "compute_speedup(df_dense)"
   ]
  },
  {
   "cell_type": "code",
   "execution_count": 36,
   "metadata": {},
   "outputs": [
    {
     "data": {
      "text/html": [
       "<div>\n",
       "<style scoped>\n",
       "    .dataframe tbody tr th:only-of-type {\n",
       "        vertical-align: middle;\n",
       "    }\n",
       "\n",
       "    .dataframe tbody tr th {\n",
       "        vertical-align: top;\n",
       "    }\n",
       "\n",
       "    .dataframe thead th {\n",
       "        text-align: right;\n",
       "    }\n",
       "</style>\n",
       "<table border=\"1\" class=\"dataframe\">\n",
       "  <thead>\n",
       "    <tr style=\"text-align: right;\">\n",
       "      <th></th>\n",
       "      <th>num_threads</th>\n",
       "      <th>rank_time</th>\n",
       "      <th>triangle_time</th>\n",
       "      <th>total_time</th>\n",
       "      <th>tot_speedup</th>\n",
       "      <th>tr_speedup</th>\n",
       "      <th>rank_speedup</th>\n",
       "    </tr>\n",
       "  </thead>\n",
       "  <tbody>\n",
       "    <tr>\n",
       "      <th>0</th>\n",
       "      <td>1</td>\n",
       "      <td>15.541256</td>\n",
       "      <td>162.454873</td>\n",
       "      <td>177.996128</td>\n",
       "      <td>1.000000</td>\n",
       "      <td>1.000000</td>\n",
       "      <td>1.000000</td>\n",
       "    </tr>\n",
       "    <tr>\n",
       "      <th>1</th>\n",
       "      <td>2</td>\n",
       "      <td>14.933201</td>\n",
       "      <td>103.585765</td>\n",
       "      <td>118.518966</td>\n",
       "      <td>1.501837</td>\n",
       "      <td>1.568313</td>\n",
       "      <td>1.040718</td>\n",
       "    </tr>\n",
       "    <tr>\n",
       "      <th>2</th>\n",
       "      <td>3</td>\n",
       "      <td>17.680873</td>\n",
       "      <td>85.693414</td>\n",
       "      <td>103.374287</td>\n",
       "      <td>1.721861</td>\n",
       "      <td>1.895768</td>\n",
       "      <td>0.878987</td>\n",
       "    </tr>\n",
       "    <tr>\n",
       "      <th>3</th>\n",
       "      <td>4</td>\n",
       "      <td>19.896574</td>\n",
       "      <td>79.999135</td>\n",
       "      <td>99.895709</td>\n",
       "      <td>1.781820</td>\n",
       "      <td>2.030708</td>\n",
       "      <td>0.781102</td>\n",
       "    </tr>\n",
       "    <tr>\n",
       "      <th>4</th>\n",
       "      <td>5</td>\n",
       "      <td>21.998883</td>\n",
       "      <td>65.382101</td>\n",
       "      <td>87.380984</td>\n",
       "      <td>2.037012</td>\n",
       "      <td>2.484699</td>\n",
       "      <td>0.706457</td>\n",
       "    </tr>\n",
       "    <tr>\n",
       "      <th>5</th>\n",
       "      <td>6</td>\n",
       "      <td>22.829548</td>\n",
       "      <td>61.054755</td>\n",
       "      <td>83.884304</td>\n",
       "      <td>2.121924</td>\n",
       "      <td>2.660806</td>\n",
       "      <td>0.680752</td>\n",
       "    </tr>\n",
       "    <tr>\n",
       "      <th>6</th>\n",
       "      <td>7</td>\n",
       "      <td>23.124302</td>\n",
       "      <td>50.119635</td>\n",
       "      <td>73.243936</td>\n",
       "      <td>2.430182</td>\n",
       "      <td>3.241342</td>\n",
       "      <td>0.672075</td>\n",
       "    </tr>\n",
       "    <tr>\n",
       "      <th>7</th>\n",
       "      <td>8</td>\n",
       "      <td>24.533151</td>\n",
       "      <td>44.142853</td>\n",
       "      <td>68.676005</td>\n",
       "      <td>2.591824</td>\n",
       "      <td>3.680208</td>\n",
       "      <td>0.633480</td>\n",
       "    </tr>\n",
       "  </tbody>\n",
       "</table>\n",
       "</div>"
      ],
      "text/plain": [
       "   num_threads  rank_time  triangle_time  total_time  tot_speedup  tr_speedup  \\\n",
       "0            1  15.541256     162.454873  177.996128     1.000000    1.000000   \n",
       "1            2  14.933201     103.585765  118.518966     1.501837    1.568313   \n",
       "2            3  17.680873      85.693414  103.374287     1.721861    1.895768   \n",
       "3            4  19.896574      79.999135   99.895709     1.781820    2.030708   \n",
       "4            5  21.998883      65.382101   87.380984     2.037012    2.484699   \n",
       "5            6  22.829548      61.054755   83.884304     2.121924    2.660806   \n",
       "6            7  23.124302      50.119635   73.243936     2.430182    3.241342   \n",
       "7            8  24.533151      44.142853   68.676005     2.591824    3.680208   \n",
       "\n",
       "   rank_speedup  \n",
       "0      1.000000  \n",
       "1      1.040718  \n",
       "2      0.878987  \n",
       "3      0.781102  \n",
       "4      0.706457  \n",
       "5      0.680752  \n",
       "6      0.672075  \n",
       "7      0.633480  "
      ]
     },
     "execution_count": 36,
     "metadata": {},
     "output_type": "execute_result"
    }
   ],
   "source": [
    "df_dense.drop(columns=[\"n_nodes\",\"n_edges\",\"density\"])"
   ]
  },
  {
   "cell_type": "code",
   "execution_count": 37,
   "metadata": {},
   "outputs": [
    {
     "data": {
      "image/png": "[encoded data removed]",
      "text/plain": [
       "<Figure size 400x300 with 1 Axes>"
      ]
     },
     "metadata": {},
     "output_type": "display_data"
    }
   ],
   "source": [
    "plot_alg(df_dense)"
   ]
  },
  {
   "cell_type": "code",
   "execution_count": 38,
   "metadata": {},
   "outputs": [
    {
     "name": "stdout",
     "output_type": "stream",
     "text": [
      "MAX speedup score:\n",
      "num_threads      8.000000e+00\n",
      "n_nodes          4.039000e+03\n",
      "n_edges          8.097333e+06\n",
      "density          9.929600e-01\n",
      "rank_time        2.453315e+01\n",
      "triangle_time    4.414285e+01\n",
      "total_time       6.867600e+01\n",
      "tot_speedup      2.591824e+00\n",
      "tr_speedup       3.680208e+00\n",
      "rank_speedup     6.334798e-01\n",
      "Name: 7, dtype: float64 \n",
      "\n",
      "MIN speedup score:\n",
      "num_threads      1.000000e+00\n",
      "n_nodes          4.039000e+03\n",
      "n_edges          8.097333e+06\n",
      "density          9.929600e-01\n",
      "rank_time        1.554126e+01\n",
      "triangle_time    1.624549e+02\n",
      "total_time       1.779961e+02\n",
      "tot_speedup      1.000000e+00\n",
      "tr_speedup       1.000000e+00\n",
      "rank_speedup     1.000000e+00\n",
      "Name: 0, dtype: float64 \n",
      "\n"
     ]
    }
   ],
   "source": [
    "print(\"MAX speedup score:\")\n",
    "print(df_dense.iloc[np.argmax(df_dense['tot_speedup'])], '\\n')\n",
    "print(\"MIN speedup score:\")\n",
    "print(df_dense.iloc[np.argmin(df_dense['tot_speedup'])], '\\n')"
   ]
  }
 ],
 "metadata": {
  "kernelspec": {
   "display_name": "Python 3",
   "language": "python",
   "name": "python3"
  },
  "language_info": {
   "codemirror_mode": {
    "name": "ipython",
    "version": 3
   },
   "file_extension": ".py",
   "mimetype": "text/x-python",
   "name": "python",
   "nbconvert_exporter": "python",
   "pygments_lexer": "ipython3",
   "version": "3.10.6"
  },
  "orig_nbformat": 4
 },
 "nbformat": 4,
 "nbformat_minor": 2
}
