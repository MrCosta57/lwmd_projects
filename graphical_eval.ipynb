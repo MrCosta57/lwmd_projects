{
 "cells": [
  {
   "attachments": {},
   "cell_type": "markdown",
   "metadata": {},
   "source": [
    "## Learning with Massive Data\n",
    "### Assignment 1 - Parallel graph's triangle counter\n",
    "#### Giovanni Costa - 880892"
   ]
  },
  {
   "cell_type": "code",
   "execution_count": 1,
   "metadata": {},
   "outputs": [],
   "source": [
    "%matplotlib inline\n",
    "import numpy as np\n",
    "import pandas as pd\n",
    "import seaborn as sns\n",
    "from matplotlib import pyplot as plt\n",
    "import matplotlib.lines as mlines\n",
    "import glob"
   ]
  },
  {
   "attachments": {},
   "cell_type": "markdown",
   "metadata": {},
   "source": [
    "### Data import"
   ]
  },
  {
   "cell_type": "code",
   "execution_count": 2,
   "metadata": {},
   "outputs": [
    {
     "name": "stdout",
     "output_type": "stream",
     "text": [
      "['results/results_static_old.csv', 'results/com-amazon-ungraph.txt_results.csv', 'results/results_dynamic.csv']\n"
     ]
    }
   ],
   "source": [
    "files=glob.glob(\"results/*.csv\")\n",
    "print(files)"
   ]
  },
  {
   "cell_type": "code",
   "execution_count": 3,
   "metadata": {},
   "outputs": [],
   "source": [
    "df_sparse=pd.read_csv(files[0], header=0)\n",
    "df_little=pd.read_csv(files[1], header=0)\n",
    "df_dense=pd.read_csv(files[2], header=0)"
   ]
  },
  {
   "cell_type": "code",
   "execution_count": 4,
   "metadata": {},
   "outputs": [
    {
     "data": {
      "text/html": [
       "<div>\n",
       "<style scoped>\n",
       "    .dataframe tbody tr th:only-of-type {\n",
       "        vertical-align: middle;\n",
       "    }\n",
       "\n",
       "    .dataframe tbody tr th {\n",
       "        vertical-align: top;\n",
       "    }\n",
       "\n",
       "    .dataframe thead th {\n",
       "        text-align: right;\n",
       "    }\n",
       "</style>\n",
       "<table border=\"1\" class=\"dataframe\">\n",
       "  <thead>\n",
       "    <tr style=\"text-align: right;\">\n",
       "      <th></th>\n",
       "      <th>filename</th>\n",
       "      <th>n_nodes</th>\n",
       "      <th>n_edges</th>\n",
       "      <th>density</th>\n",
       "      <th>num_threads</th>\n",
       "      <th>rank_time</th>\n",
       "      <th>triangle_time</th>\n",
       "    </tr>\n",
       "  </thead>\n",
       "  <tbody>\n",
       "    <tr>\n",
       "      <th>0</th>\n",
       "      <td>com-amazon-ungraph.txt</td>\n",
       "      <td>334863</td>\n",
       "      <td>925872</td>\n",
       "      <td>0.000017</td>\n",
       "      <td>1</td>\n",
       "      <td>8.632122</td>\n",
       "      <td>2.228801</td>\n",
       "    </tr>\n",
       "    <tr>\n",
       "      <th>1</th>\n",
       "      <td>com-amazon-ungraph.txt</td>\n",
       "      <td>334863</td>\n",
       "      <td>925872</td>\n",
       "      <td>0.000017</td>\n",
       "      <td>2</td>\n",
       "      <td>7.393850</td>\n",
       "      <td>2.730813</td>\n",
       "    </tr>\n",
       "    <tr>\n",
       "      <th>2</th>\n",
       "      <td>com-amazon-ungraph.txt</td>\n",
       "      <td>334863</td>\n",
       "      <td>925872</td>\n",
       "      <td>0.000017</td>\n",
       "      <td>3</td>\n",
       "      <td>8.218643</td>\n",
       "      <td>2.372511</td>\n",
       "    </tr>\n",
       "  </tbody>\n",
       "</table>\n",
       "</div>"
      ],
      "text/plain": [
       "                 filename  n_nodes  n_edges   density  num_threads  rank_time  \\\n",
       "0  com-amazon-ungraph.txt   334863   925872  0.000017            1   8.632122   \n",
       "1  com-amazon-ungraph.txt   334863   925872  0.000017            2   7.393850   \n",
       "2  com-amazon-ungraph.txt   334863   925872  0.000017            3   8.218643   \n",
       "\n",
       "   triangle_time  \n",
       "0       2.228801  \n",
       "1       2.730813  \n",
       "2       2.372511  "
      ]
     },
     "execution_count": 4,
     "metadata": {},
     "output_type": "execute_result"
    }
   ],
   "source": [
    "df_sparse.head(3)"
   ]
  },
  {
   "cell_type": "code",
   "execution_count": 5,
   "metadata": {},
   "outputs": [
    {
     "data": {
      "text/html": [
       "<div>\n",
       "<style scoped>\n",
       "    .dataframe tbody tr th:only-of-type {\n",
       "        vertical-align: middle;\n",
       "    }\n",
       "\n",
       "    .dataframe tbody tr th {\n",
       "        vertical-align: top;\n",
       "    }\n",
       "\n",
       "    .dataframe thead th {\n",
       "        text-align: right;\n",
       "    }\n",
       "</style>\n",
       "<table border=\"1\" class=\"dataframe\">\n",
       "  <thead>\n",
       "    <tr style=\"text-align: right;\">\n",
       "      <th></th>\n",
       "      <th>n_nodes</th>\n",
       "      <th>n_edges</th>\n",
       "      <th>density</th>\n",
       "      <th>num_threads</th>\n",
       "      <th>rank_time</th>\n",
       "      <th>triangle_time</th>\n",
       "    </tr>\n",
       "  </thead>\n",
       "  <tbody>\n",
       "    <tr>\n",
       "      <th>0</th>\n",
       "      <td>334863</td>\n",
       "      <td>925872</td>\n",
       "      <td>0.000017</td>\n",
       "      <td>1</td>\n",
       "      <td>7.328337</td>\n",
       "      <td>1.810618</td>\n",
       "    </tr>\n",
       "    <tr>\n",
       "      <th>1</th>\n",
       "      <td>334863</td>\n",
       "      <td>925872</td>\n",
       "      <td>0.000017</td>\n",
       "      <td>2</td>\n",
       "      <td>5.212271</td>\n",
       "      <td>1.388836</td>\n",
       "    </tr>\n",
       "    <tr>\n",
       "      <th>2</th>\n",
       "      <td>334863</td>\n",
       "      <td>925872</td>\n",
       "      <td>0.000017</td>\n",
       "      <td>3</td>\n",
       "      <td>5.103772</td>\n",
       "      <td>1.215127</td>\n",
       "    </tr>\n",
       "  </tbody>\n",
       "</table>\n",
       "</div>"
      ],
      "text/plain": [
       "   n_nodes  n_edges   density  num_threads  rank_time  triangle_time\n",
       "0   334863   925872  0.000017            1   7.328337       1.810618\n",
       "1   334863   925872  0.000017            2   5.212271       1.388836\n",
       "2   334863   925872  0.000017            3   5.103772       1.215127"
      ]
     },
     "execution_count": 5,
     "metadata": {},
     "output_type": "execute_result"
    }
   ],
   "source": [
    "df_little.head(3)"
   ]
  },
  {
   "cell_type": "code",
   "execution_count": 6,
   "metadata": {},
   "outputs": [
    {
     "data": {
      "text/html": [
       "<div>\n",
       "<style scoped>\n",
       "    .dataframe tbody tr th:only-of-type {\n",
       "        vertical-align: middle;\n",
       "    }\n",
       "\n",
       "    .dataframe tbody tr th {\n",
       "        vertical-align: top;\n",
       "    }\n",
       "\n",
       "    .dataframe thead th {\n",
       "        text-align: right;\n",
       "    }\n",
       "</style>\n",
       "<table border=\"1\" class=\"dataframe\">\n",
       "  <thead>\n",
       "    <tr style=\"text-align: right;\">\n",
       "      <th></th>\n",
       "      <th>filename</th>\n",
       "      <th>n_nodes</th>\n",
       "      <th>n_edges</th>\n",
       "      <th>density</th>\n",
       "      <th>num_threads</th>\n",
       "      <th>rank_time</th>\n",
       "      <th>triangle_time</th>\n",
       "    </tr>\n",
       "  </thead>\n",
       "  <tbody>\n",
       "    <tr>\n",
       "      <th>0</th>\n",
       "      <td>com-amazon-ungraph.txt</td>\n",
       "      <td>334863</td>\n",
       "      <td>925872</td>\n",
       "      <td>0.000017</td>\n",
       "      <td>1</td>\n",
       "      <td>9.229344</td>\n",
       "      <td>2.490899</td>\n",
       "    </tr>\n",
       "    <tr>\n",
       "      <th>1</th>\n",
       "      <td>com-amazon-ungraph.txt</td>\n",
       "      <td>334863</td>\n",
       "      <td>925872</td>\n",
       "      <td>0.000017</td>\n",
       "      <td>2</td>\n",
       "      <td>7.503604</td>\n",
       "      <td>2.181824</td>\n",
       "    </tr>\n",
       "    <tr>\n",
       "      <th>2</th>\n",
       "      <td>com-amazon-ungraph.txt</td>\n",
       "      <td>334863</td>\n",
       "      <td>925872</td>\n",
       "      <td>0.000017</td>\n",
       "      <td>3</td>\n",
       "      <td>6.833374</td>\n",
       "      <td>2.369819</td>\n",
       "    </tr>\n",
       "  </tbody>\n",
       "</table>\n",
       "</div>"
      ],
      "text/plain": [
       "                 filename  n_nodes  n_edges   density  num_threads  rank_time  \\\n",
       "0  com-amazon-ungraph.txt   334863   925872  0.000017            1   9.229344   \n",
       "1  com-amazon-ungraph.txt   334863   925872  0.000017            2   7.503604   \n",
       "2  com-amazon-ungraph.txt   334863   925872  0.000017            3   6.833374   \n",
       "\n",
       "   triangle_time  \n",
       "0       2.490899  \n",
       "1       2.181824  \n",
       "2       2.369819  "
      ]
     },
     "execution_count": 6,
     "metadata": {},
     "output_type": "execute_result"
    }
   ],
   "source": [
    "df_dense.head(3)"
   ]
  },
  {
   "attachments": {},
   "cell_type": "markdown",
   "metadata": {},
   "source": [
    "### Empirical evaluation"
   ]
  },
  {
   "cell_type": "code",
   "execution_count": 7,
   "metadata": {},
   "outputs": [],
   "source": [
    "def compute_speedup(df: pd.DataFrame):\n",
    "    df['total_time']=df['rank_time']+df['triangle_time']\n",
    "    seq_value=df.query(\"num_threads==1\")['total_time']\n",
    "    df['tot_speedup']=float(seq_value)/df['total_time']\n",
    "\n",
    "    seq_value=np.mean(df.query(\"num_threads==1\")['triangle_time'])\n",
    "    df[\"tr_speedup\"]=float(seq_value)/df['triangle_time']\n",
    "\n",
    "    seq_value=np.mean(df.query(\"num_threads==1\")['rank_time'])\n",
    "    df[\"rank_speedup\"]=float(seq_value)/df['rank_time']\n",
    "    \n",
    "\n",
    "def plot_alg(df: pd.DataFrame):\n",
    "    plt.figure(figsize=(4, 3))\n",
    "    #graph=sns.lineplot(data=tmp_df, x=\"num_threads\", y=\"speedup\", markers=True)\n",
    "    plt.title('Parallel algorithm performance')\n",
    "    plt.ylabel('Speedup')\n",
    "    plt.xlabel('Number of threads')\n",
    "\n",
    "    max_thread=df[\"num_threads\"].max()\n",
    "    max_y=max_thread+df[\"tot_speedup\"].max()\n",
    "    plt.xlim(0, max_thread)\n",
    "    plt.ylim(0, max_y)\n",
    "\n",
    "    thread_plot_col=pd.Series([0]+df[\"num_threads\"].tolist())\n",
    "    tot_speedup_plot_col=thread_plot_col.multiply([0]+df[\"tot_speedup\"].tolist())\n",
    "    tr_speedup_plot_col=thread_plot_col.multiply([0]+df[\"tr_speedup\"].tolist())\n",
    "    rank_speedup_plot_col=thread_plot_col.multiply([0]+df[\"rank_speedup\"].tolist())\n",
    "    plt.xticks(thread_plot_col)\n",
    "    plt.yticks(thread_plot_col)\n",
    "\n",
    "    plt.plot(thread_plot_col, thread_plot_col, 'red', label=\"Linear speedup\")\n",
    "    plt.fill_between(thread_plot_col,\n",
    "                    thread_plot_col,\n",
    "                    alpha=0.1,color=\"red\",label=\"Sublinear zone\")\n",
    "    plt.fill_between(thread_plot_col,\n",
    "                    thread_plot_col,\n",
    "                    max_y, alpha=0.1, color=\"green\", label=\"Superlinear zone\")\n",
    "\n",
    "\n",
    "    plt.plot(thread_plot_col, rank_speedup_plot_col,\n",
    "                '--',label=\"RankByDeg speedup\")\n",
    "    plt.plot(thread_plot_col, tr_speedup_plot_col,\n",
    "                '-o',label=\"Algorithm speedup\")\n",
    "    plt.plot(thread_plot_col, tot_speedup_plot_col,\n",
    "                '-x',label=\"Total speedup\")\n",
    "\n",
    "    plt.grid()\n",
    "    plt.legend(loc='center left', bbox_to_anchor=(1, 0.5), prop={'size': 8})\n",
    "    plt.show()"
   ]
  },
  {
   "attachments": {},
   "cell_type": "markdown",
   "metadata": {},
   "source": [
    "#### First dataframe"
   ]
  },
  {
   "cell_type": "code",
   "execution_count": 8,
   "metadata": {},
   "outputs": [
    {
     "data": {
      "text/html": [
       "<div>\n",
       "<style scoped>\n",
       "    .dataframe tbody tr th:only-of-type {\n",
       "        vertical-align: middle;\n",
       "    }\n",
       "\n",
       "    .dataframe tbody tr th {\n",
       "        vertical-align: top;\n",
       "    }\n",
       "\n",
       "    .dataframe thead th {\n",
       "        text-align: right;\n",
       "    }\n",
       "</style>\n",
       "<table border=\"1\" class=\"dataframe\">\n",
       "  <thead>\n",
       "    <tr style=\"text-align: right;\">\n",
       "      <th></th>\n",
       "      <th>num_threads</th>\n",
       "      <th>rank_time</th>\n",
       "      <th>triangle_time</th>\n",
       "    </tr>\n",
       "  </thead>\n",
       "  <tbody>\n",
       "    <tr>\n",
       "      <th>0</th>\n",
       "      <td>1</td>\n",
       "      <td>8.198230</td>\n",
       "      <td>2.364959</td>\n",
       "    </tr>\n",
       "    <tr>\n",
       "      <th>1</th>\n",
       "      <td>2</td>\n",
       "      <td>5.487048</td>\n",
       "      <td>1.775063</td>\n",
       "    </tr>\n",
       "    <tr>\n",
       "      <th>2</th>\n",
       "      <td>3</td>\n",
       "      <td>5.548005</td>\n",
       "      <td>1.681973</td>\n",
       "    </tr>\n",
       "    <tr>\n",
       "      <th>3</th>\n",
       "      <td>4</td>\n",
       "      <td>6.482946</td>\n",
       "      <td>1.663721</td>\n",
       "    </tr>\n",
       "    <tr>\n",
       "      <th>4</th>\n",
       "      <td>5</td>\n",
       "      <td>6.046926</td>\n",
       "      <td>1.696255</td>\n",
       "    </tr>\n",
       "    <tr>\n",
       "      <th>5</th>\n",
       "      <td>6</td>\n",
       "      <td>6.429304</td>\n",
       "      <td>1.809723</td>\n",
       "    </tr>\n",
       "    <tr>\n",
       "      <th>6</th>\n",
       "      <td>7</td>\n",
       "      <td>6.713398</td>\n",
       "      <td>1.909427</td>\n",
       "    </tr>\n",
       "    <tr>\n",
       "      <th>7</th>\n",
       "      <td>8</td>\n",
       "      <td>14.365711</td>\n",
       "      <td>3.756981</td>\n",
       "    </tr>\n",
       "  </tbody>\n",
       "</table>\n",
       "</div>"
      ],
      "text/plain": [
       "   num_threads  rank_time  triangle_time\n",
       "0            1   8.198230       2.364959\n",
       "1            2   5.487048       1.775063\n",
       "2            3   5.548005       1.681973\n",
       "3            4   6.482946       1.663721\n",
       "4            5   6.046926       1.696255\n",
       "5            6   6.429304       1.809723\n",
       "6            7   6.713398       1.909427\n",
       "7            8  14.365711       3.756981"
      ]
     },
     "execution_count": 8,
     "metadata": {},
     "output_type": "execute_result"
    }
   ],
   "source": [
    "df_little=df_little.groupby(\"num_threads\").mean().reset_index()\n",
    "df_little[[\"num_threads\", \"rank_time\", \"triangle_time\"]]"
   ]
  },
  {
   "cell_type": "code",
   "execution_count": 9,
   "metadata": {},
   "outputs": [],
   "source": [
    "compute_speedup(df_little)"
   ]
  },
  {
   "cell_type": "code",
   "execution_count": 10,
   "metadata": {},
   "outputs": [
    {
     "data": {
      "image/png": "[encoded data removed]",
      "text/plain": [
       "<Figure size 400x300 with 1 Axes>"
      ]
     },
     "metadata": {},
     "output_type": "display_data"
    }
   ],
   "source": [
    "plot_alg(df_little)"
   ]
  },
  {
   "cell_type": "code",
   "execution_count": 11,
   "metadata": {},
   "outputs": [
    {
     "name": "stdout",
     "output_type": "stream",
     "text": [
      "MAX speedup score:\n",
      "num_threads           3.000000\n",
      "n_nodes          334863.000000\n",
      "n_edges          925872.000000\n",
      "density               0.000017\n",
      "rank_time             5.548005\n",
      "triangle_time         1.681973\n",
      "total_time            7.229979\n",
      "tot_speedup           1.461026\n",
      "Name: 2, dtype: float64 \n",
      "\n",
      "MIN speedup score:\n",
      "num_threads           8.000000\n",
      "n_nodes          334863.000000\n",
      "n_edges          925872.000000\n",
      "density               0.000017\n",
      "rank_time            14.365711\n",
      "triangle_time         3.756981\n",
      "total_time           18.122692\n",
      "tot_speedup           0.582871\n",
      "Name: 7, dtype: float64 \n",
      "\n"
     ]
    }
   ],
   "source": [
    "print(\"MAX speedup score:\")\n",
    "print(df_little.drop(columns=['tr_speedup','rank_speedup']).iloc[np.argmax(df_little['tot_speedup'])], '\\n')\n",
    "print(\"MIN speedup score:\")\n",
    "print(df_little.drop(columns=['tr_speedup','rank_speedup']).iloc[np.argmin(df_little['tot_speedup'])], '\\n')"
   ]
  }
 ],
 "metadata": {
  "kernelspec": {
   "display_name": "Python 3",
   "language": "python",
   "name": "python3"
  },
  "language_info": {
   "codemirror_mode": {
    "name": "ipython",
    "version": 3
   },
   "file_extension": ".py",
   "mimetype": "text/x-python",
   "name": "python",
   "nbconvert_exporter": "python",
   "pygments_lexer": "ipython3",
   "version": "3.10.6"
  },
  "orig_nbformat": 4
 },
 "nbformat": 4,
 "nbformat_minor": 2
}
