{
 "cells": [
  {
   "cell_type": "code",
   "execution_count": 1,
   "metadata": {},
   "outputs": [
    {
     "name": "stderr",
     "output_type": "stream",
     "text": [
      "c:\\ProgramData\\mambaforge\\envs\\ML-base\\lib\\site-packages\\pyspark\\pandas\\__init__.py:50: UserWarning: 'PYARROW_IGNORE_TIMEZONE' environment variable was not set. It is required to set this environment variable to '1' in both driver and executor sides if you use pyarrow>=2.0.0. pandas-on-Spark will set it for you but it does not work if there is a Spark context already launched.\n",
      "  warnings.warn(\n"
     ]
    },
    {
     "data": {
      "text/html": [
       "\n",
       "            <div>\n",
       "                <p><b>SparkSession - in-memory</b></p>\n",
       "                \n",
       "        <div>\n",
       "            <p><b>SparkContext</b></p>\n",
       "\n",
       "            <p><a href=\"http://192.168.1.56:4040\">Spark UI</a></p>\n",
       "\n",
       "            <dl>\n",
       "              <dt>Version</dt>\n",
       "                <dd><code>v3.4.0</code></dd>\n",
       "              <dt>Master</dt>\n",
       "                <dd><code>local[*]</code></dd>\n",
       "              <dt>AppName</dt>\n",
       "                <dd><code>MyApp</code></dd>\n",
       "            </dl>\n",
       "        </div>\n",
       "        \n",
       "            </div>\n",
       "        "
      ],
      "text/plain": [
       "<pyspark.sql.session.SparkSession at 0x231c358b490>"
      ]
     },
     "execution_count": 1,
     "metadata": {},
     "output_type": "execute_result"
    }
   ],
   "source": [
    "import os\n",
    "from pyspark.sql import SparkSession\n",
    "from pyspark.sql import functions as F\n",
    "from pyspark.ml.feature import CountVectorizer, IDF, Tokenizer\n",
    "import pyspark.pandas as ps\n",
    "\n",
    "\n",
    "os.environ['PYSPARK_PYTHON'] = 'C:\\ProgramData\\mambaforge\\envs\\ML-base\\python.exe'\n",
    "os.environ['PYSPARK_DRIVER_PYTHON'] = 'C:\\ProgramData\\mambaforge\\envs\\ML-base\\Scripts\\ipython.exe'\n",
    "\n",
    "spark = SparkSession.builder.appName(\"MyApp\").getOrCreate()\n",
    "sc=spark.sparkContext\n",
    "spark"
   ]
  },
  {
   "cell_type": "code",
   "execution_count": 3,
   "metadata": {},
   "outputs": [],
   "source": [
    "from pyspark.sql import SparkSession\n",
    "from pyspark.sql.types import StructType, StructField, IntegerType, StringType, FloatType\n",
    "from pyspark.ml.linalg import SparseVector\n",
    "from scipy.sparse import csr_matrix\n",
    "from scipy.sparse import rand\n",
    "import numpy as np\n",
    "\n",
    "\n",
    "# Create a sample SciPy CSR matrix\n",
    "rows, cols = 5, 10\n",
    "density = 0.2\n",
    "rng = np.random.default_rng()\n",
    "csr = rand(rows, cols, density=density, format=\"csr\", random_state=rng)\n",
    "\n",
    "# Convert the SciPy CSR matrix to an RDD of SparseVectors\n",
    "def csr_to_sparse_vector(csr_row):\n",
    "    return SparseVector(csr_row.shape[1], list(zip(csr_row.indices, csr_row.data)))\n",
    "\n",
    "rdd_sv = spark.sparkContext.parallelize([csr_to_sparse_vector(row) for row in csr])\n",
    "\n",
    "#df = spark.createDataFrame(rdd.map(lambda x: (x,)), schema=schema)\n",
    "\n",
    "# Show the DataFrame\n"
   ]
  },
  {
   "cell_type": "code",
   "execution_count": 5,
   "metadata": {},
   "outputs": [
    {
     "data": {
      "text/plain": [
       "[SparseVector(10, {0: 0.0633, 2: 0.8776, 9: 0.3118}),\n",
       " SparseVector(10, {7: 0.2585}),\n",
       " SparseVector(10, {7: 0.8844}),\n",
       " SparseVector(10, {7: 0.4276, 8: 0.6353}),\n",
       " SparseVector(10, {0: 0.7499, 3: 0.768, 7: 0.5756})]"
      ]
     },
     "execution_count": 5,
     "metadata": {},
     "output_type": "execute_result"
    }
   ],
   "source": [
    "rdd_sv.collect()"
   ]
  },
  {
   "cell_type": "code",
   "execution_count": null,
   "metadata": {},
   "outputs": [],
   "source": [
    "dataset=\"datasets/nfcorpus/corpus.jsonl\""
   ]
  },
  {
   "cell_type": "code",
   "execution_count": null,
   "metadata": {},
   "outputs": [],
   "source": [
    "df_docs=spark.read.json(dataset).select('_id','text')"
   ]
  },
  {
   "cell_type": "code",
   "execution_count": null,
   "metadata": {},
   "outputs": [],
   "source": [
    "#TODO: check lower, stemming etc\n",
    "tokenizer = Tokenizer(inputCol=\"text\", outputCol=\"words\")\n",
    "wordsData = tokenizer.transform(df_docs)\n",
    "\n",
    "tf = CountVectorizer(inputCol=\"words\", outputCol=\"rawFeatures\")\n",
    "tf_data = tf.fit(wordsData).transform(wordsData)\n",
    "\n",
    "idf = IDF(inputCol=\"rawFeatures\", outputCol=\"features\")\n",
    "tf_idf_data = idf.fit(tf_data).transform(tf_data).select(\"_id\", \"features\")"
   ]
  },
  {
   "cell_type": "code",
   "execution_count": null,
   "metadata": {},
   "outputs": [],
   "source": [
    "tf_idf_data.rdd"
   ]
  },
  {
   "cell_type": "code",
   "execution_count": null,
   "metadata": {},
   "outputs": [],
   "source": [
    "tf_idf_data.select(\"features\").first()[0][2]"
   ]
  },
  {
   "cell_type": "code",
   "execution_count": null,
   "metadata": {},
   "outputs": [],
   "source": [
    "n_acc=tf_idf_data.select(\"features\").first()[0].size"
   ]
  },
  {
   "cell_type": "code",
   "execution_count": null,
   "metadata": {},
   "outputs": [],
   "source": [
    "acc = [0.0 for i in range(n_acc)]"
   ]
  },
  {
   "cell_type": "code",
   "execution_count": null,
   "metadata": {},
   "outputs": [],
   "source": [
    "def custom_max(vect):\n",
    "    global acc\n",
    "    for i in range(vect[0].size):\n",
    "        if vect[0][i]>acc[i]:\n",
    "            acc[i]=vect[0][i]"
   ]
  },
  {
   "cell_type": "code",
   "execution_count": null,
   "metadata": {},
   "outputs": [],
   "source": [
    "tf_idf_data.select(\"features\").rdd.foreach(custom_max)"
   ]
  },
  {
   "cell_type": "code",
   "execution_count": null,
   "metadata": {},
   "outputs": [],
   "source": [
    "\n",
    "spark.stop()"
   ]
  },
  {
   "cell_type": "code",
   "execution_count": null,
   "metadata": {},
   "outputs": [],
   "source": [
    "\"\"\" n_acc=tf_idf_data.select(\"features\").first()[0].size\n",
    "max_acc =  sc.[0.0 for i in range(n_acc)]\n",
    "\n",
    "# merge by summing partial_sum and adding 1 to partial_count\n",
    "def mergeValue(acc, vect):\n",
    "    for i in range(vect[0].size):\n",
    "        if vect[0][i]>acc[i]:\n",
    "            acc[i]=vect[0][i]\n",
    "    return acc\n",
    "# merge by summing partial_sums and partial_counts\n",
    "def mergeAccum(acc1, acc2): return [acc1[i] if acc1[i]>acc2[i] else acc2[i] for i in range(len(acc1))]\n",
    "# spark aggregate\n",
    "d_star = tf_idf_data.select(\"features\").rdd.aggregate(max_acc, mergeValue, mergeAccum) \"\"\""
   ]
  }
 ],
 "metadata": {
  "kernelspec": {
   "display_name": "ML-base",
   "language": "python",
   "name": "python3"
  },
  "language_info": {
   "codemirror_mode": {
    "name": "ipython",
    "version": 3
   },
   "file_extension": ".py",
   "mimetype": "text/x-python",
   "name": "python",
   "nbconvert_exporter": "python",
   "pygments_lexer": "ipython3",
   "version": "3.10.11"
  },
  "orig_nbformat": 4
 },
 "nbformat": 4,
 "nbformat_minor": 2
}
