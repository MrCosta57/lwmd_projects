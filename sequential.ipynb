{
 "cells": [
  {
   "attachments": {},
   "cell_type": "markdown",
   "metadata": {},
   "source": [
    "# Learning with Massive Data\n",
    "<p>\n",
    "Assignment 3 - Similarity search for document pairs<br>\n",
    "Giovanni Costa - 880892\n",
    "</p>\n",
    "\n",
    "<p>\n",
    "<b>SEQUENTIAL VERSION</b>\n",
    "</p>"
   ]
  },
  {
   "attachments": {},
   "cell_type": "markdown",
   "metadata": {},
   "source": [
    "Contents:\n",
    "- [Document sparse representation](#doc_repr)\n",
    "- [Sequential Implementation](#s_impl)\n",
    "    - [Exact similarity search](#exact_s)\n",
    "    - [Approximate similarity search](#approx_s)\n",
    "- [Evaluations](#eval)"
   ]
  },
  {
   "cell_type": "code",
   "execution_count": 9,
   "metadata": {},
   "outputs": [],
   "source": [
    "import pandas as pd\n",
    "import numpy as np\n",
    "from utils import compute_sparse_repr, eval_sol\n",
    "from scipy.sparse import load_npz, save_npz\n",
    "from matplotlib import pyplot as plt\n",
    "from sklearn.random_projection import SparseRandomProjection"
   ]
  },
  {
   "attachments": {},
   "cell_type": "markdown",
   "metadata": {},
   "source": [
    "<a id=\"doc_repr\"></a>\n",
    "## Document sparse representation"
   ]
  },
  {
   "cell_type": "code",
   "execution_count": 10,
   "metadata": {},
   "outputs": [],
   "source": [
    "results=\"results/\"\n",
    "datasets=[\"datasets/nfcorpus/corpus.jsonl\", \"datasets/scifact/corpus.jsonl\"]"
   ]
  },
  {
   "cell_type": "code",
   "execution_count": 11,
   "metadata": {},
   "outputs": [],
   "source": [
    "df_docs1=pd.read_json(datasets[0], lines=True)\n",
    "df_docs2=pd.read_json(datasets[1], lines=True)"
   ]
  },
  {
   "cell_type": "code",
   "execution_count": 12,
   "metadata": {},
   "outputs": [
    {
     "name": "stdout",
     "output_type": "stream",
     "text": [
      "<class 'pandas.core.frame.DataFrame'>\n",
      "RangeIndex: 3633 entries, 0 to 3632\n",
      "Data columns (total 4 columns):\n",
      " #   Column    Non-Null Count  Dtype \n",
      "---  ------    --------------  ----- \n",
      " 0   _id       3633 non-null   object\n",
      " 1   title     3633 non-null   object\n",
      " 2   text      3633 non-null   object\n",
      " 3   metadata  3633 non-null   object\n",
      "dtypes: object(4)\n",
      "memory usage: 113.7+ KB\n"
     ]
    }
   ],
   "source": [
    "df_docs1.info()"
   ]
  },
  {
   "cell_type": "code",
   "execution_count": 13,
   "metadata": {},
   "outputs": [
    {
     "name": "stdout",
     "output_type": "stream",
     "text": [
      "<class 'pandas.core.frame.DataFrame'>\n",
      "RangeIndex: 5183 entries, 0 to 5182\n",
      "Data columns (total 4 columns):\n",
      " #   Column    Non-Null Count  Dtype \n",
      "---  ------    --------------  ----- \n",
      " 0   _id       5183 non-null   int64 \n",
      " 1   title     5183 non-null   object\n",
      " 2   text      5183 non-null   object\n",
      " 3   metadata  5183 non-null   object\n",
      "dtypes: int64(1), object(3)\n",
      "memory usage: 162.1+ KB\n"
     ]
    }
   ],
   "source": [
    "df_docs2.info()"
   ]
  },
  {
   "cell_type": "code",
   "execution_count": 14,
   "metadata": {},
   "outputs": [],
   "source": [
    "sparse_repr1, vocab1, idf1=compute_sparse_repr(df_docs1[\"text\"])\n",
    "sparse_repr2, vocab2, idf2=compute_sparse_repr(df_docs2[\"text\"])"
   ]
  },
  {
   "cell_type": "code",
   "execution_count": 15,
   "metadata": {},
   "outputs": [
    {
     "data": {
      "text/plain": [
       "(3633, 18867)"
      ]
     },
     "execution_count": 15,
     "metadata": {},
     "output_type": "execute_result"
    }
   ],
   "source": [
    "sparse_repr1.shape"
   ]
  },
  {
   "cell_type": "code",
   "execution_count": 16,
   "metadata": {},
   "outputs": [],
   "source": [
    "#pd.DataFrame(vocab_1, columns=[\"terms\"]).to_parquet(\"terms_nfcorpus.parquet\")\n",
    "pd.DataFrame(df_docs1[\"_id\"]).to_parquet(results+\"ids_nfcorpus.parquet\")\n",
    "pd.DataFrame(((1+df_docs1.shape[0])/(10**(idf1-1)))-1, columns=[\"df_t\"]).to_parquet(results+\"doc_freq_nfcorpus.parquet\")\n",
    "save_npz(results+\"sparse_repr_nfcorpus.npz\", sparse_repr1)\n",
    "\n",
    "pd.DataFrame(df_docs2[\"_id\"]).to_parquet(results+\"ids_scifact.parquet\")\n",
    "pd.DataFrame(((1+df_docs2.shape[0])/(10**(idf2-1)))-1, columns=[\"df_t\"]).to_parquet(results+\"doc_freq_scifact.parquet\")\n",
    "save_npz(results+\"sparse_repr_scifact.npz\", sparse_repr2)"
   ]
  },
  {
   "attachments": {},
   "cell_type": "markdown",
   "metadata": {},
   "source": [
    "<a id=\"s_impl\"></a>\n",
    "## Sequential Implementation\n",
    "<a id=\"exact_s\"></a>\n",
    "### Exact similarity search"
   ]
  },
  {
   "cell_type": "code",
   "execution_count": 9,
   "metadata": {},
   "outputs": [
    {
     "name": "stdout",
     "output_type": "stream",
     "text": [
      "(3633, 18867)\n",
      "Density ratio: 0.006536315875404127\n"
     ]
    }
   ],
   "source": [
    "sparse_repr1=load_npz(results+\"sparse_repr_nfcorpus.npz\")\n",
    "print(sparse_repr1.shape)\n",
    "print(\"Density ratio:\", sparse_repr1.count_nonzero()/(sparse_repr1.shape[0]*sparse_repr1.shape[1]))"
   ]
  },
  {
   "cell_type": "code",
   "execution_count": 10,
   "metadata": {},
   "outputs": [
    {
     "name": "stdout",
     "output_type": "stream",
     "text": [
      "(5183, 26109)\n",
      "Density ratio: 0.004343720063974072\n"
     ]
    }
   ],
   "source": [
    "sparse_repr2=load_npz(results+\"sparse_repr_scifact.npz\")\n",
    "print(sparse_repr2.shape)\n",
    "print(\"Density ratio:\", sparse_repr2.count_nonzero()/(sparse_repr2.shape[0]*sparse_repr2.shape[1]))"
   ]
  },
  {
   "cell_type": "code",
   "execution_count": 11,
   "metadata": {},
   "outputs": [],
   "source": [
    "thresholds=[0.3, 0.5, 0.8]"
   ]
  },
  {
   "cell_type": "code",
   "execution_count": 12,
   "metadata": {},
   "outputs": [
    {
     "name": "stdout",
     "output_type": "stream",
     "text": [
      "Threshold: 0.3\n",
      "N. of pairs: 13026\n",
      "N. of pairs: 13026\n",
      "N. of pairs: 13026\n",
      "Mean time elapsed: 5.07207179069519\n",
      "\n",
      "Threshold: 0.5\n",
      "N. of pairs: 832\n",
      "N. of pairs: 832\n",
      "N. of pairs: 832\n",
      "Mean time elapsed: 4.316487471262614\n",
      "\n",
      "Threshold: 0.8\n",
      "N. of pairs: 44\n",
      "N. of pairs: 44\n",
      "N. of pairs: 44\n",
      "Mean time elapsed: 4.6432632605234785\n",
      "\n"
     ]
    }
   ],
   "source": [
    "time_list1, pairs_list1=eval_sol(sparse_repr1, df_docs1[\"_id\"], thresholds)"
   ]
  },
  {
   "cell_type": "code",
   "execution_count": 13,
   "metadata": {},
   "outputs": [
    {
     "name": "stdout",
     "output_type": "stream",
     "text": [
      "Threshold: 0.3\n",
      "N. of pairs: 9524\n",
      "N. of pairs: 9524\n",
      "N. of pairs: 9524\n",
      "Mean time elapsed: 8.82019329071045\n",
      "\n",
      "Threshold: 0.5\n",
      "N. of pairs: 729\n",
      "N. of pairs: 729\n",
      "N. of pairs: 729\n",
      "Mean time elapsed: 9.055848280588785\n",
      "\n",
      "Threshold: 0.8\n",
      "N. of pairs: 7\n",
      "N. of pairs: 7\n",
      "N. of pairs: 7\n",
      "Mean time elapsed: 8.524721066157023\n",
      "\n"
     ]
    }
   ],
   "source": [
    "time_list2, pairs_list2=eval_sol(sparse_repr2, df_docs2[\"_id\"], thresholds)"
   ]
  },
  {
   "attachments": {},
   "cell_type": "markdown",
   "metadata": {},
   "source": [
    "<a id=\"approx_s\"></a>\n",
    "### Approximate similarity search\n",
    "(using Sparse Random Projection)"
   ]
  },
  {
   "cell_type": "code",
   "execution_count": 14,
   "metadata": {},
   "outputs": [],
   "source": [
    "epsilon=0.1"
   ]
  },
  {
   "cell_type": "code",
   "execution_count": 15,
   "metadata": {},
   "outputs": [
    {
     "name": "stdout",
     "output_type": "stream",
     "text": [
      "7026\n",
      "0.0072802882585279016\n"
     ]
    }
   ],
   "source": [
    "sr_proj1=SparseRandomProjection(eps=epsilon, random_state=32)\n",
    "sr_proj1.fit(sparse_repr1);\n",
    "print(sr_proj1.n_components_)\n",
    "print(sr_proj1.density_)"
   ]
  },
  {
   "cell_type": "code",
   "execution_count": 16,
   "metadata": {},
   "outputs": [
    {
     "name": "stdout",
     "output_type": "stream",
     "text": [
      "(3633, 7026)\n",
      "Density ratio: 0.5847442580658102\n"
     ]
    }
   ],
   "source": [
    "sparse_repr_approx_srp1=sr_proj1.transform(sparse_repr1)\n",
    "print(sparse_repr_approx_srp1.shape)\n",
    "print(\"Density ratio:\", sparse_repr_approx_srp1.count_nonzero()/(sparse_repr_approx_srp1.shape[0]*sparse_repr_approx_srp1.shape[1]))"
   ]
  },
  {
   "cell_type": "code",
   "execution_count": 17,
   "metadata": {},
   "outputs": [
    {
     "name": "stdout",
     "output_type": "stream",
     "text": [
      "7331\n",
      "0.006188777667238989\n"
     ]
    }
   ],
   "source": [
    "sr_proj2=SparseRandomProjection(eps=epsilon, random_state=32)\n",
    "sr_proj2.fit(sparse_repr2);\n",
    "print(sr_proj2.n_components_)\n",
    "print(sr_proj2.density_)"
   ]
  },
  {
   "cell_type": "code",
   "execution_count": 18,
   "metadata": {},
   "outputs": [
    {
     "name": "stdout",
     "output_type": "stream",
     "text": [
      "(5183, 7331)\n",
      "Density ratio: 0.49419999008857984\n"
     ]
    }
   ],
   "source": [
    "sparse_repr_approx_srp2=sr_proj2.transform(sparse_repr2)\n",
    "print(sparse_repr_approx_srp2.shape)\n",
    "print(\"Density ratio:\", sparse_repr_approx_srp2.count_nonzero()/(sparse_repr_approx_srp2.shape[0]*sparse_repr_approx_srp2.shape[1]))"
   ]
  },
  {
   "cell_type": "code",
   "execution_count": 19,
   "metadata": {},
   "outputs": [
    {
     "name": "stdout",
     "output_type": "stream",
     "text": [
      "Threshold: 0.3\n",
      "N. of pairs: 13782\n",
      "N. of pairs: 13782\n",
      "N. of pairs: 13782\n",
      "Mean time elapsed: 138.38636994361877\n",
      "\n",
      "Threshold: 0.5\n",
      "N. of pairs: 963\n",
      "N. of pairs: 963\n",
      "N. of pairs: 963\n",
      "Mean time elapsed: 97.02835456530254\n",
      "\n",
      "Threshold: 0.8\n",
      "N. of pairs: 45\n",
      "N. of pairs: 45\n",
      "N. of pairs: 45\n",
      "Mean time elapsed: 100.21871733665466\n",
      "\n"
     ]
    }
   ],
   "source": [
    "time_list1_appprox, pairs_list1_approx=eval_sol(sparse_repr_approx_srp1, df_docs1[\"_id\"], thresholds)"
   ]
  },
  {
   "cell_type": "code",
   "execution_count": 20,
   "metadata": {},
   "outputs": [
    {
     "name": "stdout",
     "output_type": "stream",
     "text": [
      "Threshold: 0.3\n",
      "N. of pairs: 9560\n",
      "N. of pairs: 9560\n",
      "N. of pairs: 9560\n",
      "Mean time elapsed: 161.7169984181722\n",
      "\n",
      "Threshold: 0.5\n",
      "N. of pairs: 841\n",
      "N. of pairs: 841\n",
      "N. of pairs: 841\n",
      "Mean time elapsed: 161.16109538078308\n",
      "\n",
      "Threshold: 0.8\n",
      "N. of pairs: 6\n",
      "N. of pairs: 6\n",
      "N. of pairs: 6\n",
      "Mean time elapsed: 158.42339706420898\n",
      "\n"
     ]
    }
   ],
   "source": [
    "time_list2_appprox, pairs_list2_approx=eval_sol(sparse_repr_approx_srp2, df_docs2[\"_id\"], thresholds)"
   ]
  },
  {
   "attachments": {},
   "cell_type": "markdown",
   "metadata": {},
   "source": [
    "<a id=\"eval\"></a>\n",
    "## Results"
   ]
  },
  {
   "cell_type": "code",
   "execution_count": 41,
   "metadata": {},
   "outputs": [
    {
     "name": "stdout",
     "output_type": "stream",
     "text": [
      "Threshold: 0.3\n",
      "Jaccard score: 0.7215515026971487\n",
      "Time for exact solution: [5.0446531772613525, 5.602407932281494, 4.569154262542725]\n",
      "Time for approx solution: [139.88466215133667, 138.89840292930603, 136.37604475021362]\n",
      "\n",
      "Threshold: 0.5\n",
      "Jaccard score: 0.6437728937728938\n",
      "Time for exact solution: [4.264678716659546, 4.290329217910767, 4.394454479217529]\n",
      "Time for approx solution: [102.54280090332031, 93.05330562591553, 95.48895716667175]\n",
      "\n",
      "Threshold: 0.8\n",
      "Jaccard score: 0.8936170212765957\n",
      "Time for exact solution: [4.264760255813599, 4.735339641571045, 4.929689884185791]\n",
      "Time for approx solution: [99.54363107681274, 102.52391338348389, 98.58860754966736]\n",
      "\n"
     ]
    }
   ],
   "source": [
    "for i in range(len(thresholds)):\n",
    "    print(f\"Threshold: {thresholds[i]}\")\n",
    "    exact_set1=set([(e[0], e[1]) for e in pairs_list1[i]])\n",
    "    approx_set1=set([(e[0], e[1]) for e in pairs_list1_approx[i]])\n",
    "    jaccard=len(exact_set1.intersection(approx_set1))/len(exact_set1.union(approx_set1))\n",
    "    print(f\"Jaccard score: {jaccard}\")\n",
    "    print(f\"Time for exact solution: {time_list1[i]}\")\n",
    "    print(f\"Time for approx solution: {time_list1_appprox[i]}\\n\")\n"
   ]
  },
  {
   "cell_type": "code",
   "execution_count": 42,
   "metadata": {},
   "outputs": [
    {
     "name": "stdout",
     "output_type": "stream",
     "text": [
      "Threshold: 0.3\n",
      "Jaccard score: 0.7533994854832782\n",
      "Time for exact solution: [8.810563802719116, 9.178160905838013, 8.471855163574219]\n",
      "Time for approx solution: [156.66780543327332, 165.60336446762085, 162.87982535362244]\n",
      "\n",
      "Threshold: 0.5\n",
      "Jaccard score: 0.5874620829120324\n",
      "Time for exact solution: [8.992414712905884, 9.024078130722046, 9.151051998138428]\n",
      "Time for approx solution: [170.2303969860077, 156.69716024398804, 156.55572891235352]\n",
      "\n",
      "Threshold: 0.8\n",
      "Jaccard score: 0.625\n",
      "Time for exact solution: [8.86352014541626, 8.545639038085938, 8.165004014968872]\n",
      "Time for approx solution: [153.4403212070465, 158.14087867736816, 163.68899130821228]\n",
      "\n"
     ]
    }
   ],
   "source": [
    "for i in range(len(thresholds)):\n",
    "    print(f\"Threshold: {thresholds[i]}\")\n",
    "    exact_set2=set([(e[0], e[1]) for e in pairs_list2[i]])\n",
    "    approx_set2=set([(e[0], e[1]) for e in pairs_list2_approx[i]])\n",
    "    jaccard=len(exact_set2.intersection(approx_set2))/len(exact_set2.union(approx_set2))\n",
    "    print(f\"Jaccard score: {jaccard}\")\n",
    "    print(f\"Time for exact solution: {time_list2[i]}\")\n",
    "    print(f\"Time for approx solution: {time_list2_appprox[i]}\\n\")\n"
   ]
  }
 ],
 "metadata": {
  "kernelspec": {
   "display_name": "ML-base",
   "language": "python",
   "name": "python3"
  },
  "language_info": {
   "codemirror_mode": {
    "name": "ipython",
    "version": 3
   },
   "file_extension": ".py",
   "mimetype": "text/x-python",
   "name": "python",
   "nbconvert_exporter": "python",
   "pygments_lexer": "ipython3",
   "version": "3.10.11"
  },
  "orig_nbformat": 4
 },
 "nbformat": 4,
 "nbformat_minor": 2
}
