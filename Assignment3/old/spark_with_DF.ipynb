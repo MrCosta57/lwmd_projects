{
 "cells": [
  {
   "cell_type": "code",
   "execution_count": null,
   "metadata": {},
   "outputs": [],
   "source": [
    "import os\n",
    "import numpy as np\n",
    "import pandas as pd\n",
    "from pyspark.sql import SparkSession\n",
    "from pyspark.ml.linalg import SparseVector\n",
    "from scipy.sparse import load_npz\n",
    "from typing import Tuple\n",
    "import utils\n",
    "\n",
    "\n",
    "os.environ['PYSPARK_PYTHON'] = 'C:\\ProgramData\\mambaforge\\envs\\ML-base\\python.exe'\n",
    "os.environ['PYSPARK_DRIVER_PYTHON'] = 'C:\\ProgramData\\mambaforge\\envs\\ML-base\\Scripts\\ipython.exe'\n",
    "\n",
    "spark = SparkSession.builder.appName(\"MyApp\").getOrCreate()\n",
    "sc=spark.sparkContext\n",
    "spark"
   ]
  },
  {
   "cell_type": "code",
   "execution_count": null,
   "metadata": {},
   "outputs": [],
   "source": [
    "df_id=pd.read_parquet(\"results/bug_pair_ids.parquet\")\n",
    "df_t=pd.read_parquet(\"results/test_df.parquet\")[\"df_t\"]\n",
    "threshold=0.8"
   ]
  },
  {
   "cell_type": "code",
   "execution_count": null,
   "metadata": {},
   "outputs": [],
   "source": [
    "#toy_df=pd.DataFrame([[\"Hi how are you John?\", 100], [\"Hi how are you John my bro?\", 101], [\"Bro, what girls?\", 102]], columns=[\"text\", \"id\"])"
   ]
  },
  {
   "cell_type": "code",
   "execution_count": null,
   "metadata": {},
   "outputs": [],
   "source": [
    "#toy_df"
   ]
  },
  {
   "cell_type": "code",
   "execution_count": null,
   "metadata": {},
   "outputs": [],
   "source": [
    "\"\"\" sparse_repr, _=utils.compute_sparse_repr(toy_df[\"text\"])\n",
    "pairs, num_of_pairs=utils.compute_cosine_similarity(sparse_repr, toy_df[\"id\"], 0.0)\n",
    "pairs \"\"\""
   ]
  },
  {
   "cell_type": "code",
   "execution_count": null,
   "metadata": {},
   "outputs": [],
   "source": [
    "sparse_repr=load_npz(\"results/bug_pair_ids.npz\")"
   ]
  },
  {
   "cell_type": "code",
   "execution_count": null,
   "metadata": {},
   "outputs": [],
   "source": [
    "doc_feq_sort_idx=np.argsort(df_t.values)[::-1]\n",
    "#doc_feq_sort_idx_sc=sc.broadcast(doc_feq_sort_idx)"
   ]
  },
  {
   "cell_type": "code",
   "execution_count": null,
   "metadata": {},
   "outputs": [],
   "source": [
    "def csr_to_sparse_vector(row):\n",
    "    #id non zero dati da\n",
    "    dtype_tuple=np.dtype([('integer', int), ('float', float)])\n",
    "    tmp=np.empty(row.indices.shape[0], dtype=dtype_tuple)\n",
    "    j=0\n",
    "    for i in doc_feq_sort_idx:\n",
    "        if row[0, i] !=0.0:\n",
    "            tmp[j]=(i, row[0, i])\n",
    "            j+=1\n",
    "    return SparseVector(row.shape[1], tmp.tolist())\n",
    "\n",
    "docs_sparse_forSpark = [csr_to_sparse_vector(sparse_repr.getrow(i)) for i in range(sparse_repr.shape[0])]\n",
    "doc_ids = df_id[\"_id\"].reset_index(drop=True)"
   ]
  },
  {
   "cell_type": "code",
   "execution_count": null,
   "metadata": {},
   "outputs": [],
   "source": [
    "d_star=sparse_repr.max(axis=0).toarray().reshape(-1)"
   ]
  },
  {
   "cell_type": "code",
   "execution_count": null,
   "metadata": {},
   "outputs": [],
   "source": [
    "d_star_sc=sc.broadcast(d_star)\n",
    "rdd_forMap=sc.parallelize([(doc_ids[i], docs_sparse_forSpark[i]) for i in range(sparse_repr.shape[0])])"
   ]
  },
  {
   "cell_type": "code",
   "execution_count": null,
   "metadata": {},
   "outputs": [],
   "source": [
    "def b_d(sparse_repr):\n",
    "    cum_sum=0\n",
    "    res=0\n",
    "    for i in range(sparse_repr.indices.shape[0]):\n",
    "        #if t_idx==18656:\n",
    "        #    print(\"CIAO\")\n",
    "        #if sparse_repr[t_idx]!=0.0:\n",
    "        j=int(i)\n",
    "        res=j\n",
    "        t=int(sparse_repr.indices[j])\n",
    "        mult_val=sparse_repr[t]*d_star_sc.value[t]\n",
    "        cum_sum+=mult_val\n",
    "        if cum_sum>=threshold:\n",
    "            res=j-1\n",
    "            break\n",
    "        \n",
    "    return res\n",
    "\n",
    "\n",
    "def my_map(elem):\n",
    "    #result=[]\n",
    "    doc_id=elem[0]\n",
    "    sparse_repr=elem[1]\n",
    "\n",
    "    bound=b_d(sparse_repr)\n",
    "    result=[(t, (doc_id, sparse_repr)) for t in sparse_repr.indices[bound+1:]] #if sparse_repr[t]!=0.0]\n",
    "    \n",
    "    \"\"\" for i, t_idx in enumerate(sorted_index):\n",
    "        if i>bound:\n",
    "            result.append( (t_idx, (doc_id, sparse_repr)) ) \"\"\"\n",
    "    return result\n",
    "\n",
    "rdd_forReduce=rdd_forMap.flatMap(my_map)\n"
   ]
  },
  {
   "cell_type": "code",
   "execution_count": null,
   "metadata": {},
   "outputs": [],
   "source": [
    "\"\"\" from itertools import chain\n",
    "\n",
    "def flatmap(func, iterable):\n",
    "    return list(chain.from_iterable(map(func, iterable)))\n",
    "\n",
    "iter=flatmap(my_map, rdd_forMap)\n",
    "\n",
    "iter_map=map(my_map, rdd_forMap) \"\"\"\n",
    "#iter"
   ]
  },
  {
   "cell_type": "code",
   "execution_count": null,
   "metadata": {},
   "outputs": [],
   "source": [
    "#tmp=list(iter_map)"
   ]
  },
  {
   "cell_type": "code",
   "execution_count": null,
   "metadata": {},
   "outputs": [],
   "source": [
    "#len(set([i[0] for i in tmp[0]]).intersection(set([i[0] for i in tmp[0]])))"
   ]
  },
  {
   "cell_type": "code",
   "execution_count": null,
   "metadata": {},
   "outputs": [],
   "source": [
    "#[i[0] for i in tmp[0]]"
   ]
  },
  {
   "cell_type": "code",
   "execution_count": null,
   "metadata": {},
   "outputs": [],
   "source": [
    "#max(set([i[0] for i in tmp[0]]).intersection(set([i[0] for i in tmp[0]])))"
   ]
  },
  {
   "cell_type": "code",
   "execution_count": null,
   "metadata": {},
   "outputs": [],
   "source": [
    "#max(set(docs_sparse_forSpark[0].indices).intersection(set(docs_sparse_forSpark[1].indices))) #18656"
   ]
  },
  {
   "cell_type": "code",
   "execution_count": null,
   "metadata": {},
   "outputs": [],
   "source": [
    "def max_of_intersection(list1, list2):\n",
    "    max=0\n",
    "    i = 0\n",
    "    j = 0\n",
    "    while i < len(list1) and j < len(list2):\n",
    "        elem1=list1[i]\n",
    "        elem2=list2[j]\n",
    "\n",
    "        if elem1 == elem2:\n",
    "            if elem1>max:\n",
    "                max=elem1\n",
    "            i += 1\n",
    "            j += 1\n",
    "        elif elem1 < elem2:\n",
    "            i += 1\n",
    "        else:\n",
    "            j += 1\n",
    "\n",
    "    return max\n",
    "\n",
    "\n",
    "def my_reduce(elem):\n",
    "    result=[]\n",
    "    #For directly prune the symmetric pairs \n",
    "    pairs_dict={}\n",
    "    key=elem[0]\n",
    "    values=elem[1]\n",
    "    for id1, d1 in values:\n",
    "        for id2, d2 in values:\n",
    "            if id1!=id2 and (not pairs_dict.get((id2, id1), False)) and key==max_of_intersection(d1.indices, d2.indices):\n",
    "                sim=round(d1.dot(d2), 4) #because vector are already normalized\n",
    "                if sim>=threshold:\n",
    "                    pairs_dict[(id1, id2)]=True\n",
    "                    result.append((id1, id2, sim))\n",
    "\n",
    "    return result\n",
    "\n",
    "result_pairs=rdd_forReduce.groupByKey().flatMap(my_reduce)"
   ]
  },
  {
   "cell_type": "code",
   "execution_count": null,
   "metadata": {},
   "outputs": [],
   "source": [
    "result_pairs.collect()"
   ]
  },
  {
   "cell_type": "code",
   "execution_count": null,
   "metadata": {},
   "outputs": [],
   "source": [
    "#gb=sc.parallelize(iter).groupByKey().mapValues(list).collect()"
   ]
  },
  {
   "cell_type": "code",
   "execution_count": null,
   "metadata": {},
   "outputs": [],
   "source": [
    "#print([i[0] for i in tmp[0]])"
   ]
  },
  {
   "cell_type": "code",
   "execution_count": null,
   "metadata": {},
   "outputs": [],
   "source": [
    "#flatmap(my_reduce, gb)"
   ]
  },
  {
   "cell_type": "code",
   "execution_count": null,
   "metadata": {},
   "outputs": [],
   "source": [
    "#risultato=sc.parallelize(iter).groupByKey().mapValues(list).flatMap(my_reduce).collect()\n",
    "#print(risultato)"
   ]
  },
  {
   "cell_type": "code",
   "execution_count": null,
   "metadata": {},
   "outputs": [],
   "source": [
    "spark.stop()"
   ]
  }
 ],
 "metadata": {
  "kernelspec": {
   "display_name": "ML-base",
   "language": "python",
   "name": "python3"
  },
  "language_info": {
   "codemirror_mode": {
    "name": "ipython",
    "version": 3
   },
   "file_extension": ".py",
   "mimetype": "text/x-python",
   "name": "python",
   "nbconvert_exporter": "python",
   "pygments_lexer": "ipython3",
   "version": "3.10.11"
  },
  "orig_nbformat": 4
 },
 "nbformat": 4,
 "nbformat_minor": 2
}
